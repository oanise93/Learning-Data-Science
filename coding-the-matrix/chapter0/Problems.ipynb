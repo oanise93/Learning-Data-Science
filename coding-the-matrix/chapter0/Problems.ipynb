{
 "cells": [
  {
   "cell_type": "markdown",
   "metadata": {},
   "source": [
    "## Python comprehension problems"
   ]
  },
  {
   "cell_type": "markdown",
   "metadata": {},
   "source": [
    "**Problem 0.8.1**: `increments(L) `  \n",
    "_input_: list `L` of numbers   \n",
    "_ouput_: list of numbers in which the $i^{th}$ element is one plus the $i^{th}$ element of L   \n",
    "_example_: `increments`([1,5,7]) should return [2,6,8]."
   ]
  },
  {
   "cell_type": "code",
   "execution_count": 3,
   "metadata": {
    "collapsed": false
   },
   "outputs": [
    {
     "data": {
      "text/plain": [
       "[2, 6, 8]"
      ]
     },
     "execution_count": 3,
     "metadata": {},
     "output_type": "execute_result"
    }
   ],
   "source": [
    "def increments(L):\n",
    "    return [x+1 for x in L]\n",
    "increments([1, 5, 7])"
   ]
  },
  {
   "cell_type": "markdown",
   "metadata": {},
   "source": [
    "**Problem 0.8.2**: `cubes(L)`\n",
    "_input:_ list `L` of numbers   \n",
    "_output_: list of numbers in which the $i^{th}$ element is the cube of the $i^{th}$ element of `L`.    \n",
    "_example_: given [1, 2, 3] return [1, 8, 27]."
   ]
  },
  {
   "cell_type": "code",
   "execution_count": 4,
   "metadata": {
    "collapsed": false
   },
   "outputs": [
    {
     "data": {
      "text/plain": [
       "[1, 8, 27]"
      ]
     },
     "execution_count": 4,
     "metadata": {},
     "output_type": "execute_result"
    }
   ],
   "source": [
    "def cubes(L):\n",
    "    return [x**3 for x in L]\n",
    "cubes([1, 2, 3])"
   ]
  },
  {
   "cell_type": "markdown",
   "metadata": {},
   "source": [
    "**Problem 0.8.3**: `tuple_sum(A, B)`  \n",
    "_input_: lists `A` and `B` of the same length, where each element in each list is a pair ($x$, $y$) of numbers    \n",
    "_output_: list of pairs ($x$, $y$) in which the first element of the $i^{th}$ pair is the sum of the first element of the $i^{th}$ pair in A and the first element of the $i^{th}$ pair in `B`   \n",
    "_example_: given lists [(1, 2), (10, 20)] and [(3, 4), (30, 40)], return [(4, 6), (40, 60)]."
   ]
  },
  {
   "cell_type": "code",
   "execution_count": 9,
   "metadata": {
    "collapsed": false
   },
   "outputs": [
    {
     "data": {
      "text/plain": [
       "[(4, 6), (40, 60)]"
      ]
     },
     "execution_count": 9,
     "metadata": {},
     "output_type": "execute_result"
    }
   ],
   "source": [
    "def tuple_sum(A, B):\n",
    "    return [(x[0]+ y[0], x[1] + y[1]) for (x, y) in list(zip(A, B))]\n",
    "\n",
    "tuple_sum([(1, 2), (10, 20)], [(3, 4), (30, 40)])"
   ]
  },
  {
   "cell_type": "markdown",
   "metadata": {},
   "source": [
    "**Problem 0.8.4**: `inv_dict(d)`\n",
    "_input_: dictionary `d` representing an invertible function `f`   \n",
    "_output_: dictionary representing the inverse of `f`, the returned dictionary’s keys are the values of `d` and its values are the keys of `d`   \n",
    "_example_: given an English-French dictionary   \n",
    "`{'thank you': 'merci', 'goodbye': 'au revoir'}` return a French-English dictionary   \n",
    "`{'merci':'thank you', 'au revoir':'goodbye'}`   "
   ]
  },
  {
   "cell_type": "code",
   "execution_count": 12,
   "metadata": {
    "collapsed": false
   },
   "outputs": [
    {
     "data": {
      "text/plain": [
       "{'au revoir': 'goodbye', 'merci': 'thank you'}"
      ]
     },
     "execution_count": 12,
     "metadata": {},
     "output_type": "execute_result"
    }
   ],
   "source": [
    "def inv_dict(d):\n",
    "    return {v:k for k, v in d.items()}\n",
    "\n",
    "inv_dict({'thank you': 'merci', 'goodbye': 'au revoir'})"
   ]
  },
  {
   "cell_type": "markdown",
   "metadata": {},
   "source": [
    "__Problem 0.8.5__: First write a procedure `row(p, n)` with the following spec: \n",
    "* input: integer p, integer n\n",
    "* output: n-element list such that element i is p + i\n",
    "* example: given p = 10 and n = 4, return [10, 11, 12, 13]\n",
    "\n",
    "\n",
    "Next write a comprehension whose value is a 15-element list of 20-element lists such that the $j^{th}$ element of the ith list is $i + j$. You can use `row(p, n)` in your comprehension.   \n",
    "\n",
    "Finally, write the same comprehension but without using `row(p, n)`. Hint: replace the call to `row(p, n)` with the comprehension that forms the body of `row(p, n)`."
   ]
  },
  {
   "cell_type": "code",
   "execution_count": 18,
   "metadata": {
    "collapsed": false
   },
   "outputs": [
    {
     "name": "stdout",
     "output_type": "stream",
     "text": [
      "[10, 11, 12, 13]\n",
      "[[0, 1, 2, 3, 4, 5, 6, 7, 8, 9, 10, 11, 12, 13, 14, 15, 16, 17, 18, 19], [1, 2, 3, 4, 5, 6, 7, 8, 9, 10, 11, 12, 13, 14, 15, 16, 17, 18, 19, 20], [2, 3, 4, 5, 6, 7, 8, 9, 10, 11, 12, 13, 14, 15, 16, 17, 18, 19, 20, 21], [3, 4, 5, 6, 7, 8, 9, 10, 11, 12, 13, 14, 15, 16, 17, 18, 19, 20, 21, 22], [4, 5, 6, 7, 8, 9, 10, 11, 12, 13, 14, 15, 16, 17, 18, 19, 20, 21, 22, 23], [5, 6, 7, 8, 9, 10, 11, 12, 13, 14, 15, 16, 17, 18, 19, 20, 21, 22, 23, 24], [6, 7, 8, 9, 10, 11, 12, 13, 14, 15, 16, 17, 18, 19, 20, 21, 22, 23, 24, 25], [7, 8, 9, 10, 11, 12, 13, 14, 15, 16, 17, 18, 19, 20, 21, 22, 23, 24, 25, 26], [8, 9, 10, 11, 12, 13, 14, 15, 16, 17, 18, 19, 20, 21, 22, 23, 24, 25, 26, 27], [9, 10, 11, 12, 13, 14, 15, 16, 17, 18, 19, 20, 21, 22, 23, 24, 25, 26, 27, 28], [10, 11, 12, 13, 14, 15, 16, 17, 18, 19, 20, 21, 22, 23, 24, 25, 26, 27, 28, 29], [11, 12, 13, 14, 15, 16, 17, 18, 19, 20, 21, 22, 23, 24, 25, 26, 27, 28, 29, 30], [12, 13, 14, 15, 16, 17, 18, 19, 20, 21, 22, 23, 24, 25, 26, 27, 28, 29, 30, 31], [13, 14, 15, 16, 17, 18, 19, 20, 21, 22, 23, 24, 25, 26, 27, 28, 29, 30, 31, 32], [14, 15, 16, 17, 18, 19, 20, 21, 22, 23, 24, 25, 26, 27, 28, 29, 30, 31, 32, 33]]\n",
      "[[0, 1, 2, 3, 4, 5, 6, 7, 8, 9, 10, 11, 12, 13, 14, 15, 16, 17, 18, 19], [1, 2, 3, 4, 5, 6, 7, 8, 9, 10, 11, 12, 13, 14, 15, 16, 17, 18, 19, 20], [2, 3, 4, 5, 6, 7, 8, 9, 10, 11, 12, 13, 14, 15, 16, 17, 18, 19, 20, 21], [3, 4, 5, 6, 7, 8, 9, 10, 11, 12, 13, 14, 15, 16, 17, 18, 19, 20, 21, 22], [4, 5, 6, 7, 8, 9, 10, 11, 12, 13, 14, 15, 16, 17, 18, 19, 20, 21, 22, 23], [5, 6, 7, 8, 9, 10, 11, 12, 13, 14, 15, 16, 17, 18, 19, 20, 21, 22, 23, 24], [6, 7, 8, 9, 10, 11, 12, 13, 14, 15, 16, 17, 18, 19, 20, 21, 22, 23, 24, 25], [7, 8, 9, 10, 11, 12, 13, 14, 15, 16, 17, 18, 19, 20, 21, 22, 23, 24, 25, 26], [8, 9, 10, 11, 12, 13, 14, 15, 16, 17, 18, 19, 20, 21, 22, 23, 24, 25, 26, 27], [9, 10, 11, 12, 13, 14, 15, 16, 17, 18, 19, 20, 21, 22, 23, 24, 25, 26, 27, 28], [10, 11, 12, 13, 14, 15, 16, 17, 18, 19, 20, 21, 22, 23, 24, 25, 26, 27, 28, 29], [11, 12, 13, 14, 15, 16, 17, 18, 19, 20, 21, 22, 23, 24, 25, 26, 27, 28, 29, 30], [12, 13, 14, 15, 16, 17, 18, 19, 20, 21, 22, 23, 24, 25, 26, 27, 28, 29, 30, 31], [13, 14, 15, 16, 17, 18, 19, 20, 21, 22, 23, 24, 25, 26, 27, 28, 29, 30, 31, 32], [14, 15, 16, 17, 18, 19, 20, 21, 22, 23, 24, 25, 26, 27, 28, 29, 30, 31, 32, 33]]\n"
     ]
    }
   ],
   "source": [
    "def row(p, n):\n",
    "    return [p + i for i in range(0, n)]\n",
    "\n",
    "print(row(10, 4))\n",
    "\n",
    "print([row(i, 20) for i in range(0, 15)])\n",
    "\n",
    "print([[i + j for j in range(0, 20)] for i in range(0, 15)])"
   ]
  },
  {
   "cell_type": "markdown",
   "metadata": {},
   "source": [
    "## Functional inverse"
   ]
  },
  {
   "cell_type": "markdown",
   "metadata": {},
   "source": [
    "**Problem 0.8.6**: Is the following function invertible? If yes, explain why. If not, can you change domain and/or codomain of the function to make it invertible? Provide the drawing.\n",
    "\n",
    "<img src=\"problem0.8.6.png\">\n",
    "\n",
    "\n",
    "Yes, it is invertiable because it is both one-to-one and on-to\n"
   ]
  },
  {
   "cell_type": "markdown",
   "metadata": {},
   "source": [
    "**Problem 0.8.6**: Is the following function invertible? If yes, explain why. If not, can you change domain and/or codomain of the function to make it invertible? Provide the drawing.\n",
    "\n",
    "<img src=\"problem0.8.7.png\">\n",
    "\n",
    "The function above is one-to-one but it is not onto.\n",
    "\n",
    "<img src=\"problem0.8.7_solution.png\">"
   ]
  },
  {
   "cell_type": "markdown",
   "metadata": {},
   "source": [
    "## Functional composition"
   ]
  },
  {
   "cell_type": "markdown",
   "metadata": {},
   "source": [
    "**Problem 0.8.8:** Let $f : \\mathbb{R} \\to \\mathbb{R}$ where $f(x) = abs(x)$. Is there a choice of domain and co-domain for the function g(x) with rule $g(x) = \\sqrt{x}$ such that g ◦ f is defined? If so, specify it. If not, explain why not. Could you change domain and/or codomain of f or g so that g ◦ f will be defined?\n",
    "\n",
    "Yes,  domain = {$x \\in \\mathbb{R}: x \\geq 0 $}; co-domain = {$g(x) \\in \\mathbb{R}$}\n",
    "\n"
   ]
  },
  {
   "cell_type": "markdown",
   "metadata": {},
   "source": [
    "**Problem 0.8.9**: Consider functions f and g in the following figure:   \n",
    "<img src=\"problem0.8.9.png\">\n",
    "\n",
    "Is $f ◦ g$ defined? If so, draw it, otherwise explain why not.\n",
    "\n",
    "$f ◦ g$ is not defined. The image of $g$ is not in the domain of $f$."
   ]
  },
  {
   "cell_type": "markdown",
   "metadata": {},
   "source": [
    "## Probability"
   ]
  },
  {
   "cell_type": "markdown",
   "metadata": {},
   "source": [
    "**Problem 0.8.10**: A function $f(x) = x+1$ with domain {1, 2, 3, 5, 6} and codomain {2, 3, 4, 6, 7} has the following probability function on its domain: Pr(1) = 0.5, Pr(2) = 0.2 and Pr(3) = Pr(5) = Pr(6) = 0.1. What is the probability of getting an even number as an output of $f(x)$? An odd number?\n",
    "\n",
    "even = Pr(1) + Pr(3) + Pr(5) = 0.5 + 0.1 + 0.1 = 0.7   \n",
    "odd = Pr(2) + Pr(6) = 0.2 + 0.1 = 0.3"
   ]
  },
  {
   "cell_type": "markdown",
   "metadata": {},
   "source": [
    "**Problem 0.8.11:** A function $g(x) = x mod 3$ with domain {1,2,3,4,5,6,7} and codomain {0, 1, 2} has the following probability function on its domain: Pr(1) = Pr(2) = Pr(3) = 0.2 and Pr(4) = Pr(5) = Pr(6) = Pr(7) = 0.1. What is the probability of getting 1 as an output of g(x)? What is the probability of getting 0 or 2?\n",
    "\n",
    "Pr(g(x) = 0) = Pr(3) + Pr(6) = 0.2 + 0.1 = 0.3   \n",
    "Pr(g(x) = 1) = Pr(1) + Pr(4) + Pr(7) = 0.2 + 0.1 + 0.1 = 0.4   \n",
    "Pr(g(x) = 2) = Pr(2) + Pr(5) = 0.2 + 0.1 = 0.3"
   ]
  }
 ],
 "metadata": {
  "anaconda-cloud": {},
  "kernelspec": {
   "display_name": "Python [conda env:venv]",
   "language": "python",
   "name": "conda-env-venv-py"
  },
  "language_info": {
   "codemirror_mode": {
    "name": "ipython",
    "version": 3
   },
   "file_extension": ".py",
   "mimetype": "text/x-python",
   "name": "python",
   "nbconvert_exporter": "python",
   "pygments_lexer": "ipython3",
   "version": "3.5.2"
  }
 },
 "nbformat": 4,
 "nbformat_minor": 1
}
