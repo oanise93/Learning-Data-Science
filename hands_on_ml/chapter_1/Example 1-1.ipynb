{
 "cells": [
  {
   "cell_type": "code",
   "execution_count": 9,
   "metadata": {
    "collapsed": true
   },
   "outputs": [],
   "source": [
    "import matplotlib\n",
    "import matplotlib.pyplot as plt\n",
    "import numpy as np\n",
    "import pandas as pd\n",
    "from sklearn.linear_model import LinearRegression\n",
    "from sklearn.neighbors import KNeighborsRegressor"
   ]
  },
  {
   "cell_type": "code",
   "execution_count": 10,
   "metadata": {
    "collapsed": false
   },
   "outputs": [],
   "source": [
    "# Load the data\n",
    "oecd_bli = pd.read_csv(\"oecd_bli_2016.csv\", thousands=\",\",)\n",
    "gpd_per_capita = pd.read_csv(\"gdp_per_capita.csv\", thousands=\",\",\n",
    "                             delimiter=\"\\t\", encoding=\"latin1\", \n",
    "                             na_values=\"n/a\")"
   ]
  },
  {
   "cell_type": "code",
   "execution_count": 11,
   "metadata": {
    "collapsed": false
   },
   "outputs": [],
   "source": [
    "# Prepare the data\n",
    "oecd_bli = oecd_bli[(oecd_bli['INEQUALITY'] == 'TOT') & (oecd_bli['Indicator'] == 'Life satisfaction')]\n",
    "oecd_bli = oecd_bli[['Country', 'Value']]\n",
    "gpd_per_capita = gpd_per_capita[['Country', '2015']]\n",
    "country_stats = pd.merge(oecd_bli, gpd_per_capita, on='Country', how='inner')\n",
    "\n",
    "# Renaming columns\n",
    "country_stats.rename(columns={'2015': 'GDP per capita', 'Value':'Life satisfaction'}, inplace=True)\n",
    "country_stats\n",
    "\n",
    "x = np.c_[country_stats['GDP per capita']]\n",
    "y = np.c_[country_stats['Life satisfaction']]"
   ]
  },
  {
   "cell_type": "code",
   "execution_count": 12,
   "metadata": {
    "collapsed": false
   },
   "outputs": [
    {
     "data": {
      "image/png": "[encoded data removed]",
      "text/plain": [
       "<matplotlib.figure.Figure at 0x10ebf7ac8>"
      ]
     },
     "metadata": {},
     "output_type": "display_data"
    }
   ],
   "source": [
    "# Visualize the data\n",
    "country_stats.plot(kind='scatter', x=\"GDP per capita\", y='Life satisfaction')\n",
    "plt.show()"
   ]
  },
  {
   "cell_type": "code",
   "execution_count": 13,
   "metadata": {
    "collapsed": false
   },
   "outputs": [
    {
     "name": "stdout",
     "output_type": "stream",
     "text": [
      "[[ 6.2228105]]\n"
     ]
    }
   ],
   "source": [
    "# Select a linear model\n",
    "lin_reg_model = LinearRegression()\n",
    "\n",
    "# Train the model\n",
    "lin_reg_model.fit(x, y)\n",
    "\n",
    "# Make a prediction for Cyprus\n",
    "\n",
    "X_new = [[22587]]\n",
    "print(lin_reg_model.predict(X_new))"
   ]
  },
  {
   "cell_type": "code",
   "execution_count": 16,
   "metadata": {
    "collapsed": false
   },
   "outputs": [
    {
     "name": "stdout",
     "output_type": "stream",
     "text": [
      "[[ 5.73333333]]\n"
     ]
    }
   ],
   "source": [
    "# Attempt with K Nearest Neighbors\n",
    "clf = KNeighborsRegressor(n_neighbors=3)\n",
    "clf.fit(x,y)\n",
    "print(clf.predict(X_new))"
   ]
  }
 ],
 "metadata": {
  "anaconda-cloud": {},
  "kernelspec": {
   "display_name": "Python [conda env:venv]",
   "language": "python",
   "name": "conda-env-venv-py"
  },
  "language_info": {
   "codemirror_mode": {
    "name": "ipython",
    "version": 3
   },
   "file_extension": ".py",
   "mimetype": "text/x-python",
   "name": "python",
   "nbconvert_exporter": "python",
   "pygments_lexer": "ipython3",
   "version": "3.5.2"
  }
 },
 "nbformat": 4,
 "nbformat_minor": 1
}
