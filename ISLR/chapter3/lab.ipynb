{
 "cells": [
  {
   "cell_type": "markdown",
   "metadata": {},
   "source": [
    "# Linear Regression "
   ]
  },
  {
   "cell_type": "markdown",
   "metadata": {},
   "source": [
    "## Setup "
   ]
  },
  {
   "cell_type": "code",
   "execution_count": 16,
   "metadata": {
    "collapsed": false
   },
   "outputs": [
    {
     "data": {
      "text/html": [
       "<div>\n",
       "<table border=\"1\" class=\"dataframe\">\n",
       "  <thead>\n",
       "    <tr style=\"text-align: right;\">\n",
       "      <th></th>\n",
       "      <th>crim</th>\n",
       "      <th>zn</th>\n",
       "      <th>indus</th>\n",
       "      <th>chas</th>\n",
       "      <th>nox</th>\n",
       "      <th>rm</th>\n",
       "      <th>age</th>\n",
       "      <th>dis</th>\n",
       "      <th>rad</th>\n",
       "      <th>tax</th>\n",
       "      <th>ptratio</th>\n",
       "      <th>black</th>\n",
       "      <th>lstat</th>\n",
       "      <th>medv</th>\n",
       "    </tr>\n",
       "  </thead>\n",
       "  <tbody>\n",
       "    <tr>\n",
       "      <th>0</th>\n",
       "      <td>0.00632</td>\n",
       "      <td>18.0</td>\n",
       "      <td>2.31</td>\n",
       "      <td>0</td>\n",
       "      <td>0.538</td>\n",
       "      <td>6.575</td>\n",
       "      <td>65.2</td>\n",
       "      <td>4.0900</td>\n",
       "      <td>1</td>\n",
       "      <td>296</td>\n",
       "      <td>15.3</td>\n",
       "      <td>396.90</td>\n",
       "      <td>4.98</td>\n",
       "      <td>24.0</td>\n",
       "    </tr>\n",
       "    <tr>\n",
       "      <th>1</th>\n",
       "      <td>0.02731</td>\n",
       "      <td>0.0</td>\n",
       "      <td>7.07</td>\n",
       "      <td>0</td>\n",
       "      <td>0.469</td>\n",
       "      <td>6.421</td>\n",
       "      <td>78.9</td>\n",
       "      <td>4.9671</td>\n",
       "      <td>2</td>\n",
       "      <td>242</td>\n",
       "      <td>17.8</td>\n",
       "      <td>396.90</td>\n",
       "      <td>9.14</td>\n",
       "      <td>21.6</td>\n",
       "    </tr>\n",
       "    <tr>\n",
       "      <th>2</th>\n",
       "      <td>0.02729</td>\n",
       "      <td>0.0</td>\n",
       "      <td>7.07</td>\n",
       "      <td>0</td>\n",
       "      <td>0.469</td>\n",
       "      <td>7.185</td>\n",
       "      <td>61.1</td>\n",
       "      <td>4.9671</td>\n",
       "      <td>2</td>\n",
       "      <td>242</td>\n",
       "      <td>17.8</td>\n",
       "      <td>392.83</td>\n",
       "      <td>4.03</td>\n",
       "      <td>34.7</td>\n",
       "    </tr>\n",
       "    <tr>\n",
       "      <th>3</th>\n",
       "      <td>0.03237</td>\n",
       "      <td>0.0</td>\n",
       "      <td>2.18</td>\n",
       "      <td>0</td>\n",
       "      <td>0.458</td>\n",
       "      <td>6.998</td>\n",
       "      <td>45.8</td>\n",
       "      <td>6.0622</td>\n",
       "      <td>3</td>\n",
       "      <td>222</td>\n",
       "      <td>18.7</td>\n",
       "      <td>394.63</td>\n",
       "      <td>2.94</td>\n",
       "      <td>33.4</td>\n",
       "    </tr>\n",
       "    <tr>\n",
       "      <th>4</th>\n",
       "      <td>0.06905</td>\n",
       "      <td>0.0</td>\n",
       "      <td>2.18</td>\n",
       "      <td>0</td>\n",
       "      <td>0.458</td>\n",
       "      <td>7.147</td>\n",
       "      <td>54.2</td>\n",
       "      <td>6.0622</td>\n",
       "      <td>3</td>\n",
       "      <td>222</td>\n",
       "      <td>18.7</td>\n",
       "      <td>396.90</td>\n",
       "      <td>5.33</td>\n",
       "      <td>36.2</td>\n",
       "    </tr>\n",
       "  </tbody>\n",
       "</table>\n",
       "</div>"
      ],
      "text/plain": [
       "      crim    zn  indus  chas    nox     rm   age     dis  rad  tax  ptratio  \\\n",
       "0  0.00632  18.0   2.31     0  0.538  6.575  65.2  4.0900    1  296     15.3   \n",
       "1  0.02731   0.0   7.07     0  0.469  6.421  78.9  4.9671    2  242     17.8   \n",
       "2  0.02729   0.0   7.07     0  0.469  7.185  61.1  4.9671    2  242     17.8   \n",
       "3  0.03237   0.0   2.18     0  0.458  6.998  45.8  6.0622    3  222     18.7   \n",
       "4  0.06905   0.0   2.18     0  0.458  7.147  54.2  6.0622    3  222     18.7   \n",
       "\n",
       "    black  lstat  medv  \n",
       "0  396.90   4.98  24.0  \n",
       "1  396.90   9.14  21.6  \n",
       "2  392.83   4.03  34.7  \n",
       "3  394.63   2.94  33.4  \n",
       "4  396.90   5.33  36.2  "
      ]
     },
     "execution_count": 16,
     "metadata": {},
     "output_type": "execute_result"
    }
   ],
   "source": [
    "import pandas as pd\n",
    "import matplotlib.pyplot as plt\n",
    "%matplotlib inline \n",
    "boston_df = pd.read_csv('../data/boston.csv')\n",
    "boston_df.drop('Unnamed: 0', inplace=True, axis=1)\n",
    "boston_df.head()"
   ]
  },
  {
   "cell_type": "markdown",
   "metadata": {},
   "source": [
    "## Simple Linear Regression "
   ]
  },
  {
   "cell_type": "code",
   "execution_count": 42,
   "metadata": {
    "collapsed": false
   },
   "outputs": [],
   "source": [
    "# doing simple linear regression\n",
    "# response: medv (median house value)\n",
    "# predictor: lstat (proportion of population that is lower status)\n",
    "from sklearn.linear_model import LinearRegression\n",
    "\n",
    "lin_reg = LinearRegression()\n",
    "X = boston_df['lstat'].values.reshape(-1,1)\n",
    "y = boston_df['medv']\n",
    "lin_reg.fit(X, y)\n",
    "y_pred = lin_reg.predict(X)"
   ]
  },
  {
   "cell_type": "code",
   "execution_count": 14,
   "metadata": {
    "collapsed": false
   },
   "outputs": [
    {
     "name": "stdout",
     "output_type": "stream",
     "text": [
      "Intercept: 34.5538408793831\n",
      "Coefficients: [-0.95004935]\n",
      "Residuals: 19472.38141832644\n",
      "F-statistic: [ 601.61787111]\n",
      "p-value: [  5.08110339e-88]\n"
     ]
    },
    {
     "name": "stderr",
     "output_type": "stream",
     "text": [
      "/Library/Frameworks/Python.framework/Versions/3.5/lib/python3.5/site-packages/sklearn/utils/deprecation.py:70: DeprecationWarning: Function residues_ is deprecated; ``residues_`` is deprecated and will be removed in 0.19\n",
      "  warnings.warn(msg, category=DeprecationWarning)\n"
     ]
    }
   ],
   "source": [
    "from sklearn.feature_selection import f_regression\n",
    "\n",
    "f_statistic, p_value = f_regression(X, y)\n",
    "\n",
    "\n",
    "print('Intercept: {}'.format(lin_reg.intercept_))\n",
    "print('Coefficients: {}'.format(str(lin_reg.coef_)))\n",
    "print('Residuals: {}'.format(lin_reg.residues_))\n",
    "print('F-statistic: {}'.format(f_statistic))\n",
    "print('p-value: {}'.format(p_value))"
   ]
  },
  {
   "cell_type": "code",
   "execution_count": 43,
   "metadata": {
    "collapsed": false
   },
   "outputs": [
    {
     "data": {
      "image/png": "[encoded data removed]",
      "text/plain": [
       "<matplotlib.figure.Figure at 0x10c8bdda0>"
      ]
     },
     "metadata": {},
     "output_type": "display_data"
    }
   ],
   "source": [
    "# plotting the true value and the least squares regression line\n",
    "plt.scatter(X, y, color='red')\n",
    "plt.plot(X, y_pred, '-')\n",
    "plt.show()"
   ]
  },
  {
   "cell_type": "code",
   "execution_count": 44,
   "metadata": {
    "collapsed": false
   },
   "outputs": [
    {
     "data": {
      "text/plain": [
       "38.48296722989415"
      ]
     },
     "execution_count": 44,
     "metadata": {},
     "output_type": "execute_result"
    }
   ],
   "source": [
    "from sklearn.metrics import mean_squared_error\n",
    "mean_squared_error(y, y_pred)"
   ]
  },
  {
   "cell_type": "markdown",
   "metadata": {},
   "source": [
    "## Multiple Linear Regression "
   ]
  },
  {
   "cell_type": "code",
   "execution_count": 49,
   "metadata": {
    "collapsed": false
   },
   "outputs": [
    {
     "data": {
      "text/plain": [
       "LinearRegression(copy_X=True, fit_intercept=True, n_jobs=1, normalize=False)"
      ]
     },
     "execution_count": 49,
     "metadata": {},
     "output_type": "execute_result"
    }
   ],
   "source": [
    "# fitting linear regression model with age and lstat as predictors\n",
    "X = boston_df[['age', 'lstat']]\n",
    "names = ['age', 'lstat']\n",
    "lin_reg.fit(X, y)"
   ]
  },
  {
   "cell_type": "code",
   "execution_count": 50,
   "metadata": {
    "collapsed": false
   },
   "outputs": [
    {
     "name": "stdout",
     "output_type": "stream",
     "text": [
      "Intercept: 33.2227605317929\n",
      "Coefficients:\n",
      "\tage: 0.03454433857164599\n",
      "\tlstat: -1.0320685641826008\n",
      "Residuals: 19168.128608760813\n",
      "F-statistic:\n",
      "\tage: 83.47745921923611\n",
      "\tlstat: 601.6178711098958\n",
      "p-values:\n",
      "\tage: 1.5699822091882311e-18\n",
      "\tlstat: 5.081103394387701e-88\n"
     ]
    },
    {
     "name": "stderr",
     "output_type": "stream",
     "text": [
      "/Library/Frameworks/Python.framework/Versions/3.5/lib/python3.5/site-packages/sklearn/utils/deprecation.py:70: DeprecationWarning: Function residues_ is deprecated; ``residues_`` is deprecated and will be removed in 0.19\n",
      "  warnings.warn(msg, category=DeprecationWarning)\n"
     ]
    }
   ],
   "source": [
    "# computing p-values and f-statistics to see if there is a relationship\n",
    "f_statistics, p_values = f_regression(X, y)\n",
    "\n",
    "\n",
    "print('Intercept: {}'.format(lin_reg.intercept_))\n",
    "print('Coefficients:')\n",
    "for i in range (0, len(lin_reg.coef_)):\n",
    "    print('\\t{}: {}'.format(names[i], lin_reg.coef_[i]))\n",
    "print('Residuals: {}'.format(lin_reg.residues_))\n",
    "print('F-statistic:')\n",
    "for i in range (0, len(f_statistics)):\n",
    "    print('\\t{}: {}'.format(names[i], f_statistics[i]))\n",
    "print('p-values:')\n",
    "for i in range (0, len(p_values)):\n",
    "    print('\\t{}: {}'.format(names[i], p_values[i]))"
   ]
  },
  {
   "cell_type": "code",
   "execution_count": 51,
   "metadata": {
    "collapsed": false
   },
   "outputs": [
    {
     "data": {
      "text/plain": [
       "0.5512689379421003"
      ]
     },
     "execution_count": 51,
     "metadata": {},
     "output_type": "execute_result"
    }
   ],
   "source": [
    "# calculating r^2\n",
    "from sklearn.metrics import r2_score\n",
    "y_pred = lin_reg.predict(X)\n",
    "\n",
    "r2_score(y, y_pred)"
   ]
  },
  {
   "cell_type": "code",
   "execution_count": 29,
   "metadata": {
    "collapsed": false
   },
   "outputs": [
    {
     "data": {
      "text/plain": [
       "LinearRegression(copy_X=True, fit_intercept=True, n_jobs=1, normalize=False)"
      ]
     },
     "execution_count": 29,
     "metadata": {},
     "output_type": "execute_result"
    }
   ],
   "source": [
    "# fitting linear regression model with all the available features\n",
    "X = boston_df.drop('medv', axis=1)\n",
    "lin_reg.fit(X, y)"
   ]
  },
  {
   "cell_type": "code",
   "execution_count": 37,
   "metadata": {
    "collapsed": false
   },
   "outputs": [
    {
     "name": "stdout",
     "output_type": "stream",
     "text": [
      "Intercept: 36.45948838508971\n",
      "Coefficients:\n",
      "\tcrim: -0.10801135783679792\n",
      "\tzn: 0.046420458366880524\n",
      "\tindus: 0.020558626367069278\n",
      "\tchas: 2.6867338193448718\n",
      "\tnox: -17.76661122829994\n",
      "\trm: 3.8098652068092287\n",
      "\tage: 0.0006922246403486945\n",
      "\tdis: -1.4755668456002575\n",
      "\trad: 0.3060494789851716\n",
      "\ttax: -0.012334593916574843\n",
      "\tptratio: -0.952747231707289\n",
      "\tblack: 0.009311683273793692\n",
      "\tlstat: -0.5247583778554882\n",
      "Residuals: 11078.784577954977\n",
      "F-statistic:\n",
      "\tcrim: 89.48611475768088\n",
      "\tzn: 75.25764229895438\n",
      "\tindus: 153.9548831361092\n",
      "\tchas: 15.971512420371939\n",
      "\tnox: 112.59148027969938\n",
      "\trm: 471.8467398763848\n",
      "\tage: 83.47745921923611\n",
      "\tdis: 33.57957032590528\n",
      "\trad: 85.91427766984026\n",
      "\ttax: 141.76135657742324\n",
      "\tptratio: 175.10554287569477\n",
      "\tblack: 63.054229112492784\n",
      "\tlstat: 601.6178711098958\n",
      "p-values:\n",
      "\tcrim: 1.1739870821946067e-19\n",
      "\tzn: 5.713584153080914e-17\n",
      "\tindus: 4.900259981753171e-31\n",
      "\tchas: 7.390623170520815e-05\n",
      "\tnox: 7.065041586254333e-24\n",
      "\trm: 2.4872288710092848e-74\n",
      "\tage: 1.5699822091882311e-18\n",
      "\tdis: 1.206611727337284e-08\n",
      "\trad: 5.465932569649654e-19\n",
      "\ttax: 5.637733627691017e-29\n",
      "\tptratio: 1.6095094784734818e-34\n",
      "\tblack: 1.318112734075642e-14\n",
      "\tlstat: 5.081103394387701e-88\n"
     ]
    },
    {
     "name": "stderr",
     "output_type": "stream",
     "text": [
      "/Library/Frameworks/Python.framework/Versions/3.5/lib/python3.5/site-packages/sklearn/utils/deprecation.py:70: DeprecationWarning: Function residues_ is deprecated; ``residues_`` is deprecated and will be removed in 0.19\n",
      "  warnings.warn(msg, category=DeprecationWarning)\n"
     ]
    }
   ],
   "source": [
    "names = list(X)\n",
    "\n",
    "# computing p-values and f-statistics to see if there is a relationship\n",
    "f_statistics, p_values = f_regression(X, y)\n",
    "\n",
    "print('Intercept: {}'.format(lin_reg.intercept_))\n",
    "print('Coefficients:')\n",
    "for i in range (0, len(lin_reg.coef_)):\n",
    "    print('\\t{}: {}'.format(names[i], lin_reg.coef_[i]))\n",
    "print('Residuals: {}'.format(lin_reg.residues_))\n",
    "print('F-statistic:')\n",
    "for i in range (0, len(f_statistics)):\n",
    "    print('\\t{}: {}'.format(names[i], f_statistics[i]))\n",
    "print('p-values:')\n",
    "for i in range (0, len(p_values)):\n",
    "    print('\\t{}: {}'.format(names[i], p_values[i]))"
   ]
  },
  {
   "cell_type": "code",
   "execution_count": 40,
   "metadata": {
    "collapsed": false
   },
   "outputs": [
    {
     "data": {
      "text/plain": [
       "0.74064266410940938"
      ]
     },
     "execution_count": 40,
     "metadata": {},
     "output_type": "execute_result"
    }
   ],
   "source": [
    "# calculating r^2\n",
    "from sklearn.metrics import r2_score\n",
    "y_pred = lin_reg.predict(X)\n",
    "\n",
    "r2_score(y, y_pred)"
   ]
  },
  {
   "cell_type": "markdown",
   "metadata": {},
   "source": [
    "## Interaction Terms "
   ]
  },
  {
   "cell_type": "code",
   "execution_count": 46,
   "metadata": {
    "collapsed": false
   },
   "outputs": [
    {
     "data": {
      "text/plain": [
       "LinearRegression(copy_X=True, fit_intercept=True, n_jobs=1, normalize=False)"
      ]
     },
     "execution_count": 46,
     "metadata": {},
     "output_type": "execute_result"
    }
   ],
   "source": [
    "# including the interaction term of lstat and age (lstat * age)\n",
    "\n",
    "X = boston_df[['lstat', 'age']].copy()\n",
    "X['lstat_age'] = X['lstat'] * X['age']\n",
    "\n",
    "lin_reg.fit(X, y)"
   ]
  },
  {
   "cell_type": "code",
   "execution_count": 47,
   "metadata": {
    "collapsed": false
   },
   "outputs": [
    {
     "name": "stdout",
     "output_type": "stream",
     "text": [
      "Intercept: 36.088535934612885\n",
      "Coefficients:\n",
      "\tlstat: -1.3921168406172677\n",
      "\tage: -0.0007208595085999958\n",
      "\tlstat_age: 0.004155951845429168\n",
      "Residuals: 18977.71614458577\n",
      "F-statistic:\n",
      "\tlstat: 601.6178711098958\n",
      "\tage: 83.47745921923611\n",
      "\tlstat_age: 412.44993481045094\n",
      "p-values:\n",
      "\tlstat: 5.081103394387701e-88\n",
      "\tage: 1.5699822091882311e-18\n",
      "\tlstat_age: 1.922768858880601e-67\n"
     ]
    },
    {
     "name": "stderr",
     "output_type": "stream",
     "text": [
      "/Library/Frameworks/Python.framework/Versions/3.5/lib/python3.5/site-packages/sklearn/utils/deprecation.py:70: DeprecationWarning: Function residues_ is deprecated; ``residues_`` is deprecated and will be removed in 0.19\n",
      "  warnings.warn(msg, category=DeprecationWarning)\n"
     ]
    }
   ],
   "source": [
    "names = ['lstat', 'age', 'lstat_age']\n",
    "# computing p-values and f-statistics to see if there is a relationship\n",
    "f_statistics, p_values = f_regression(X, y)\n",
    "\n",
    "print('Intercept: {}'.format(lin_reg.intercept_))\n",
    "print('Coefficients:')\n",
    "for i in range (0, len(lin_reg.coef_)):\n",
    "    print('\\t{}: {}'.format(names[i], lin_reg.coef_[i]))\n",
    "print('Residuals: {}'.format(lin_reg.residues_))\n",
    "print('F-statistic:')\n",
    "for i in range (0, len(f_statistics)):\n",
    "    print('\\t{}: {}'.format(names[i], f_statistics[i]))\n",
    "print('p-values:')\n",
    "for i in range (0, len(p_values)):\n",
    "    print('\\t{}: {}'.format(names[i], p_values[i]))"
   ]
  },
  {
   "cell_type": "code",
   "execution_count": 48,
   "metadata": {
    "collapsed": false
   },
   "outputs": [
    {
     "data": {
      "text/plain": [
       "0.55572654509939345"
      ]
     },
     "execution_count": 48,
     "metadata": {},
     "output_type": "execute_result"
    }
   ],
   "source": [
    "# calculating r^2\n",
    "from sklearn.metrics import r2_score\n",
    "y_pred = lin_reg.predict(X)\n",
    "\n",
    "r2_score(y, y_pred)"
   ]
  },
  {
   "cell_type": "markdown",
   "metadata": {},
   "source": [
    "## Non-linear Transformations of the Predictors"
   ]
  },
  {
   "cell_type": "code",
   "execution_count": 54,
   "metadata": {
    "collapsed": false
   },
   "outputs": [
    {
     "data": {
      "text/plain": [
       "LinearRegression(copy_X=True, fit_intercept=True, n_jobs=1, normalize=False)"
      ]
     },
     "execution_count": 54,
     "metadata": {},
     "output_type": "execute_result"
    }
   ],
   "source": [
    "X = boston_df[['lstat']].copy()\n",
    "X['lstat2'] = X['lstat'] ** 2\n",
    "\n",
    "lin_reg.fit(X, y)"
   ]
  },
  {
   "cell_type": "code",
   "execution_count": 55,
   "metadata": {
    "collapsed": false
   },
   "outputs": [
    {
     "name": "stdout",
     "output_type": "stream",
     "text": [
      "Intercept: 42.86200732816933\n",
      "Coefficients:\n",
      "\tlstat: -2.332821098282729\n",
      "\tlstat2: 0.043546889358222124\n",
      "Residuals: 15347.243158381982\n",
      "F-statistic:\n",
      "\tlstat: 601.6178711098958\n",
      "\tlstat2: 318.3287249289973\n",
      "p-values:\n",
      "\tlstat: 5.081103394387701e-88\n",
      "\tlstat2: 1.5006683665893657e-55\n"
     ]
    },
    {
     "name": "stderr",
     "output_type": "stream",
     "text": [
      "/Library/Frameworks/Python.framework/Versions/3.5/lib/python3.5/site-packages/sklearn/utils/deprecation.py:70: DeprecationWarning: Function residues_ is deprecated; ``residues_`` is deprecated and will be removed in 0.19\n",
      "  warnings.warn(msg, category=DeprecationWarning)\n"
     ]
    }
   ],
   "source": [
    "names = ['lstat', 'lstat2']\n",
    "# computing p-values and f-statistics to see if there is a relationship\n",
    "f_statistics, p_values = f_regression(X, y)\n",
    "\n",
    "print('Intercept: {}'.format(lin_reg.intercept_))\n",
    "print('Coefficients:')\n",
    "for i in range (0, len(lin_reg.coef_)):\n",
    "    print('\\t{}: {}'.format(names[i], lin_reg.coef_[i]))\n",
    "print('Residuals: {}'.format(lin_reg.residues_))\n",
    "print('F-statistic:')\n",
    "for i in range (0, len(f_statistics)):\n",
    "    print('\\t{}: {}'.format(names[i], f_statistics[i]))\n",
    "print('p-values:')\n",
    "for i in range (0, len(p_values)):\n",
    "    print('\\t{}: {}'.format(names[i], p_values[i]))"
   ]
  },
  {
   "cell_type": "code",
   "execution_count": 56,
   "metadata": {
    "collapsed": false
   },
   "outputs": [
    {
     "data": {
      "text/plain": [
       "0.64071689716366109"
      ]
     },
     "execution_count": 56,
     "metadata": {},
     "output_type": "execute_result"
    }
   ],
   "source": [
    "# calculating r^2\n",
    "from sklearn.metrics import r2_score\n",
    "y_pred = lin_reg.predict(X)\n",
    "\n",
    "r2_score(y, y_pred)"
   ]
  },
  {
   "cell_type": "markdown",
   "metadata": {},
   "source": [
    "## Qualitative Predictors "
   ]
  },
  {
   "cell_type": "code",
   "execution_count": 78,
   "metadata": {
    "collapsed": false
   },
   "outputs": [
    {
     "name": "stdout",
     "output_type": "stream",
     "text": [
      "(400, 11)\n"
     ]
    },
    {
     "data": {
      "text/html": [
       "<div>\n",
       "<table border=\"1\" class=\"dataframe\">\n",
       "  <thead>\n",
       "    <tr style=\"text-align: right;\">\n",
       "      <th></th>\n",
       "      <th>Sales</th>\n",
       "      <th>CompPrice</th>\n",
       "      <th>Income</th>\n",
       "      <th>Advertising</th>\n",
       "      <th>Population</th>\n",
       "      <th>Price</th>\n",
       "      <th>ShelveLoc</th>\n",
       "      <th>Age</th>\n",
       "      <th>Education</th>\n",
       "      <th>Urban</th>\n",
       "      <th>US</th>\n",
       "    </tr>\n",
       "  </thead>\n",
       "  <tbody>\n",
       "    <tr>\n",
       "      <th>0</th>\n",
       "      <td>9.50</td>\n",
       "      <td>138</td>\n",
       "      <td>73</td>\n",
       "      <td>11</td>\n",
       "      <td>276</td>\n",
       "      <td>120</td>\n",
       "      <td>Bad</td>\n",
       "      <td>42</td>\n",
       "      <td>17</td>\n",
       "      <td>Yes</td>\n",
       "      <td>Yes</td>\n",
       "    </tr>\n",
       "    <tr>\n",
       "      <th>1</th>\n",
       "      <td>11.22</td>\n",
       "      <td>111</td>\n",
       "      <td>48</td>\n",
       "      <td>16</td>\n",
       "      <td>260</td>\n",
       "      <td>83</td>\n",
       "      <td>Good</td>\n",
       "      <td>65</td>\n",
       "      <td>10</td>\n",
       "      <td>Yes</td>\n",
       "      <td>Yes</td>\n",
       "    </tr>\n",
       "    <tr>\n",
       "      <th>2</th>\n",
       "      <td>10.06</td>\n",
       "      <td>113</td>\n",
       "      <td>35</td>\n",
       "      <td>10</td>\n",
       "      <td>269</td>\n",
       "      <td>80</td>\n",
       "      <td>Medium</td>\n",
       "      <td>59</td>\n",
       "      <td>12</td>\n",
       "      <td>Yes</td>\n",
       "      <td>Yes</td>\n",
       "    </tr>\n",
       "    <tr>\n",
       "      <th>3</th>\n",
       "      <td>7.40</td>\n",
       "      <td>117</td>\n",
       "      <td>100</td>\n",
       "      <td>4</td>\n",
       "      <td>466</td>\n",
       "      <td>97</td>\n",
       "      <td>Medium</td>\n",
       "      <td>55</td>\n",
       "      <td>14</td>\n",
       "      <td>Yes</td>\n",
       "      <td>Yes</td>\n",
       "    </tr>\n",
       "    <tr>\n",
       "      <th>4</th>\n",
       "      <td>4.15</td>\n",
       "      <td>141</td>\n",
       "      <td>64</td>\n",
       "      <td>3</td>\n",
       "      <td>340</td>\n",
       "      <td>128</td>\n",
       "      <td>Bad</td>\n",
       "      <td>38</td>\n",
       "      <td>13</td>\n",
       "      <td>Yes</td>\n",
       "      <td>No</td>\n",
       "    </tr>\n",
       "  </tbody>\n",
       "</table>\n",
       "</div>"
      ],
      "text/plain": [
       "   Sales  CompPrice  Income  Advertising  Population  Price ShelveLoc  Age  \\\n",
       "0   9.50        138      73           11         276    120       Bad   42   \n",
       "1  11.22        111      48           16         260     83      Good   65   \n",
       "2  10.06        113      35           10         269     80    Medium   59   \n",
       "3   7.40        117     100            4         466     97    Medium   55   \n",
       "4   4.15        141      64            3         340    128       Bad   38   \n",
       "\n",
       "   Education Urban   US  \n",
       "0         17   Yes  Yes  \n",
       "1         10   Yes  Yes  \n",
       "2         12   Yes  Yes  \n",
       "3         14   Yes  Yes  \n",
       "4         13   Yes   No  "
      ]
     },
     "execution_count": 78,
     "metadata": {},
     "output_type": "execute_result"
    }
   ],
   "source": [
    "carseats_df = pd.read_csv('../data/Carseats.csv')\n",
    "carseats_df.drop('Unnamed: 0', inplace=True, axis=1)\n",
    "print(carseats_df.shape)\n",
    "carseats_df.head()"
   ]
  },
  {
   "cell_type": "code",
   "execution_count": 72,
   "metadata": {
    "collapsed": true
   },
   "outputs": [],
   "source": [
    "y = carseats_df['Sales'].copy()\n",
    "X_df = carseats_df.drop('Sales', axis=1).copy()"
   ]
  },
  {
   "cell_type": "code",
   "execution_count": 71,
   "metadata": {
    "collapsed": true
   },
   "outputs": [],
   "source": [
    "X_df_encoded = pd.get_dummies(X_df, prefix=['ShelveLoc', 'US', 'Urban'], \n",
    "                              columns=['ShelveLoc', 'Urban', 'US'])\n",
    "\n",
    "X_df_encoded['income:adversiting'] = X_df_encoded['Income'] * X_df_encoded['Advertising']\n",
    "X_df_encoded['price:age'] = X_df_encoded['Price'] * X_df_encoded['Age']"
   ]
  },
  {
   "cell_type": "code",
   "execution_count": 73,
   "metadata": {
    "collapsed": false
   },
   "outputs": [
    {
     "data": {
      "text/plain": [
       "LinearRegression(copy_X=True, fit_intercept=True, n_jobs=1, normalize=False)"
      ]
     },
     "execution_count": 73,
     "metadata": {},
     "output_type": "execute_result"
    }
   ],
   "source": [
    "lin_reg.fit(X_df_encoded, y)"
   ]
  },
  {
   "cell_type": "code",
   "execution_count": 76,
   "metadata": {
    "collapsed": false
   },
   "outputs": [
    {
     "name": "stdout",
     "output_type": "stream",
     "text": [
      "Intercept: 8.834179463116392\n",
      "Coefficients:\n",
      "\tCompPrice: 0.09293711868520979\n",
      "\tIncome: 0.010893961131691582\n",
      "\tAdvertising: 0.0702462283789198\n",
      "\tPopulation: 0.00015924530692954658\n",
      "\tPrice: -0.10080635828923806\n",
      "\tAge: -0.05794659022055669\n",
      "\tEducation: -0.020852490674274488\n",
      "\tShelveLoc_Bad: -2.267312734008574\n",
      "\tShelveLoc_Good: 2.5813634732529147\n",
      "\tShelveLoc_Medium: -0.31405073924433846\n",
      "\tUS_No: -0.07007986182612612\n",
      "\tUS_Yes: 0.07007986182612844\n",
      "\tUrban_No: 0.07877857159414525\n",
      "\tUrban_Yes: -0.0787785715941452\n",
      "\tincome:adversiting: 0.0007510392099645909\n",
      "\tprice:age: 0.0001067598496137838\n",
      "Residuals: []\n",
      "F-statistic:\n",
      "\tCompPrice: 1.6409591807157722\n",
      "\tIncome: 9.406653017846333\n",
      "\tAdvertising: 31.172472700036295\n",
      "\tPopulation: 1.016422622837252\n",
      "\tPrice: 98.24768807466923\n",
      "\tAge: 22.60250482025794\n",
      "\tEducation: 1.077248039295086\n",
      "\tShelveLoc_Bad: 72.77204049305752\n",
      "\tShelveLoc_Good: 133.02803902183277\n",
      "\tShelveLoc_Medium: 2.1913795088492924\n",
      "\tUS_No: 0.0946506555765976\n",
      "\tUS_Yes: 0.09465065557659709\n",
      "\tUrban_No: 12.886224277474664\n",
      "\tUrban_Yes: 12.886224277474664\n",
      "\tincome:adversiting: 40.051819301138565\n",
      "\tprice:age: 96.08109087078986\n",
      "p-values:\n",
      "\tCompPrice: 0.2009398289419031\n",
      "\tIncome: 0.0023096704539525095\n",
      "\tAdvertising: 4.3776771103042027e-08\n",
      "\tPopulation: 0.31398160931914804\n",
      "\tPrice: 7.618187011915281e-21\n",
      "\tAge: 2.788949839372287e-06\n",
      "\tEducation: 0.2999441527132452\n",
      "\tShelveLoc_Bad: 3.0818382205667813e-16\n",
      "\tShelveLoc_Good: 9.494693953039454e-27\n",
      "\tShelveLoc_Medium: 0.13957610740196486\n",
      "\tUS_No: 0.7585069603942085\n",
      "\tUS_Yes: 0.7585069603942085\n",
      "\tUrban_No: 0.0003723395870148404\n",
      "\tUrban_Yes: 0.0003723395870148404\n",
      "\tincome:adversiting: 6.670284461131857e-10\n",
      "\tprice:age: 1.835699637016878e-20\n"
     ]
    },
    {
     "name": "stderr",
     "output_type": "stream",
     "text": [
      "/Library/Frameworks/Python.framework/Versions/3.5/lib/python3.5/site-packages/sklearn/utils/deprecation.py:70: DeprecationWarning: Function residues_ is deprecated; ``residues_`` is deprecated and will be removed in 0.19\n",
      "  warnings.warn(msg, category=DeprecationWarning)\n"
     ]
    }
   ],
   "source": [
    "names = list(X_df_encoded)\n",
    "# computing p-values and f-statistics to see if there is a relationship\n",
    "f_statistics, p_values = f_regression(X_df_encoded, y)\n",
    "\n",
    "print('Intercept: {}'.format(lin_reg.intercept_))\n",
    "print('Coefficients:')\n",
    "for i in range (0, len(lin_reg.coef_)):\n",
    "    print('\\t{}: {}'.format(names[i], lin_reg.coef_[i]))\n",
    "print('Residuals: {}'.format(lin_reg.residues_))\n",
    "print('F-statistic:')\n",
    "for i in range (0, len(f_statistics)):\n",
    "    print('\\t{}: {}'.format(names[i], f_statistics[i]))\n",
    "print('p-values:')\n",
    "for i in range (0, len(p_values)):\n",
    "    print('\\t{}: {}'.format(names[i], p_values[i]))"
   ]
  }
 ],
 "metadata": {
  "kernelspec": {
   "display_name": "Python [default]",
   "language": "python",
   "name": "python3"
  },
  "language_info": {
   "codemirror_mode": {
    "name": "ipython",
    "version": 3
   },
   "file_extension": ".py",
   "mimetype": "text/x-python",
   "name": "python",
   "nbconvert_exporter": "python",
   "pygments_lexer": "ipython3",
   "version": "3.5.2"
  }
 },
 "nbformat": 4,
 "nbformat_minor": 2
}
