{
 "cells": [
  {
   "cell_type": "markdown",
   "metadata": {},
   "source": [
    "## Exercise 1 "
   ]
  },
  {
   "cell_type": "code",
   "execution_count": 39,
   "metadata": {
    "collapsed": false
   },
   "outputs": [],
   "source": [
    "from sklearn.datasets import fetch_mldata\n",
    "import numpy as np\n",
    "\n",
    "mnist = fetch_mldata('MNIST original')\n",
    "X, y = mnist['data'], mnist['target']\n",
    "X_train, X_test, y_train, y_test = X[:60000], X[60000:], y[:60000], y[60000:]\n",
    "shuffle_index = np.random.permutation(60000)\n",
    "X_train, y_train = X_train[shuffle_index], y_train[shuffle_index]"
   ]
  },
  {
   "cell_type": "code",
   "execution_count": null,
   "metadata": {
    "collapsed": true
   },
   "outputs": [],
   "source": [
    "from sklearn.preprocessing import StandardScaler\n",
    "from sklearn.model_selection import cross_val_score\n",
    "\n",
    "scaler = StandardScaler()\n",
    "X_train_scaled = scaler.fit_transform(X_train.astype(np.float64))\n",
    "X_test_scaled = scaler.fit_transform(X_test.astype(np.float64))"
   ]
  },
  {
   "cell_type": "code",
   "execution_count": 10,
   "metadata": {
    "collapsed": false
   },
   "outputs": [
    {
     "data": {
      "text/plain": [
       "(60000, 784)"
      ]
     },
     "execution_count": 10,
     "metadata": {},
     "output_type": "execute_result"
    }
   ],
   "source": [
    "X_train_scaled.shape"
   ]
  },
  {
   "cell_type": "code",
   "execution_count": 22,
   "metadata": {
    "collapsed": false
   },
   "outputs": [
    {
     "name": "stdout",
     "output_type": "stream",
     "text": [
      "Fitting 3 folds for each of 58 candidates, totalling 174 fits\n",
      "[CV] n_neighbors=1, weights=uniform ..................................\n",
      "[CV] n_neighbors=1, weights=uniform ..................................\n",
      "[CV] n_neighbors=1, weights=uniform ..................................\n",
      "[CV] n_neighbors=1, weights=distance .................................\n",
      "[CV] n_neighbors=1, weights=distance .................................\n",
      "[CV] n_neighbors=1, weights=distance .................................\n",
      "[CV] n_neighbors=2, weights=uniform ..................................\n",
      "[CV] n_neighbors=2, weights=uniform ..................................\n",
      "[CV] n_neighbors=2, weights=uniform ..................................\n",
      "[CV] n_neighbors=2, weights=distance .................................\n",
      "[CV] n_neighbors=2, weights=distance .................................\n",
      "[CV] n_neighbors=2, weights=distance .................................\n",
      "[CV] n_neighbors=3, weights=uniform ..................................\n",
      "[CV] n_neighbors=3, weights=uniform ..................................\n",
      "[CV] n_neighbors=3, weights=uniform ..................................\n",
      "[CV] n_neighbors=3, weights=distance .................................\n",
      "[CV] ... n_neighbors=1, weights=uniform, score=0.925075, total=  18.3s\n",
      "[CV] n_neighbors=3, weights=distance .................................\n",
      "[CV] ... n_neighbors=1, weights=uniform, score=0.930827, total=  18.3s\n",
      "[CV] n_neighbors=3, weights=distance .................................\n",
      "[CV] .. n_neighbors=1, weights=distance, score=0.942087, total=  18.3s\n",
      "[CV] .. n_neighbors=1, weights=distance, score=0.930827, total=  18.3s\n",
      "[CV] n_neighbors=4, weights=uniform ..................................\n",
      "[CV] n_neighbors=4, weights=uniform ..................................\n",
      "[CV] .. n_neighbors=1, weights=distance, score=0.925075, total=  18.5s\n",
      "[CV] n_neighbors=4, weights=uniform ..................................\n",
      "[CV] ... n_neighbors=1, weights=uniform, score=0.942087, total=  18.5s\n",
      "[CV] n_neighbors=4, weights=distance .................................\n",
      "[CV] ... n_neighbors=3, weights=uniform, score=0.924575, total=  18.4s\n",
      "[CV] ... n_neighbors=2, weights=uniform, score=0.921618, total=  18.4s\n",
      "[CV] n_neighbors=4, weights=distance .................................\n",
      "[CV] n_neighbors=4, weights=distance .................................\n",
      "[CV] ... n_neighbors=2, weights=uniform, score=0.910090, total=  18.5s\n",
      "[CV] n_neighbors=5, weights=uniform ..................................\n",
      "[CV] .. n_neighbors=2, weights=distance, score=0.942087, total=  18.5s\n",
      "[CV] n_neighbors=5, weights=uniform ..................................\n",
      "[CV] .. n_neighbors=2, weights=distance, score=0.930827, total=  18.4s\n",
      "[CV] n_neighbors=5, weights=uniform ..................................\n",
      "[CV] ... n_neighbors=3, weights=uniform, score=0.930827, total=  18.4s\n",
      "[CV] ... n_neighbors=3, weights=uniform, score=0.936595, total=  18.5s\n",
      "[CV] ... n_neighbors=2, weights=uniform, score=0.911779, total=  18.4s\n",
      "[CV] n_neighbors=5, weights=distance .................................\n",
      "[CV] n_neighbors=5, weights=distance .................................\n",
      "[CV] n_neighbors=5, weights=distance .................................\n"
     ]
    },
    {
     "name": "stderr",
     "output_type": "stream",
     "text": [
      "[Parallel(n_jobs=-1)]: Done   9 tasks      | elapsed:   54.6s\n"
     ]
    },
    {
     "name": "stdout",
     "output_type": "stream",
     "text": [
      "[CV] .. n_neighbors=2, weights=distance, score=0.925075, total=  18.5s\n",
      "[CV] n_neighbors=6, weights=uniform ..................................\n",
      "[CV] .. n_neighbors=3, weights=distance, score=0.941588, total=  18.5s\n",
      "[CV] n_neighbors=6, weights=uniform ..................................\n",
      "[CV] .. n_neighbors=3, weights=distance, score=0.930569, total=  18.3s\n",
      "[CV] n_neighbors=6, weights=uniform ..................................\n",
      "[CV] ... n_neighbors=4, weights=uniform, score=0.920080, total=  18.4s\n",
      "[CV] n_neighbors=6, weights=distance .................................\n",
      "[CV] ... n_neighbors=4, weights=uniform, score=0.931603, total=  18.4s\n",
      "[CV] n_neighbors=6, weights=distance .................................\n"
     ]
    },
    {
     "name": "stderr",
     "output_type": "stream",
     "text": [
      "[Parallel(n_jobs=-1)]: Done  18 tasks      | elapsed:  1.6min\n"
     ]
    },
    {
     "name": "stdout",
     "output_type": "stream",
     "text": [
      "[CV] .. n_neighbors=3, weights=distance, score=0.931830, total=  18.4s\n",
      "[CV] n_neighbors=6, weights=distance .................................\n",
      "[CV] ... n_neighbors=4, weights=uniform, score=0.922306, total=  18.4s\n",
      "[CV] n_neighbors=7, weights=uniform ..................................\n",
      "[CV] .. n_neighbors=4, weights=distance, score=0.944084, total=  18.4s\n",
      "[CV] n_neighbors=7, weights=uniform ..................................\n",
      "[CV] .. n_neighbors=4, weights=distance, score=0.934336, total=  18.3s\n",
      "[CV] n_neighbors=7, weights=uniform ..................................\n",
      "[CV] .. n_neighbors=4, weights=distance, score=0.929071, total=  18.4s\n",
      "[CV] n_neighbors=7, weights=distance .................................\n",
      "[CV] .. n_neighbors=5, weights=distance, score=0.934598, total=  18.4s\n",
      "[CV] n_neighbors=7, weights=distance .................................\n",
      "[CV] ... n_neighbors=5, weights=uniform, score=0.921578, total=  18.4s\n",
      "[CV] n_neighbors=7, weights=distance .................................\n",
      "[CV] ... n_neighbors=5, weights=uniform, score=0.929606, total=  18.5s\n",
      "[CV] n_neighbors=8, weights=uniform ..................................\n",
      "[CV] ... n_neighbors=5, weights=uniform, score=0.921303, total=  18.4s\n",
      "[CV] n_neighbors=8, weights=uniform ..................................\n",
      "[CV] ... n_neighbors=6, weights=uniform, score=0.929606, total=  18.4s\n",
      "[CV] n_neighbors=8, weights=uniform ..................................\n",
      "[CV] .. n_neighbors=5, weights=distance, score=0.925815, total=  18.4s\n",
      "[CV] .. n_neighbors=5, weights=distance, score=0.924575, total=  18.5s\n",
      "[CV] n_neighbors=8, weights=distance .................................\n",
      "[CV] n_neighbors=8, weights=distance .................................\n"
     ]
    },
    {
     "name": "stderr",
     "output_type": "stream",
     "text": [
      "[Parallel(n_jobs=-1)]: Done  29 tasks      | elapsed:  1.8min\n"
     ]
    },
    {
     "name": "stdout",
     "output_type": "stream",
     "text": [
      "[CV] ... n_neighbors=6, weights=uniform, score=0.919580, total=  18.5s\n",
      "[CV] n_neighbors=8, weights=distance .................................\n",
      "[CV] .. n_neighbors=6, weights=distance, score=0.936595, total=  18.3s\n",
      "[CV] n_neighbors=9, weights=uniform ..................................\n",
      "[CV] ... n_neighbors=6, weights=uniform, score=0.916792, total=  18.4s\n",
      "[CV] n_neighbors=9, weights=uniform ..................................\n",
      "[CV] .. n_neighbors=6, weights=distance, score=0.926074, total=  18.4s\n",
      "[CV] n_neighbors=9, weights=uniform ..................................\n",
      "[CV] .. n_neighbors=6, weights=distance, score=0.926817, total=  18.5s\n",
      "[CV] n_neighbors=9, weights=distance .................................\n",
      "[CV] ... n_neighbors=7, weights=uniform, score=0.930105, total=  18.5s\n",
      "[CV] n_neighbors=9, weights=distance .................................\n",
      "[CV] ... n_neighbors=7, weights=uniform, score=0.918082, total=  18.5s\n",
      "[CV] n_neighbors=9, weights=distance .................................\n",
      "[CV] .. n_neighbors=7, weights=distance, score=0.934099, total=  18.4s\n",
      "[CV] n_neighbors=10, weights=uniform .................................\n",
      "[CV] .. n_neighbors=7, weights=distance, score=0.918581, total=  18.4s\n",
      "[CV] n_neighbors=10, weights=uniform .................................\n",
      "[CV] ... n_neighbors=7, weights=uniform, score=0.918797, total=  18.5s\n",
      "[CV] n_neighbors=10, weights=uniform .................................\n",
      "[CV] .. n_neighbors=7, weights=distance, score=0.919799, total=  18.4s\n",
      "[CV] n_neighbors=10, weights=distance ................................\n"
     ]
    },
    {
     "name": "stderr",
     "output_type": "stream",
     "text": [
      "[Parallel(n_jobs=-1)]: Done  40 tasks      | elapsed:  2.7min\n"
     ]
    },
    {
     "name": "stdout",
     "output_type": "stream",
     "text": [
      "[CV] ... n_neighbors=8, weights=uniform, score=0.926111, total=  18.5s\n",
      "[CV] n_neighbors=10, weights=distance ................................\n",
      "[CV] ... n_neighbors=8, weights=uniform, score=0.913784, total=  18.4s\n",
      "[CV] n_neighbors=10, weights=distance ................................\n",
      "[CV] ... n_neighbors=8, weights=uniform, score=0.920579, total=  18.5s\n",
      "[CV] n_neighbors=11, weights=uniform .................................\n",
      "[CV] .. n_neighbors=8, weights=distance, score=0.924076, total=  18.5s\n",
      "[CV] n_neighbors=11, weights=uniform .................................\n",
      "[CV] .. n_neighbors=8, weights=distance, score=0.933600, total=  18.6s\n",
      "[CV] n_neighbors=11, weights=uniform .................................\n",
      "[CV] .. n_neighbors=8, weights=distance, score=0.919298, total=  18.6s\n",
      "[CV] n_neighbors=11, weights=distance ................................\n",
      "[CV] ... n_neighbors=9, weights=uniform, score=0.927109, total=  18.3s\n",
      "[CV] n_neighbors=11, weights=distance ................................\n",
      "[CV] ... n_neighbors=9, weights=uniform, score=0.916583, total=  18.4s\n",
      "[CV] n_neighbors=11, weights=distance ................................\n",
      "[CV] ... n_neighbors=9, weights=uniform, score=0.913283, total=  18.3s\n",
      "[CV] n_neighbors=12, weights=uniform .................................\n",
      "[CV] .. n_neighbors=9, weights=distance, score=0.931603, total=  18.4s\n",
      "[CV] n_neighbors=12, weights=uniform .................................\n",
      "[CV] .. n_neighbors=9, weights=distance, score=0.919580, total=  18.4s\n",
      "[CV] n_neighbors=12, weights=uniform .................................\n"
     ]
    },
    {
     "name": "stderr",
     "output_type": "stream",
     "text": [
      "[Parallel(n_jobs=-1)]: Done  53 tasks      | elapsed:  3.4min\n"
     ]
    },
    {
     "name": "stdout",
     "output_type": "stream",
     "text": [
      "[CV] .. n_neighbors=9, weights=distance, score=0.916792, total=  18.4s\n",
      "[CV] n_neighbors=12, weights=distance ................................\n",
      "[CV] .. n_neighbors=10, weights=uniform, score=0.924114, total=  18.4s\n",
      "[CV] n_neighbors=12, weights=distance ................................\n",
      "[CV] .. n_neighbors=10, weights=uniform, score=0.916583, total=  18.4s\n",
      "[CV] n_neighbors=12, weights=distance ................................\n",
      "[CV] . n_neighbors=10, weights=distance, score=0.928607, total=  18.4s\n",
      "[CV] n_neighbors=13, weights=uniform .................................\n",
      "[CV] . n_neighbors=10, weights=distance, score=0.921578, total=  18.4s\n",
      "[CV] n_neighbors=13, weights=uniform .................................\n",
      "[CV] .. n_neighbors=10, weights=uniform, score=0.914286, total=  18.4s\n",
      "[CV] n_neighbors=13, weights=uniform .................................\n",
      "[CV] . n_neighbors=10, weights=distance, score=0.917293, total=  18.3s\n",
      "[CV] n_neighbors=13, weights=distance ................................\n",
      "[CV] .. n_neighbors=11, weights=uniform, score=0.922616, total=  18.4s\n",
      "[CV] n_neighbors=13, weights=distance ................................\n",
      "[CV] .. n_neighbors=11, weights=uniform, score=0.912587, total=  18.5s\n",
      "[CV] n_neighbors=13, weights=distance ................................\n",
      "[CV] .. n_neighbors=11, weights=uniform, score=0.910777, total=  18.4s\n",
      "[CV] n_neighbors=14, weights=uniform .................................\n",
      "[CV] . n_neighbors=11, weights=distance, score=0.927609, total=  18.5s\n",
      "[CV] n_neighbors=14, weights=uniform .................................\n",
      "[CV] . n_neighbors=11, weights=distance, score=0.916084, total=  18.3s\n",
      "[CV] n_neighbors=14, weights=uniform .................................\n",
      "[CV] . n_neighbors=11, weights=distance, score=0.913784, total=  18.3s\n",
      "[CV] n_neighbors=14, weights=distance ................................\n",
      "[CV] .. n_neighbors=12, weights=uniform, score=0.920619, total=  18.4s\n",
      "[CV] n_neighbors=14, weights=distance ................................\n"
     ]
    },
    {
     "name": "stderr",
     "output_type": "stream",
     "text": [
      "[Parallel(n_jobs=-1)]: Done  66 tasks      | elapsed:  4.3min\n"
     ]
    },
    {
     "name": "stdout",
     "output_type": "stream",
     "text": [
      "[CV] .. n_neighbors=12, weights=uniform, score=0.909091, total=  18.4s\n",
      "[CV] n_neighbors=14, weights=distance ................................\n",
      "[CV] .. n_neighbors=12, weights=uniform, score=0.908271, total=  18.4s\n",
      "[CV] n_neighbors=15, weights=uniform .................................\n",
      "[CV] . n_neighbors=12, weights=distance, score=0.927109, total=  18.5s\n",
      "[CV] n_neighbors=15, weights=uniform .................................\n",
      "[CV] . n_neighbors=12, weights=distance, score=0.918581, total=  18.4s\n",
      "[CV] n_neighbors=15, weights=uniform .................................\n",
      "[CV] .. n_neighbors=13, weights=uniform, score=0.918622, total=  18.4s\n",
      "[CV] n_neighbors=15, weights=distance ................................\n",
      "[CV] . n_neighbors=12, weights=distance, score=0.913784, total=  18.4s\n",
      "[CV] n_neighbors=15, weights=distance ................................\n",
      "[CV] .. n_neighbors=13, weights=uniform, score=0.910589, total=  18.4s\n",
      "[CV] n_neighbors=15, weights=distance ................................\n",
      "[CV] .. n_neighbors=13, weights=uniform, score=0.909273, total=  18.4s\n",
      "[CV] n_neighbors=16, weights=uniform .................................\n",
      "[CV] . n_neighbors=13, weights=distance, score=0.924114, total=  18.5s\n",
      "[CV] n_neighbors=16, weights=uniform .................................\n",
      "[CV] . n_neighbors=13, weights=distance, score=0.912088, total=  18.5s\n",
      "[CV] n_neighbors=16, weights=uniform .................................\n",
      "[CV] . n_neighbors=13, weights=distance, score=0.913784, total=  18.5s\n",
      "[CV] n_neighbors=16, weights=distance ................................\n",
      "[CV] .. n_neighbors=14, weights=uniform, score=0.911588, total=  18.5s\n",
      "[CV] n_neighbors=16, weights=distance ................................\n",
      "[CV] .. n_neighbors=14, weights=uniform, score=0.917124, total=  18.5s\n",
      "[CV] n_neighbors=16, weights=distance ................................\n",
      "[CV] .. n_neighbors=14, weights=uniform, score=0.906767, total=  18.2s\n",
      "[CV] n_neighbors=17, weights=uniform .................................\n"
     ]
    },
    {
     "name": "stderr",
     "output_type": "stream",
     "text": [
      "[Parallel(n_jobs=-1)]: Done  81 tasks      | elapsed:  5.2min\n"
     ]
    },
    {
     "name": "stdout",
     "output_type": "stream",
     "text": [
      "[CV] . n_neighbors=14, weights=distance, score=0.913586, total=  18.4s\n",
      "[CV] n_neighbors=17, weights=uniform .................................\n",
      "[CV] . n_neighbors=14, weights=distance, score=0.923115, total=  18.4s\n",
      "[CV] n_neighbors=17, weights=uniform .................................\n",
      "[CV] . n_neighbors=14, weights=distance, score=0.911278, total=  18.4s\n",
      "[CV] n_neighbors=17, weights=distance ................................\n",
      "[CV] .. n_neighbors=15, weights=uniform, score=0.915627, total=  18.4s\n",
      "[CV] n_neighbors=17, weights=distance ................................\n",
      "[CV] .. n_neighbors=15, weights=uniform, score=0.909091, total=  18.5s\n",
      "[CV] n_neighbors=17, weights=distance ................................\n",
      "[CV] .. n_neighbors=15, weights=uniform, score=0.904762, total=  18.4s\n",
      "[CV] n_neighbors=18, weights=uniform .................................\n",
      "[CV] . n_neighbors=15, weights=distance, score=0.920120, total=  18.4s\n",
      "[CV] n_neighbors=18, weights=uniform .................................\n",
      "[CV] .. n_neighbors=16, weights=uniform, score=0.918622, total=  18.4s\n",
      "[CV] n_neighbors=18, weights=uniform .................................\n",
      "[CV] . n_neighbors=15, weights=distance, score=0.909590, total=  18.4s\n",
      "[CV] n_neighbors=18, weights=distance ................................\n",
      "[CV] .. n_neighbors=16, weights=uniform, score=0.904096, total=  18.4s\n",
      "[CV] n_neighbors=18, weights=distance ................................\n",
      "[CV] . n_neighbors=15, weights=distance, score=0.907769, total=  18.4s\n",
      "[CV] n_neighbors=18, weights=distance ................................\n",
      "[CV] .. n_neighbors=16, weights=uniform, score=0.906266, total=  18.4s\n",
      "[CV] n_neighbors=19, weights=uniform .................................\n",
      "[CV] . n_neighbors=16, weights=distance, score=0.909091, total=  18.3s\n",
      "[CV] n_neighbors=19, weights=uniform .................................\n",
      "[CV] . n_neighbors=16, weights=distance, score=0.909273, total=  18.3s\n",
      "[CV] n_neighbors=19, weights=uniform .................................\n",
      "[CV] . n_neighbors=16, weights=distance, score=0.922117, total=  18.5s\n",
      "[CV] n_neighbors=19, weights=distance ................................\n"
     ]
    },
    {
     "name": "stderr",
     "output_type": "stream",
     "text": [
      "[Parallel(n_jobs=-1)]: Done  96 tasks      | elapsed:  5.5min\n"
     ]
    },
    {
     "name": "stdout",
     "output_type": "stream",
     "text": [
      "[CV] .. n_neighbors=17, weights=uniform, score=0.918123, total=  18.4s\n",
      "[CV] n_neighbors=19, weights=distance ................................\n",
      "[CV] .. n_neighbors=17, weights=uniform, score=0.906094, total=  18.3s\n",
      "[CV] n_neighbors=19, weights=distance ................................\n",
      "[CV] .. n_neighbors=17, weights=uniform, score=0.906767, total=  18.4s\n",
      "[CV] n_neighbors=20, weights=uniform .................................\n",
      "[CV] . n_neighbors=17, weights=distance, score=0.920619, total=  18.4s\n",
      "[CV] n_neighbors=20, weights=uniform .................................\n",
      "[CV] . n_neighbors=17, weights=distance, score=0.907592, total=  18.5s\n",
      "[CV] n_neighbors=20, weights=uniform .................................\n",
      "[CV] . n_neighbors=17, weights=distance, score=0.907769, total=  18.4s\n",
      "[CV] n_neighbors=20, weights=distance ................................\n",
      "[CV] .. n_neighbors=18, weights=uniform, score=0.905594, total=  18.3s\n",
      "[CV] n_neighbors=20, weights=distance ................................\n",
      "[CV] .. n_neighbors=18, weights=uniform, score=0.918123, total=  18.4s\n",
      "[CV] n_neighbors=20, weights=distance ................................\n",
      "[CV] .. n_neighbors=18, weights=uniform, score=0.900752, total=  18.4s\n",
      "[CV] n_neighbors=21, weights=uniform .................................\n",
      "[CV] . n_neighbors=18, weights=distance, score=0.921618, total=  18.5s\n",
      "[CV] n_neighbors=21, weights=uniform .................................\n",
      "[CV] . n_neighbors=18, weights=distance, score=0.907093, total=  18.5s\n",
      "[CV] n_neighbors=21, weights=uniform .................................\n",
      "[CV] . n_neighbors=18, weights=distance, score=0.905764, total=  18.5s\n",
      "[CV] n_neighbors=21, weights=distance ................................\n",
      "[CV] .. n_neighbors=19, weights=uniform, score=0.902098, total=  18.5s\n",
      "[CV] n_neighbors=21, weights=distance ................................\n",
      "[CV] .. n_neighbors=19, weights=uniform, score=0.914628, total=  18.5s\n",
      "[CV] n_neighbors=21, weights=distance ................................\n",
      "[CV] .. n_neighbors=19, weights=uniform, score=0.900251, total=  18.4s\n",
      "[CV] n_neighbors=22, weights=uniform .................................\n",
      "[CV] . n_neighbors=19, weights=distance, score=0.917624, total=  18.5s\n",
      "[CV] n_neighbors=22, weights=uniform .................................\n",
      "[CV] . n_neighbors=19, weights=distance, score=0.904595, total=  18.5s\n",
      "[CV] n_neighbors=22, weights=uniform .................................\n"
     ]
    },
    {
     "name": "stderr",
     "output_type": "stream",
     "text": [
      "[Parallel(n_jobs=-1)]: Done 113 tasks      | elapsed:  7.0min\n"
     ]
    },
    {
     "name": "stdout",
     "output_type": "stream",
     "text": [
      "[CV] . n_neighbors=19, weights=distance, score=0.903759, total=  18.3s\n",
      "[CV] n_neighbors=22, weights=distance ................................\n",
      "[CV] .. n_neighbors=20, weights=uniform, score=0.918123, total=  18.5s\n",
      "[CV] n_neighbors=22, weights=distance ................................\n",
      "[CV] .. n_neighbors=20, weights=uniform, score=0.903097, total=  18.5s\n",
      "[CV] n_neighbors=22, weights=distance ................................\n",
      "[CV] .. n_neighbors=20, weights=uniform, score=0.902757, total=  18.2s\n",
      "[CV] n_neighbors=23, weights=uniform .................................\n",
      "[CV] . n_neighbors=20, weights=distance, score=0.920120, total=  18.4s\n",
      "[CV] n_neighbors=23, weights=uniform .................................\n",
      "[CV] . n_neighbors=20, weights=distance, score=0.908092, total=  18.4s\n",
      "[CV] n_neighbors=23, weights=uniform .................................\n",
      "[CV] . n_neighbors=20, weights=distance, score=0.907268, total=  18.3s\n",
      "[CV] n_neighbors=23, weights=distance ................................\n",
      "[CV] .. n_neighbors=21, weights=uniform, score=0.914628, total=  18.4s\n",
      "[CV] .. n_neighbors=21, weights=uniform, score=0.902597, total=  18.4s\n",
      "[CV] n_neighbors=23, weights=distance ................................\n",
      "[CV] n_neighbors=23, weights=distance ................................\n",
      "[CV] .. n_neighbors=21, weights=uniform, score=0.902256, total=  18.3s\n",
      "[CV] n_neighbors=24, weights=uniform .................................\n",
      "[CV] . n_neighbors=21, weights=distance, score=0.917124, total=  18.4s\n",
      "[CV] n_neighbors=24, weights=uniform .................................\n",
      "[CV] . n_neighbors=21, weights=distance, score=0.906593, total=  18.4s\n",
      "[CV] n_neighbors=24, weights=uniform .................................\n",
      "[CV] .. n_neighbors=22, weights=uniform, score=0.899600, total=  18.4s\n",
      "[CV] n_neighbors=24, weights=distance ................................\n",
      "[CV] . n_neighbors=21, weights=distance, score=0.904762, total=  18.4s\n",
      "[CV] n_neighbors=24, weights=distance ................................\n",
      "[CV] .. n_neighbors=22, weights=uniform, score=0.917124, total=  18.4s\n",
      "[CV] n_neighbors=24, weights=distance ................................\n",
      "[CV] .. n_neighbors=22, weights=uniform, score=0.901754, total=  18.4s\n",
      "[CV] n_neighbors=25, weights=uniform .................................\n",
      "[CV] . n_neighbors=22, weights=distance, score=0.919621, total=  18.5s\n",
      "[CV] n_neighbors=25, weights=uniform .................................\n"
     ]
    },
    {
     "name": "stderr",
     "output_type": "stream",
     "text": [
      "[Parallel(n_jobs=-1)]: Done 130 tasks      | elapsed:  7.9min\n"
     ]
    },
    {
     "name": "stdout",
     "output_type": "stream",
     "text": [
      "[CV] . n_neighbors=22, weights=distance, score=0.905095, total=  18.5s\n",
      "[CV] n_neighbors=25, weights=uniform .................................\n",
      "[CV] .. n_neighbors=23, weights=uniform, score=0.912631, total=  18.4s\n",
      "[CV] n_neighbors=25, weights=distance ................................\n",
      "[CV] . n_neighbors=22, weights=distance, score=0.904762, total=  18.5s\n",
      "[CV] n_neighbors=25, weights=distance ................................\n",
      "[CV] .. n_neighbors=23, weights=uniform, score=0.899101, total=  18.4s\n",
      "[CV] n_neighbors=25, weights=distance ................................\n",
      "[CV] .. n_neighbors=23, weights=uniform, score=0.897243, total=  18.3s\n",
      "[CV] n_neighbors=26, weights=uniform .................................\n",
      "[CV] . n_neighbors=23, weights=distance, score=0.914129, total=  18.4s\n",
      "[CV] n_neighbors=26, weights=uniform .................................\n",
      "[CV] .. n_neighbors=24, weights=uniform, score=0.911633, total=  18.3s\n",
      "[CV] n_neighbors=26, weights=uniform .................................\n",
      "[CV] . n_neighbors=23, weights=distance, score=0.901754, total=  18.4s\n",
      "[CV] n_neighbors=26, weights=distance ................................\n",
      "[CV] . n_neighbors=23, weights=distance, score=0.903097, total=  18.5s\n",
      "[CV] n_neighbors=26, weights=distance ................................\n",
      "[CV] .. n_neighbors=24, weights=uniform, score=0.898102, total=  18.5s\n",
      "[CV] n_neighbors=26, weights=distance ................................\n",
      "[CV] . n_neighbors=24, weights=distance, score=0.915627, total=  18.3s\n",
      "[CV] n_neighbors=27, weights=uniform .................................\n",
      "[CV] .. n_neighbors=24, weights=uniform, score=0.897243, total=  18.3s\n",
      "[CV] n_neighbors=27, weights=uniform .................................\n",
      "[CV] . n_neighbors=24, weights=distance, score=0.902098, total=  18.5s\n",
      "[CV] n_neighbors=27, weights=uniform .................................\n",
      "[CV] . n_neighbors=24, weights=distance, score=0.898747, total=  18.5s\n",
      "[CV] n_neighbors=27, weights=distance ................................\n",
      "[CV] .. n_neighbors=25, weights=uniform, score=0.909636, total=  18.4s\n",
      "[CV] n_neighbors=27, weights=distance ................................\n",
      "[CV] .. n_neighbors=25, weights=uniform, score=0.897103, total=  18.4s\n",
      "[CV] n_neighbors=27, weights=distance ................................\n",
      "[CV] .. n_neighbors=25, weights=uniform, score=0.896742, total=  18.4s\n",
      "[CV] n_neighbors=28, weights=uniform .................................\n",
      "[CV] . n_neighbors=25, weights=distance, score=0.901099, total=  18.4s\n",
      "[CV] n_neighbors=28, weights=uniform .................................\n",
      "[CV] . n_neighbors=25, weights=distance, score=0.914129, total=  18.4s\n",
      "[CV] n_neighbors=28, weights=uniform .................................\n",
      "[CV] . n_neighbors=25, weights=distance, score=0.899248, total=  18.3s\n",
      "[CV] n_neighbors=28, weights=distance ................................\n",
      "[CV] .. n_neighbors=26, weights=uniform, score=0.909636, total=  18.5s\n",
      "[CV] n_neighbors=28, weights=distance ................................\n",
      "[CV] .. n_neighbors=26, weights=uniform, score=0.893606, total=  18.5s\n",
      "[CV] n_neighbors=28, weights=distance ................................\n",
      "[CV] .. n_neighbors=26, weights=uniform, score=0.896241, total=  18.3s\n",
      "[CV] n_neighbors=29, weights=uniform .................................\n",
      "[CV] . n_neighbors=26, weights=distance, score=0.912631, total=  18.5s\n",
      "[CV] n_neighbors=29, weights=uniform .................................\n",
      "[CV] . n_neighbors=26, weights=distance, score=0.899600, total=  18.5s\n",
      "[CV] n_neighbors=29, weights=uniform .................................\n",
      "[CV] .. n_neighbors=27, weights=uniform, score=0.891608, total=  18.3s\n",
      "[CV] n_neighbors=29, weights=distance ................................\n",
      "[CV] . n_neighbors=26, weights=distance, score=0.899749, total=  18.4s\n",
      "[CV] n_neighbors=29, weights=distance ................................\n",
      "[CV] .. n_neighbors=27, weights=uniform, score=0.908637, total=  18.4s\n",
      "[CV] n_neighbors=29, weights=distance ................................\n",
      "[CV] .. n_neighbors=27, weights=uniform, score=0.892231, total=  18.5s\n",
      "[CV] . n_neighbors=27, weights=distance, score=0.909636, total=  18.5s\n",
      "[CV] . n_neighbors=27, weights=distance, score=0.898246, total=  18.4s\n"
     ]
    },
    {
     "name": "stderr",
     "output_type": "stream",
     "text": [
      "[Parallel(n_jobs=-1)]: Done 161 out of 174 | elapsed:  9.7min remaining:   46.9s\n"
     ]
    },
    {
     "name": "stdout",
     "output_type": "stream",
     "text": [
      "[CV] .. n_neighbors=28, weights=uniform, score=0.886114, total=  17.9s\n",
      "[CV] . n_neighbors=27, weights=distance, score=0.896603, total=  18.4s\n",
      "[CV] .. n_neighbors=28, weights=uniform, score=0.909136, total=  18.4s\n",
      "[CV] .. n_neighbors=28, weights=uniform, score=0.890727, total=  18.3s\n",
      "[CV] . n_neighbors=28, weights=distance, score=0.911133, total=  18.3s\n",
      "[CV] .. n_neighbors=29, weights=uniform, score=0.892231, total=  15.0s\n",
      "[CV] . n_neighbors=28, weights=distance, score=0.891109, total=  16.0s\n",
      "[CV] .. n_neighbors=29, weights=uniform, score=0.908637, total=  17.3s\n",
      "[CV] .. n_neighbors=29, weights=uniform, score=0.887113, total=  17.2s\n",
      "[CV] . n_neighbors=29, weights=distance, score=0.911133, total=  17.8s\n",
      "[CV] . n_neighbors=28, weights=distance, score=0.894236, total=  17.0s\n",
      "[CV] . n_neighbors=29, weights=distance, score=0.890609, total=  17.9s\n",
      "[CV] . n_neighbors=29, weights=distance, score=0.896241, total=  17.8s\n"
     ]
    },
    {
     "name": "stderr",
     "output_type": "stream",
     "text": [
      "[Parallel(n_jobs=-1)]: Done 174 out of 174 | elapsed:  9.9min finished\n"
     ]
    },
    {
     "data": {
      "text/plain": [
       "{'n_neighbors': 4, 'weights': 'distance'}"
      ]
     },
     "execution_count": 22,
     "metadata": {},
     "output_type": "execute_result"
    }
   ],
   "source": [
    "from sklearn.neighbors import KNeighborsClassifier\n",
    "from sklearn.model_selection import GridSearchCV\n",
    "\n",
    "param_grid = [\n",
    "    {\n",
    "     x'n_neighbors': np.arange(1,30), \n",
    "     'weights':['uniform', 'distance']\n",
    "    }\n",
    "]\n",
    "\n",
    "knclf = KNeighborsClassifier()\n",
    "\n",
    "grid_search = GridSearchCV(knclf, param_grid, cv=3, scoring=\"accuracy\", verbose=10, n_jobs=-1)\n",
    "# since the training set is so large I decided to only use 1/4 of it.\n",
    "grid_search.fit(X_train[:6000], y_train[:6000])\n",
    "grid_search.best_params_"
   ]
  },
  {
   "cell_type": "code",
   "execution_count": 63,
   "metadata": {
    "collapsed": false
   },
   "outputs": [
    {
     "data": {
      "text/plain": [
       "0.97140000000000004"
      ]
     },
     "execution_count": 63,
     "metadata": {},
     "output_type": "execute_result"
    }
   ],
   "source": [
    "from sklearn.metrics import accuracy_score\n",
    "\n",
    "knclf = KNeighborsClassifier(n_neighbors=4, weights='distance')\n",
    "knclf.fit(X_train, y_train)\n",
    "predicted = knclf.predict(X_test)\n",
    "score = accuracy_score(y_test, predicted)\n",
    "score"
   ]
  },
  {
   "cell_type": "markdown",
   "metadata": {},
   "source": [
    "## Exercise 2 "
   ]
  },
  {
   "cell_type": "code",
   "execution_count": 49,
   "metadata": {
    "collapsed": false
   },
   "outputs": [],
   "source": [
    "%matplotlib inline\n",
    "import matplotlib\n",
    "import matplotlib.pyplot as plt\n",
    "from scipy import ndimage\n",
    "import progressbar\n",
    "\n",
    "bar = progressbar.ProgressBar()\n",
    "\n",
    "def make_shifts(image):\n",
    "    left = ndimage.interpolation.shift(image,[0,-1], cval=0).reshape(1,784)\n",
    "    right = ndimage.interpolation.shift(image,[0,1], cval=0).reshape(1,784)\n",
    "    up = ndimage.interpolation.shift(image,[-1,0], cval=0).reshape(1, 784)\n",
    "    down = ndimage.interpolation.shift(image,[1,0], cval=0).reshape(1, 784)\n",
    "    \n",
    "    return np.concatenate((left, right, up, down))\n",
    "\n",
    "X_train_shifts = make_shifts(X_train[0].reshape((28,28)))\n",
    "y_train_shifts = [y_train[0] for i in range(0, 4)]\n",
    "\n",
    "for i in bar(range(1, len(X_train))):\n",
    "    image = X_train[i].reshape((28, 28))\n",
    "    shifts = make_shifts(image)\n",
    "    X_train_shifts = np.concatenate((X_train_shifts, shifts))\n",
    "    y_train_shifts = y_train_shifts + [y_train[i] for j in range(0, 4)]\n",
    "    \n",
    "X_train_shifts = np.concatenate((X_train, X_train_shifts))\n",
    "y_train_shifts = np.concatenate((y_train, y_train_shifts))"
   ]
  },
  {
   "cell_type": "code",
   "execution_count": 62,
   "metadata": {
    "collapsed": false
   },
   "outputs": [
    {
     "data": {
      "text/plain": [
       "0.97629999999999995"
      ]
     },
     "execution_count": 62,
     "metadata": {},
     "output_type": "execute_result"
    }
   ],
   "source": [
    "from sklearn.neighbors import KNeighborsClassifier\n",
    "\n",
    "knclf = KNeighborsClassifier(n_neighbors=4, weights='distance')\n",
    "knclf.fit(X_train_shifts, y_train_shifts)\n",
    "predicted = knclf.predict(X_test)\n",
    "score = accuracy_score(y_test, predicted)\n",
    "score"
   ]
  },
  {
   "cell_type": "markdown",
   "metadata": {
    "collapsed": true
   },
   "source": [
    "## Exercise 4 "
   ]
  },
  {
   "cell_type": "markdown",
   "metadata": {},
   "source": [
    "### Part  1 and 2"
   ]
  },
  {
   "cell_type": "code",
   "execution_count": 1,
   "metadata": {
    "collapsed": true
   },
   "outputs": [],
   "source": [
    "import os\n",
    "import pandas as pd\n",
    "import numpy as np\n",
    "\n",
    "SPAM_PATH = \"datasets/spam\"\n",
    "\n",
    "def load_spam_data():\n",
    "    csv_path = os.path.join(os.getcwd(), SPAM_PATH + '/spam.csv')\n",
    "    print(csv_path)\n",
    "    return pd.read_csv(csv_path, encoding='latin-1')"
   ]
  },
  {
   "cell_type": "code",
   "execution_count": 2,
   "metadata": {
    "collapsed": false
   },
   "outputs": [
    {
     "name": "stdout",
     "output_type": "stream",
     "text": [
      "/Users/Dayo/repos/Learning-Data-Science/hands_on_ml/datasets/spam/spam.csv\n"
     ]
    },
    {
     "data": {
      "text/html": [
       "<div>\n",
       "<table border=\"1\" class=\"dataframe\">\n",
       "  <thead>\n",
       "    <tr style=\"text-align: right;\">\n",
       "      <th></th>\n",
       "      <th>v1</th>\n",
       "      <th>v2</th>\n",
       "      <th>Unnamed: 2</th>\n",
       "      <th>Unnamed: 3</th>\n",
       "      <th>Unnamed: 4</th>\n",
       "    </tr>\n",
       "  </thead>\n",
       "  <tbody>\n",
       "    <tr>\n",
       "      <th>0</th>\n",
       "      <td>ham</td>\n",
       "      <td>Go until jurong point, crazy.. Available only ...</td>\n",
       "      <td>NaN</td>\n",
       "      <td>NaN</td>\n",
       "      <td>NaN</td>\n",
       "    </tr>\n",
       "    <tr>\n",
       "      <th>1</th>\n",
       "      <td>ham</td>\n",
       "      <td>Ok lar... Joking wif u oni...</td>\n",
       "      <td>NaN</td>\n",
       "      <td>NaN</td>\n",
       "      <td>NaN</td>\n",
       "    </tr>\n",
       "    <tr>\n",
       "      <th>2</th>\n",
       "      <td>spam</td>\n",
       "      <td>Free entry in 2 a wkly comp to win FA Cup fina...</td>\n",
       "      <td>NaN</td>\n",
       "      <td>NaN</td>\n",
       "      <td>NaN</td>\n",
       "    </tr>\n",
       "    <tr>\n",
       "      <th>3</th>\n",
       "      <td>ham</td>\n",
       "      <td>U dun say so early hor... U c already then say...</td>\n",
       "      <td>NaN</td>\n",
       "      <td>NaN</td>\n",
       "      <td>NaN</td>\n",
       "    </tr>\n",
       "    <tr>\n",
       "      <th>4</th>\n",
       "      <td>ham</td>\n",
       "      <td>Nah I don't think he goes to usf, he lives aro...</td>\n",
       "      <td>NaN</td>\n",
       "      <td>NaN</td>\n",
       "      <td>NaN</td>\n",
       "    </tr>\n",
       "  </tbody>\n",
       "</table>\n",
       "</div>"
      ],
      "text/plain": [
       "     v1                                                 v2 Unnamed: 2  \\\n",
       "0   ham  Go until jurong point, crazy.. Available only ...        NaN   \n",
       "1   ham                      Ok lar... Joking wif u oni...        NaN   \n",
       "2  spam  Free entry in 2 a wkly comp to win FA Cup fina...        NaN   \n",
       "3   ham  U dun say so early hor... U c already then say...        NaN   \n",
       "4   ham  Nah I don't think he goes to usf, he lives aro...        NaN   \n",
       "\n",
       "  Unnamed: 3 Unnamed: 4  \n",
       "0        NaN        NaN  \n",
       "1        NaN        NaN  \n",
       "2        NaN        NaN  \n",
       "3        NaN        NaN  \n",
       "4        NaN        NaN  "
      ]
     },
     "execution_count": 2,
     "metadata": {},
     "output_type": "execute_result"
    }
   ],
   "source": [
    "spam = load_spam_data()\n",
    "spam.head()"
   ]
  },
  {
   "cell_type": "code",
   "execution_count": 3,
   "metadata": {
    "collapsed": true
   },
   "outputs": [],
   "source": [
    "# Drop column and change names\n",
    "spam.drop(['Unnamed: 2', 'Unnamed: 3', 'Unnamed: 4'], axis=1, inplace=True)\n",
    "spam.rename(columns={\"v1\":\"label\", \"v2\":\"text\"}, inplace=True)"
   ]
  },
  {
   "cell_type": "code",
   "execution_count": 4,
   "metadata": {
    "collapsed": false
   },
   "outputs": [
    {
     "data": {
      "text/html": [
       "<div>\n",
       "<table border=\"1\" class=\"dataframe\">\n",
       "  <thead>\n",
       "    <tr style=\"text-align: right;\">\n",
       "      <th></th>\n",
       "      <th>label</th>\n",
       "      <th>text</th>\n",
       "    </tr>\n",
       "  </thead>\n",
       "  <tbody>\n",
       "    <tr>\n",
       "      <th>5567</th>\n",
       "      <td>spam</td>\n",
       "      <td>This is the 2nd time we have tried 2 contact u...</td>\n",
       "    </tr>\n",
       "    <tr>\n",
       "      <th>5568</th>\n",
       "      <td>ham</td>\n",
       "      <td>Will Ì_ b going to esplanade fr home?</td>\n",
       "    </tr>\n",
       "    <tr>\n",
       "      <th>5569</th>\n",
       "      <td>ham</td>\n",
       "      <td>Pity, * was in mood for that. So...any other s...</td>\n",
       "    </tr>\n",
       "    <tr>\n",
       "      <th>5570</th>\n",
       "      <td>ham</td>\n",
       "      <td>The guy did some bitching but I acted like i'd...</td>\n",
       "    </tr>\n",
       "    <tr>\n",
       "      <th>5571</th>\n",
       "      <td>ham</td>\n",
       "      <td>Rofl. Its true to its name</td>\n",
       "    </tr>\n",
       "  </tbody>\n",
       "</table>\n",
       "</div>"
      ],
      "text/plain": [
       "     label                                               text\n",
       "5567  spam  This is the 2nd time we have tried 2 contact u...\n",
       "5568   ham              Will Ì_ b going to esplanade fr home?\n",
       "5569   ham  Pity, * was in mood for that. So...any other s...\n",
       "5570   ham  The guy did some bitching but I acted like i'd...\n",
       "5571   ham                         Rofl. Its true to its name"
      ]
     },
     "execution_count": 4,
     "metadata": {},
     "output_type": "execute_result"
    }
   ],
   "source": [
    "spam.tail()"
   ]
  },
  {
   "cell_type": "markdown",
   "metadata": {},
   "source": [
    "### Part 3"
   ]
  },
  {
   "cell_type": "code",
   "execution_count": 76,
   "metadata": {
    "collapsed": false
   },
   "outputs": [],
   "source": [
    "from sklearn.model_selection import train_test_split\n",
    "train_set, test_set = train_test_split(spam, test_size=0.2, random_state=42)\n",
    "\n",
    "X_train = train_set.values[:, 1]\n",
    "y_train = train_set.values[:, 0]\n",
    "X_test =  test_set.values[:, 1]\n",
    "y_test = test_set.values[:, 0]"
   ]
  },
  {
   "cell_type": "markdown",
   "metadata": {},
   "source": [
    "### Part 4 and 5"
   ]
  },
  {
   "cell_type": "code",
   "execution_count": 79,
   "metadata": {
    "collapsed": false
   },
   "outputs": [],
   "source": [
    "from sklearn.feature_extraction.text import CountVectorizer\n",
    "from sklearn.feature_extraction.text import TfidfTransformer\n",
    "from sklearn.base import BaseEstimator, TransformerMixin\n",
    "import string \n",
    "\n",
    "class TextModifier(BaseEstimator, TransformerMixin):\n",
    "    def __init__(self, convert_lower_case=False, remove_punctuation=False,\n",
    "                 replace_numbers=False):\n",
    "        self.convert_lower_case = convert_lower_case\n",
    "        self.remove_punctuation = remove_punctuation\n",
    "        self.replace_numbers = replace_numbers\n",
    "    def fit(self, X, y=None):\n",
    "        return self\n",
    "    def transform(self, X, y=None):\n",
    "        for row in X:\n",
    "            if self.convert_lower_case:\n",
    "                row = row.lower()\n",
    "            if self.remove_punctuation:\n",
    "                translator = str.maketrans('', '', string.punctuation)\n",
    "                row = row.translate(translator)\n",
    "            if self.replace_numbers:\n",
    "                text = row\n",
    "                new_text = list()\n",
    "                for s in text.split():\n",
    "                    if s.isnumeric():\n",
    "                        new_text.append('NUMBER')\n",
    "                    else:\n",
    "                        new_text.append(s)\n",
    "                row = ' '.join(new_text)\n",
    "                        \n",
    "        return X \n",
    "    \n",
    "text_mod = TextModifier(convert_lower_case=True, \n",
    "                        remove_punctuation=True,\n",
    "                        replace_numbers=True)"
   ]
  },
  {
   "cell_type": "code",
   "execution_count": 80,
   "metadata": {
    "collapsed": false
   },
   "outputs": [],
   "source": [
    "from sklearn.pipeline import Pipeline\n",
    "from sklearn.feature_extraction.text import CountVectorizer\n",
    "# from sklearn.feature_extraction.text import TfidfTransformer\n",
    "\n",
    "text_pipeline = Pipeline([\n",
    "        ('stripper', TextModifier(convert_lower_case=True, \n",
    "                                  remove_punctuation=True,\n",
    "                                  replace_numbers=True)),\n",
    "        ('vect', CountVectorizer()),\n",
    "        ('tfidf', TfidfTransformer())\n",
    "    ])\n",
    "\n",
    "train_set_prepared = text_pipeline.fit_transform(X_train)\n",
    "test_set_prepared = text_pipeline.fit_transform(X_test)"
   ]
  },
  {
   "cell_type": "markdown",
   "metadata": {},
   "source": [
    "### Part 6 "
   ]
  },
  {
   "cell_type": "code",
   "execution_count": 87,
   "metadata": {
    "collapsed": false
   },
   "outputs": [
    {
     "ename": "JoblibValueError",
     "evalue": "JoblibValueError\n___________________________________________________________________________\nMultiprocessing exception:\n...........................................................................\n/Users/Dayo/anaconda/lib/python3.5/runpy.py in _run_module_as_main(mod_name='ipykernel.__main__', alter_argv=1)\n    179         sys.exit(msg)\n    180     main_globals = sys.modules[\"__main__\"].__dict__\n    181     if alter_argv:\n    182         sys.argv[0] = mod_spec.origin\n    183     return _run_code(code, main_globals, None,\n--> 184                      \"__main__\", mod_spec)\n        mod_spec = ModuleSpec(name='ipykernel.__main__', loader=<_f...b/python3.5/site-packages/ipykernel/__main__.py')\n    185 \n    186 def run_module(mod_name, init_globals=None,\n    187                run_name=None, alter_sys=False):\n    188     \"\"\"Execute a module's code without importing it\n\n...........................................................................\n/Users/Dayo/anaconda/lib/python3.5/runpy.py in _run_code(code=<code object <module> at 0x10220d420, file \"/Use...3.5/site-packages/ipykernel/__main__.py\", line 1>, run_globals={'__builtins__': <module 'builtins' (built-in)>, '__cached__': '/Users/Dayo/anaconda/lib/python3.5/site-packages/ipykernel/__pycache__/__main__.cpython-35.pyc', '__doc__': None, '__file__': '/Users/Dayo/anaconda/lib/python3.5/site-packages/ipykernel/__main__.py', '__loader__': <_frozen_importlib_external.SourceFileLoader object>, '__name__': '__main__', '__package__': 'ipykernel', '__spec__': ModuleSpec(name='ipykernel.__main__', loader=<_f...b/python3.5/site-packages/ipykernel/__main__.py'), 'app': <module 'ipykernel.kernelapp' from '/Users/Dayo/.../python3.5/site-packages/ipykernel/kernelapp.py'>}, init_globals=None, mod_name='__main__', mod_spec=ModuleSpec(name='ipykernel.__main__', loader=<_f...b/python3.5/site-packages/ipykernel/__main__.py'), pkg_name='ipykernel', script_name=None)\n     80                        __cached__ = cached,\n     81                        __doc__ = None,\n     82                        __loader__ = loader,\n     83                        __package__ = pkg_name,\n     84                        __spec__ = mod_spec)\n---> 85     exec(code, run_globals)\n        code = <code object <module> at 0x10220d420, file \"/Use...3.5/site-packages/ipykernel/__main__.py\", line 1>\n        run_globals = {'__builtins__': <module 'builtins' (built-in)>, '__cached__': '/Users/Dayo/anaconda/lib/python3.5/site-packages/ipykernel/__pycache__/__main__.cpython-35.pyc', '__doc__': None, '__file__': '/Users/Dayo/anaconda/lib/python3.5/site-packages/ipykernel/__main__.py', '__loader__': <_frozen_importlib_external.SourceFileLoader object>, '__name__': '__main__', '__package__': 'ipykernel', '__spec__': ModuleSpec(name='ipykernel.__main__', loader=<_f...b/python3.5/site-packages/ipykernel/__main__.py'), 'app': <module 'ipykernel.kernelapp' from '/Users/Dayo/.../python3.5/site-packages/ipykernel/kernelapp.py'>}\n     86     return run_globals\n     87 \n     88 def _run_module_code(code, init_globals=None,\n     89                     mod_name=None, mod_spec=None,\n\n...........................................................................\n/Users/Dayo/anaconda/lib/python3.5/site-packages/ipykernel/__main__.py in <module>()\n      1 \n      2 \n----> 3 \n      4 if __name__ == '__main__':\n      5     from ipykernel import kernelapp as app\n      6     app.launch_new_instance()\n      7 \n      8 \n      9 \n     10 \n\n...........................................................................\n/Users/Dayo/anaconda/lib/python3.5/site-packages/traitlets/config/application.py in launch_instance(cls=<class 'ipykernel.kernelapp.IPKernelApp'>, argv=None, **kwargs={})\n    648 \n    649         If a global instance already exists, this reinitializes and starts it\n    650         \"\"\"\n    651         app = cls.instance(**kwargs)\n    652         app.initialize(argv)\n--> 653         app.start()\n        app.start = <bound method IPKernelApp.start of <ipykernel.kernelapp.IPKernelApp object>>\n    654 \n    655 #-----------------------------------------------------------------------------\n    656 # utility functions, for convenience\n    657 #-----------------------------------------------------------------------------\n\n...........................................................................\n/Users/Dayo/anaconda/lib/python3.5/site-packages/ipykernel/kernelapp.py in start(self=<ipykernel.kernelapp.IPKernelApp object>)\n    469             return self.subapp.start()\n    470         if self.poller is not None:\n    471             self.poller.start()\n    472         self.kernel.start()\n    473         try:\n--> 474             ioloop.IOLoop.instance().start()\n    475         except KeyboardInterrupt:\n    476             pass\n    477 \n    478 launch_new_instance = IPKernelApp.launch_instance\n\n...........................................................................\n/Users/Dayo/anaconda/lib/python3.5/site-packages/zmq/eventloop/ioloop.py in start(self=<zmq.eventloop.ioloop.ZMQIOLoop object>)\n    157             PollIOLoop.configure(ZMQIOLoop)\n    158         return PollIOLoop.current(*args, **kwargs)\n    159     \n    160     def start(self):\n    161         try:\n--> 162             super(ZMQIOLoop, self).start()\n        self.start = <bound method ZMQIOLoop.start of <zmq.eventloop.ioloop.ZMQIOLoop object>>\n    163         except ZMQError as e:\n    164             if e.errno == ETERM:\n    165                 # quietly return on ETERM\n    166                 pass\n\n...........................................................................\n/Users/Dayo/anaconda/lib/python3.5/site-packages/tornado/ioloop.py in start(self=<zmq.eventloop.ioloop.ZMQIOLoop object>)\n    882                 self._events.update(event_pairs)\n    883                 while self._events:\n    884                     fd, events = self._events.popitem()\n    885                     try:\n    886                         fd_obj, handler_func = self._handlers[fd]\n--> 887                         handler_func(fd_obj, events)\n        handler_func = <function wrap.<locals>.null_wrapper>\n        fd_obj = <zmq.sugar.socket.Socket object>\n        events = 1\n    888                     except (OSError, IOError) as e:\n    889                         if errno_from_exception(e) == errno.EPIPE:\n    890                             # Happens when the client closes the connection\n    891                             pass\n\n...........................................................................\n/Users/Dayo/anaconda/lib/python3.5/site-packages/tornado/stack_context.py in null_wrapper(*args=(<zmq.sugar.socket.Socket object>, 1), **kwargs={})\n    270         # Fast path when there are no active contexts.\n    271         def null_wrapper(*args, **kwargs):\n    272             try:\n    273                 current_state = _state.contexts\n    274                 _state.contexts = cap_contexts[0]\n--> 275                 return fn(*args, **kwargs)\n        args = (<zmq.sugar.socket.Socket object>, 1)\n        kwargs = {}\n    276             finally:\n    277                 _state.contexts = current_state\n    278         null_wrapper._wrapped = True\n    279         return null_wrapper\n\n...........................................................................\n/Users/Dayo/anaconda/lib/python3.5/site-packages/zmq/eventloop/zmqstream.py in _handle_events(self=<zmq.eventloop.zmqstream.ZMQStream object>, fd=<zmq.sugar.socket.Socket object>, events=1)\n    435             # dispatch events:\n    436             if events & IOLoop.ERROR:\n    437                 gen_log.error(\"got POLLERR event on ZMQStream, which doesn't make sense\")\n    438                 return\n    439             if events & IOLoop.READ:\n--> 440                 self._handle_recv()\n        self._handle_recv = <bound method ZMQStream._handle_recv of <zmq.eventloop.zmqstream.ZMQStream object>>\n    441                 if not self.socket:\n    442                     return\n    443             if events & IOLoop.WRITE:\n    444                 self._handle_send()\n\n...........................................................................\n/Users/Dayo/anaconda/lib/python3.5/site-packages/zmq/eventloop/zmqstream.py in _handle_recv(self=<zmq.eventloop.zmqstream.ZMQStream object>)\n    467                 gen_log.error(\"RECV Error: %s\"%zmq.strerror(e.errno))\n    468         else:\n    469             if self._recv_callback:\n    470                 callback = self._recv_callback\n    471                 # self._recv_callback = None\n--> 472                 self._run_callback(callback, msg)\n        self._run_callback = <bound method ZMQStream._run_callback of <zmq.eventloop.zmqstream.ZMQStream object>>\n        callback = <function wrap.<locals>.null_wrapper>\n        msg = [<zmq.sugar.frame.Frame object>, <zmq.sugar.frame.Frame object>, <zmq.sugar.frame.Frame object>, <zmq.sugar.frame.Frame object>, <zmq.sugar.frame.Frame object>, <zmq.sugar.frame.Frame object>, <zmq.sugar.frame.Frame object>]\n    473                 \n    474         # self.update_state()\n    475         \n    476 \n\n...........................................................................\n/Users/Dayo/anaconda/lib/python3.5/site-packages/zmq/eventloop/zmqstream.py in _run_callback(self=<zmq.eventloop.zmqstream.ZMQStream object>, callback=<function wrap.<locals>.null_wrapper>, *args=([<zmq.sugar.frame.Frame object>, <zmq.sugar.frame.Frame object>, <zmq.sugar.frame.Frame object>, <zmq.sugar.frame.Frame object>, <zmq.sugar.frame.Frame object>, <zmq.sugar.frame.Frame object>, <zmq.sugar.frame.Frame object>],), **kwargs={})\n    409         close our socket.\"\"\"\n    410         try:\n    411             # Use a NullContext to ensure that all StackContexts are run\n    412             # inside our blanket exception handler rather than outside.\n    413             with stack_context.NullContext():\n--> 414                 callback(*args, **kwargs)\n        callback = <function wrap.<locals>.null_wrapper>\n        args = ([<zmq.sugar.frame.Frame object>, <zmq.sugar.frame.Frame object>, <zmq.sugar.frame.Frame object>, <zmq.sugar.frame.Frame object>, <zmq.sugar.frame.Frame object>, <zmq.sugar.frame.Frame object>, <zmq.sugar.frame.Frame object>],)\n        kwargs = {}\n    415         except:\n    416             gen_log.error(\"Uncaught exception, closing connection.\",\n    417                           exc_info=True)\n    418             # Close the socket on an uncaught exception from a user callback\n\n...........................................................................\n/Users/Dayo/anaconda/lib/python3.5/site-packages/tornado/stack_context.py in null_wrapper(*args=([<zmq.sugar.frame.Frame object>, <zmq.sugar.frame.Frame object>, <zmq.sugar.frame.Frame object>, <zmq.sugar.frame.Frame object>, <zmq.sugar.frame.Frame object>, <zmq.sugar.frame.Frame object>, <zmq.sugar.frame.Frame object>],), **kwargs={})\n    270         # Fast path when there are no active contexts.\n    271         def null_wrapper(*args, **kwargs):\n    272             try:\n    273                 current_state = _state.contexts\n    274                 _state.contexts = cap_contexts[0]\n--> 275                 return fn(*args, **kwargs)\n        args = ([<zmq.sugar.frame.Frame object>, <zmq.sugar.frame.Frame object>, <zmq.sugar.frame.Frame object>, <zmq.sugar.frame.Frame object>, <zmq.sugar.frame.Frame object>, <zmq.sugar.frame.Frame object>, <zmq.sugar.frame.Frame object>],)\n        kwargs = {}\n    276             finally:\n    277                 _state.contexts = current_state\n    278         null_wrapper._wrapped = True\n    279         return null_wrapper\n\n...........................................................................\n/Users/Dayo/anaconda/lib/python3.5/site-packages/ipykernel/kernelbase.py in dispatcher(msg=[<zmq.sugar.frame.Frame object>, <zmq.sugar.frame.Frame object>, <zmq.sugar.frame.Frame object>, <zmq.sugar.frame.Frame object>, <zmq.sugar.frame.Frame object>, <zmq.sugar.frame.Frame object>, <zmq.sugar.frame.Frame object>])\n    271         if self.control_stream:\n    272             self.control_stream.on_recv(self.dispatch_control, copy=False)\n    273 \n    274         def make_dispatcher(stream):\n    275             def dispatcher(msg):\n--> 276                 return self.dispatch_shell(stream, msg)\n        msg = [<zmq.sugar.frame.Frame object>, <zmq.sugar.frame.Frame object>, <zmq.sugar.frame.Frame object>, <zmq.sugar.frame.Frame object>, <zmq.sugar.frame.Frame object>, <zmq.sugar.frame.Frame object>, <zmq.sugar.frame.Frame object>]\n    277             return dispatcher\n    278 \n    279         for s in self.shell_streams:\n    280             s.on_recv(make_dispatcher(s), copy=False)\n\n...........................................................................\n/Users/Dayo/anaconda/lib/python3.5/site-packages/ipykernel/kernelbase.py in dispatch_shell(self=<ipykernel.ipkernel.IPythonKernel object>, stream=<zmq.eventloop.zmqstream.ZMQStream object>, msg={'buffers': [], 'content': {'allow_stdin': True, 'code': \"from sklearn import svm\\nfrom sklearn.naive_bayes..._clf, X_train, y_train, scoring='f1', n_jobs=2)))\", 'silent': False, 'stop_on_error': True, 'store_history': True, 'user_expressions': {}}, 'header': {'date': '2017-05-18T18:26:56.388660', 'msg_id': '4927DCEA5D814EA9B60F3943D23825C6', 'msg_type': 'execute_request', 'session': '3A4D233D2060487084BDCFC8736BA7BC', 'username': 'username', 'version': '5.0'}, 'metadata': {}, 'msg_id': '4927DCEA5D814EA9B60F3943D23825C6', 'msg_type': 'execute_request', 'parent_header': {}})\n    223             self.log.error(\"UNKNOWN MESSAGE TYPE: %r\", msg_type)\n    224         else:\n    225             self.log.debug(\"%s: %s\", msg_type, msg)\n    226             self.pre_handler_hook()\n    227             try:\n--> 228                 handler(stream, idents, msg)\n        handler = <bound method Kernel.execute_request of <ipykernel.ipkernel.IPythonKernel object>>\n        stream = <zmq.eventloop.zmqstream.ZMQStream object>\n        idents = [b'3A4D233D2060487084BDCFC8736BA7BC']\n        msg = {'buffers': [], 'content': {'allow_stdin': True, 'code': \"from sklearn import svm\\nfrom sklearn.naive_bayes..._clf, X_train, y_train, scoring='f1', n_jobs=2)))\", 'silent': False, 'stop_on_error': True, 'store_history': True, 'user_expressions': {}}, 'header': {'date': '2017-05-18T18:26:56.388660', 'msg_id': '4927DCEA5D814EA9B60F3943D23825C6', 'msg_type': 'execute_request', 'session': '3A4D233D2060487084BDCFC8736BA7BC', 'username': 'username', 'version': '5.0'}, 'metadata': {}, 'msg_id': '4927DCEA5D814EA9B60F3943D23825C6', 'msg_type': 'execute_request', 'parent_header': {}}\n    229             except Exception:\n    230                 self.log.error(\"Exception in message handler:\", exc_info=True)\n    231             finally:\n    232                 self.post_handler_hook()\n\n...........................................................................\n/Users/Dayo/anaconda/lib/python3.5/site-packages/ipykernel/kernelbase.py in execute_request(self=<ipykernel.ipkernel.IPythonKernel object>, stream=<zmq.eventloop.zmqstream.ZMQStream object>, ident=[b'3A4D233D2060487084BDCFC8736BA7BC'], parent={'buffers': [], 'content': {'allow_stdin': True, 'code': \"from sklearn import svm\\nfrom sklearn.naive_bayes..._clf, X_train, y_train, scoring='f1', n_jobs=2)))\", 'silent': False, 'stop_on_error': True, 'store_history': True, 'user_expressions': {}}, 'header': {'date': '2017-05-18T18:26:56.388660', 'msg_id': '4927DCEA5D814EA9B60F3943D23825C6', 'msg_type': 'execute_request', 'session': '3A4D233D2060487084BDCFC8736BA7BC', 'username': 'username', 'version': '5.0'}, 'metadata': {}, 'msg_id': '4927DCEA5D814EA9B60F3943D23825C6', 'msg_type': 'execute_request', 'parent_header': {}})\n    385         if not silent:\n    386             self.execution_count += 1\n    387             self._publish_execute_input(code, parent, self.execution_count)\n    388 \n    389         reply_content = self.do_execute(code, silent, store_history,\n--> 390                                         user_expressions, allow_stdin)\n        user_expressions = {}\n        allow_stdin = True\n    391 \n    392         # Flush output before sending the reply.\n    393         sys.stdout.flush()\n    394         sys.stderr.flush()\n\n...........................................................................\n/Users/Dayo/anaconda/lib/python3.5/site-packages/ipykernel/ipkernel.py in do_execute(self=<ipykernel.ipkernel.IPythonKernel object>, code=\"from sklearn import svm\\nfrom sklearn.naive_bayes..._clf, X_train, y_train, scoring='f1', n_jobs=2)))\", silent=False, store_history=True, user_expressions={}, allow_stdin=True)\n    191 \n    192         self._forward_input(allow_stdin)\n    193 \n    194         reply_content = {}\n    195         try:\n--> 196             res = shell.run_cell(code, store_history=store_history, silent=silent)\n        res = undefined\n        shell.run_cell = <bound method ZMQInteractiveShell.run_cell of <ipykernel.zmqshell.ZMQInteractiveShell object>>\n        code = \"from sklearn import svm\\nfrom sklearn.naive_bayes..._clf, X_train, y_train, scoring='f1', n_jobs=2)))\"\n        store_history = True\n        silent = False\n    197         finally:\n    198             self._restore_input()\n    199 \n    200         if res.error_before_exec is not None:\n\n...........................................................................\n/Users/Dayo/anaconda/lib/python3.5/site-packages/ipykernel/zmqshell.py in run_cell(self=<ipykernel.zmqshell.ZMQInteractiveShell object>, *args=(\"from sklearn import svm\\nfrom sklearn.naive_bayes..._clf, X_train, y_train, scoring='f1', n_jobs=2)))\",), **kwargs={'silent': False, 'store_history': True})\n    496             )\n    497         self.payload_manager.write_payload(payload)\n    498 \n    499     def run_cell(self, *args, **kwargs):\n    500         self._last_traceback = None\n--> 501         return super(ZMQInteractiveShell, self).run_cell(*args, **kwargs)\n        self.run_cell = <bound method ZMQInteractiveShell.run_cell of <ipykernel.zmqshell.ZMQInteractiveShell object>>\n        args = (\"from sklearn import svm\\nfrom sklearn.naive_bayes..._clf, X_train, y_train, scoring='f1', n_jobs=2)))\",)\n        kwargs = {'silent': False, 'store_history': True}\n    502 \n    503     def _showtraceback(self, etype, evalue, stb):\n    504         # try to preserve ordering of tracebacks and print statements\n    505         sys.stdout.flush()\n\n...........................................................................\n/Users/Dayo/anaconda/lib/python3.5/site-packages/IPython/core/interactiveshell.py in run_cell(self=<ipykernel.zmqshell.ZMQInteractiveShell object>, raw_cell=\"from sklearn import svm\\nfrom sklearn.naive_bayes..._clf, X_train, y_train, scoring='f1', n_jobs=2)))\", store_history=True, silent=False, shell_futures=True)\n   2712                 self.displayhook.exec_result = result\n   2713 \n   2714                 # Execute the user code\n   2715                 interactivity = \"none\" if silent else self.ast_node_interactivity\n   2716                 has_raised = self.run_ast_nodes(code_ast.body, cell_name,\n-> 2717                    interactivity=interactivity, compiler=compiler, result=result)\n        interactivity = 'last_expr'\n        compiler = <IPython.core.compilerop.CachingCompiler object>\n   2718                 \n   2719                 self.last_execution_succeeded = not has_raised\n   2720 \n   2721                 # Reset this so later displayed values do not modify the\n\n...........................................................................\n/Users/Dayo/anaconda/lib/python3.5/site-packages/IPython/core/interactiveshell.py in run_ast_nodes(self=<ipykernel.zmqshell.ZMQInteractiveShell object>, nodelist=[<_ast.ImportFrom object>, <_ast.ImportFrom object>, <_ast.ImportFrom object>, <_ast.ImportFrom object>, <_ast.ImportFrom object>, <_ast.ImportFrom object>, <_ast.ImportFrom object>, <_ast.Assign object>, <_ast.Expr object>, <_ast.Assign object>, <_ast.Expr object>, <_ast.Assign object>, <_ast.Expr object>, <_ast.Assign object>, <_ast.Expr object>, <_ast.Assign object>, <_ast.Expr object>, <_ast.Assign object>, <_ast.Expr object>, <_ast.Assign object>, ...], cell_name='<ipython-input-87-0bc79f3bdc21>', interactivity='last', compiler=<IPython.core.compilerop.CachingCompiler object>, result=<ExecutionResult object at 10f20b358, execution_..._before_exec=None error_in_exec=None result=None>)\n   2816 \n   2817         try:\n   2818             for i, node in enumerate(to_run_exec):\n   2819                 mod = ast.Module([node])\n   2820                 code = compiler(mod, cell_name, \"exec\")\n-> 2821                 if self.run_code(code, result):\n        self.run_code = <bound method InteractiveShell.run_code of <ipykernel.zmqshell.ZMQInteractiveShell object>>\n        code = <code object <module> at 0x10f6cbed0, file \"<ipython-input-87-0bc79f3bdc21>\", line 10>\n        result = <ExecutionResult object at 10f20b358, execution_..._before_exec=None error_in_exec=None result=None>\n   2822                     return True\n   2823 \n   2824             for i, node in enumerate(to_run_interactive):\n   2825                 mod = ast.Interactive([node])\n\n...........................................................................\n/Users/Dayo/anaconda/lib/python3.5/site-packages/IPython/core/interactiveshell.py in run_code(self=<ipykernel.zmqshell.ZMQInteractiveShell object>, code_obj=<code object <module> at 0x10f6cbed0, file \"<ipython-input-87-0bc79f3bdc21>\", line 10>, result=<ExecutionResult object at 10f20b358, execution_..._before_exec=None error_in_exec=None result=None>)\n   2876         outflag = 1  # happens in more places, so it's easier as default\n   2877         try:\n   2878             try:\n   2879                 self.hooks.pre_run_code_hook()\n   2880                 #rprint('Running code', repr(code_obj)) # dbg\n-> 2881                 exec(code_obj, self.user_global_ns, self.user_ns)\n        code_obj = <code object <module> at 0x10f6cbed0, file \"<ipython-input-87-0bc79f3bdc21>\", line 10>\n        self.user_global_ns = {'BaseEstimator': <class 'sklearn.base.BaseEstimator'>, 'BernoulliNB': <class 'sklearn.naive_bayes.BernoulliNB'>, 'CountVectorizer': <class 'sklearn.feature_extraction.text.CountVectorizer'>, 'In': ['', \"import os\\nimport pandas as pd\\nimport numpy as np... return pd.read_csv(csv_path, encoding='latin-1')\", 'spam = load_spam_data()\\nspam.head()', '# Drop column and change names\\nspam.drop([\\'Unnam...olumns={\"v1\":\"label\", \"v2\":\"text\"}, inplace=True)', 'spam.tail()', 'from sklearn.feature_extraction.text import Coun...BaseEstimator, TransformerMixin\\n\\ntrain_set.values', 'from sklearn.model_selection import train_test_s..._test_split(spam, test_size=0.2, random_state=42)', 'from sklearn.feature_extraction.text import Coun...BaseEstimator, TransformerMixin\\n\\ntrain_set.values', 'from sklearn.feature_extraction.text import Coun...timator, TransformerMixin\\n\\ntrain_set.values[:, 1]', 'train_set.values[1]', 'train_set.values[1][1]', 'subset_of_trainset = trainset[:4, :]', \"subset_of_trainset = train_set[:4, :]\\nprint(subs...t[0][1] = 'balls'\\nprint(subset_of_trainset[0][1])\", \"subset_of_trainset = train_set.values[:4, :]\\npri...t[0][1] = 'balls'\\nprint(subset_of_trainset[0][1])\", 'import string\\n\\nprint(string.punctuation)', 'import string\\n\\ntext = train_set.values[0][1]\\ntext.translate(None, string.punctuation)', \"import string\\n\\ntext = train_set.values[0][1]\\ntra...', string.punctuation)\\ntext.translate(translator)\", \"import string\\n\\ntext = train_set.values[0][1]\\ntra...', string.punctuation)\\ntext.translate(translator)\", 'import string\\n\\n# text = train_set.values[0][1]\\n#...ext.translate(translator)\\n\\ntrain_set.values[0][1]', 'from sklearn.model_selection import train_test_s..._test_split(spam, test_size=0.2, random_state=42)', ...], 'KNeighborsClassifier': <class 'sklearn.neighbors.classification.KNeighborsClassifier'>, 'MultinomialNB': <class 'sklearn.naive_bayes.MultinomialNB'>, 'NearestCentroid': <class 'sklearn.neighbors.nearest_centroid.NearestCentroid'>, 'Out': {2:      v1                                         ...       NaN        NaN  \n4        NaN        NaN  , 4:      label                                      ...                       Rofl. Its true to its name, 7: array([['ham', 'balls'],\n       ['spam',\n       ...ork now. Going have in few min.']], dtype=object), 8: array(['balls',\n       '(Bank of Granite issues ...work now. Going have in few min.'], dtype=object), 9: array(['spam',\n       '(Bank of Granite issues S...ymbol CDGT That is a $5.00 per..'], dtype=object), 10: '(Bank of Granite issues Strong-Buy) EXPLOSIVE PI...******** Nasdaq Symbol CDGT That is a $5.00 per..', 16: 'balls', 17: 'balls', 18: 'balls', 20: \"No I'm in the same boat. Still here at my moms. Check me out on yo. I'm half naked.\", ...}, 'Perceptron': <class 'sklearn.linear_model.perceptron.Perceptron'>, 'Pipeline': <class 'sklearn.pipeline.Pipeline'>, ...}\n        self.user_ns = {'BaseEstimator': <class 'sklearn.base.BaseEstimator'>, 'BernoulliNB': <class 'sklearn.naive_bayes.BernoulliNB'>, 'CountVectorizer': <class 'sklearn.feature_extraction.text.CountVectorizer'>, 'In': ['', \"import os\\nimport pandas as pd\\nimport numpy as np... return pd.read_csv(csv_path, encoding='latin-1')\", 'spam = load_spam_data()\\nspam.head()', '# Drop column and change names\\nspam.drop([\\'Unnam...olumns={\"v1\":\"label\", \"v2\":\"text\"}, inplace=True)', 'spam.tail()', 'from sklearn.feature_extraction.text import Coun...BaseEstimator, TransformerMixin\\n\\ntrain_set.values', 'from sklearn.model_selection import train_test_s..._test_split(spam, test_size=0.2, random_state=42)', 'from sklearn.feature_extraction.text import Coun...BaseEstimator, TransformerMixin\\n\\ntrain_set.values', 'from sklearn.feature_extraction.text import Coun...timator, TransformerMixin\\n\\ntrain_set.values[:, 1]', 'train_set.values[1]', 'train_set.values[1][1]', 'subset_of_trainset = trainset[:4, :]', \"subset_of_trainset = train_set[:4, :]\\nprint(subs...t[0][1] = 'balls'\\nprint(subset_of_trainset[0][1])\", \"subset_of_trainset = train_set.values[:4, :]\\npri...t[0][1] = 'balls'\\nprint(subset_of_trainset[0][1])\", 'import string\\n\\nprint(string.punctuation)', 'import string\\n\\ntext = train_set.values[0][1]\\ntext.translate(None, string.punctuation)', \"import string\\n\\ntext = train_set.values[0][1]\\ntra...', string.punctuation)\\ntext.translate(translator)\", \"import string\\n\\ntext = train_set.values[0][1]\\ntra...', string.punctuation)\\ntext.translate(translator)\", 'import string\\n\\n# text = train_set.values[0][1]\\n#...ext.translate(translator)\\n\\ntrain_set.values[0][1]', 'from sklearn.model_selection import train_test_s..._test_split(spam, test_size=0.2, random_state=42)', ...], 'KNeighborsClassifier': <class 'sklearn.neighbors.classification.KNeighborsClassifier'>, 'MultinomialNB': <class 'sklearn.naive_bayes.MultinomialNB'>, 'NearestCentroid': <class 'sklearn.neighbors.nearest_centroid.NearestCentroid'>, 'Out': {2:      v1                                         ...       NaN        NaN  \n4        NaN        NaN  , 4:      label                                      ...                       Rofl. Its true to its name, 7: array([['ham', 'balls'],\n       ['spam',\n       ...ork now. Going have in few min.']], dtype=object), 8: array(['balls',\n       '(Bank of Granite issues ...work now. Going have in few min.'], dtype=object), 9: array(['spam',\n       '(Bank of Granite issues S...ymbol CDGT That is a $5.00 per..'], dtype=object), 10: '(Bank of Granite issues Strong-Buy) EXPLOSIVE PI...******** Nasdaq Symbol CDGT That is a $5.00 per..', 16: 'balls', 17: 'balls', 18: 'balls', 20: \"No I'm in the same boat. Still here at my moms. Check me out on yo. I'm half naked.\", ...}, 'Perceptron': <class 'sklearn.linear_model.perceptron.Perceptron'>, 'Pipeline': <class 'sklearn.pipeline.Pipeline'>, ...}\n   2882             finally:\n   2883                 # Reset our crash handler in place\n   2884                 sys.excepthook = old_excepthook\n   2885         except SystemExit as e:\n\n...........................................................................\n/Users/Dayo/repos/Learning-Data-Science/hands_on_ml/<ipython-input-87-0bc79f3bdc21> in <module>()\n      5 from sklearn.ensemble import RandomForestClassifier\n      6 from sklearn.linear_model import SGDClassifier\n      7 from sklearn.linear_model import Perceptron\n      8 \n      9 svm_clf = svm.SVC()\n---> 10 print('SVM results: {}'.format(cross_val_score(svm_clf, X_train, y_train, scoring='f1', n_jobs=2)))\n     11 \n     12 mNB_clf = MultinomialNB()\n     13 print('Multinomial Naive Bayes results: {}'.format(cross_val_score(mNB_clf, X_train, y_train, scoring='f1', n_jobs=2)))\n     14 \n\n...........................................................................\n/Users/Dayo/anaconda/lib/python3.5/site-packages/sklearn/model_selection/_validation.py in cross_val_score(estimator=SVC(C=1.0, cache_size=200, class_weight=None, co...None, shrinking=True,\n  tol=0.001, verbose=False), X=array([ \"No I'm in the same boat. Still here at ...work now. Going have in few min.'], dtype=object), y=array(['ham', 'spam', 'ham', ..., 'ham', 'ham', 'ham'], dtype=object), groups=None, scoring='f1', cv=StratifiedKFold(n_splits=3, random_state=None, shuffle=False), n_jobs=2, verbose=0, fit_params=None, pre_dispatch='2*n_jobs')\n    135     parallel = Parallel(n_jobs=n_jobs, verbose=verbose,\n    136                         pre_dispatch=pre_dispatch)\n    137     scores = parallel(delayed(_fit_and_score)(clone(estimator), X, y, scorer,\n    138                                               train, test, verbose, None,\n    139                                               fit_params)\n--> 140                       for train, test in cv_iter)\n        cv_iter = [(array([1485, 1487, 1488, ..., 4454, 4455, 4456]), array([   0,    1,    2, ..., 1483, 1484, 1486])), (array([   0,    1,    2, ..., 4454, 4455, 4456]), array([1485, 1487, 1488, ..., 2969, 2970, 2971])), (array([   0,    1,    2, ..., 2969, 2970, 2971]), array([2972, 2973, 2974, ..., 4454, 4455, 4456]))]\n    141     return np.array(scores)[:, 0]\n    142 \n    143 \n    144 def _fit_and_score(estimator, X, y, scorer, train, test, verbose,\n\n...........................................................................\n/Users/Dayo/anaconda/lib/python3.5/site-packages/sklearn/externals/joblib/parallel.py in __call__(self=Parallel(n_jobs=2), iterable=<generator object cross_val_score.<locals>.<genexpr>>)\n    763             if pre_dispatch == \"all\" or n_jobs == 1:\n    764                 # The iterable was consumed all at once by the above for loop.\n    765                 # No need to wait for async callbacks to trigger to\n    766                 # consumption.\n    767                 self._iterating = False\n--> 768             self.retrieve()\n        self.retrieve = <bound method Parallel.retrieve of Parallel(n_jobs=2)>\n    769             # Make sure that we get a last message telling us we are done\n    770             elapsed_time = time.time() - self._start_time\n    771             self._print('Done %3i out of %3i | elapsed: %s finished',\n    772                         (len(self._output), len(self._output),\n\n---------------------------------------------------------------------------\nSub-process traceback:\n---------------------------------------------------------------------------\nValueError                                         Thu May 18 18:26:56 2017\nPID: 2250                     Python 3.5.2: /Users/Dayo/anaconda/bin/python\n...........................................................................\n/Users/Dayo/anaconda/lib/python3.5/site-packages/sklearn/externals/joblib/parallel.py in __call__(self=<sklearn.externals.joblib.parallel.BatchedCalls object>)\n    126     def __init__(self, iterator_slice):\n    127         self.items = list(iterator_slice)\n    128         self._size = len(self.items)\n    129 \n    130     def __call__(self):\n--> 131         return [func(*args, **kwargs) for func, args, kwargs in self.items]\n        self.items = [(<function _fit_and_score>, (SVC(C=1.0, cache_size=200, class_weight=None, co...None, shrinking=True,\n  tol=0.001, verbose=False), array([ \"No I'm in the same boat. Still here at ...work now. Going have in few min.'], dtype=object), array(['ham', 'spam', 'ham', ..., 'ham', 'ham', 'ham'], dtype=object), make_scorer(f1_score), array([1485, 1487, 1488, ..., 4454, 4455, 4456]), array([   0,    1,    2, ..., 1483, 1484, 1486]), 0, None, None), {})]\n    132 \n    133     def __len__(self):\n    134         return self._size\n    135 \n\n...........................................................................\n/Users/Dayo/anaconda/lib/python3.5/site-packages/sklearn/externals/joblib/parallel.py in <listcomp>(.0=<list_iterator object>)\n    126     def __init__(self, iterator_slice):\n    127         self.items = list(iterator_slice)\n    128         self._size = len(self.items)\n    129 \n    130     def __call__(self):\n--> 131         return [func(*args, **kwargs) for func, args, kwargs in self.items]\n        func = <function _fit_and_score>\n        args = (SVC(C=1.0, cache_size=200, class_weight=None, co...None, shrinking=True,\n  tol=0.001, verbose=False), array([ \"No I'm in the same boat. Still here at ...work now. Going have in few min.'], dtype=object), array(['ham', 'spam', 'ham', ..., 'ham', 'ham', 'ham'], dtype=object), make_scorer(f1_score), array([1485, 1487, 1488, ..., 4454, 4455, 4456]), array([   0,    1,    2, ..., 1483, 1484, 1486]), 0, None, None)\n        kwargs = {}\n    132 \n    133     def __len__(self):\n    134         return self._size\n    135 \n\n...........................................................................\n/Users/Dayo/anaconda/lib/python3.5/site-packages/sklearn/model_selection/_validation.py in _fit_and_score(estimator=SVC(C=1.0, cache_size=200, class_weight=None, co...None, shrinking=True,\n  tol=0.001, verbose=False), X=array([ \"No I'm in the same boat. Still here at ...work now. Going have in few min.'], dtype=object), y=array(['ham', 'spam', 'ham', ..., 'ham', 'ham', 'ham'], dtype=object), scorer=make_scorer(f1_score), train=array([1485, 1487, 1488, ..., 4454, 4455, 4456]), test=array([   0,    1,    2, ..., 1483, 1484, 1486]), verbose=0, parameters=None, fit_params={}, return_train_score=False, return_parameters=False, return_n_test_samples=False, return_times=False, error_score='raise')\n    233 \n    234     try:\n    235         if y_train is None:\n    236             estimator.fit(X_train, **fit_params)\n    237         else:\n--> 238             estimator.fit(X_train, y_train, **fit_params)\n        estimator.fit = <bound method BaseLibSVM.fit of SVC(C=1.0, cache...one, shrinking=True,\n  tol=0.001, verbose=False)>\n        X_train = array([ \"It's not that you make me cry. It's jus...work now. Going have in few min.'], dtype=object)\n        y_train = array(['ham', 'ham', 'ham', ..., 'ham', 'ham', 'ham'], dtype=object)\n        fit_params = {}\n    239 \n    240     except Exception as e:\n    241         # Note fit time as time until error\n    242         fit_time = time.time() - start_time\n\n...........................................................................\n/Users/Dayo/anaconda/lib/python3.5/site-packages/sklearn/svm/base.py in fit(self=SVC(C=1.0, cache_size=200, class_weight=None, co...None, shrinking=True,\n  tol=0.001, verbose=False), X=array([ \"It's not that you make me cry. It's jus...work now. Going have in few min.'], dtype=object), y=array(['ham', 'ham', 'ham', ..., 'ham', 'ham', 'ham'], dtype=object), sample_weight=None)\n    146         sparse = sp.isspmatrix(X)\n    147         if sparse and self.kernel == \"precomputed\":\n    148             raise TypeError(\"Sparse precomputed kernels are not supported.\")\n    149         self._sparse = sparse and not callable(self.kernel)\n    150 \n--> 151         X, y = check_X_y(X, y, dtype=np.float64, order='C', accept_sparse='csr')\n        X = array([ \"It's not that you make me cry. It's jus...work now. Going have in few min.'], dtype=object)\n        y = array(['ham', 'ham', 'ham', ..., 'ham', 'ham', 'ham'], dtype=object)\n    152         y = self._validate_targets(y)\n    153 \n    154         sample_weight = np.asarray([]\n    155                                    if sample_weight is None\n\n...........................................................................\n/Users/Dayo/anaconda/lib/python3.5/site-packages/sklearn/utils/validation.py in check_X_y(X=array([ \"It's not that you make me cry. It's jus...work now. Going have in few min.'], dtype=object), y=array(['ham', 'ham', 'ham', ..., 'ham', 'ham', 'ham'], dtype=object), accept_sparse='csr', dtype=<class 'numpy.float64'>, order='C', copy=False, force_all_finite=True, ensure_2d=True, allow_nd=False, multi_output=False, ensure_min_samples=1, ensure_min_features=1, y_numeric=False, warn_on_dtype=False, estimator=None)\n    516     y_converted : object\n    517         The converted and validated y.\n    518     \"\"\"\n    519     X = check_array(X, accept_sparse, dtype, order, copy, force_all_finite,\n    520                     ensure_2d, allow_nd, ensure_min_samples,\n--> 521                     ensure_min_features, warn_on_dtype, estimator)\n        ensure_min_features = 1\n        warn_on_dtype = False\n        estimator = None\n    522     if multi_output:\n    523         y = check_array(y, 'csr', force_all_finite=True, ensure_2d=False,\n    524                         dtype=None)\n    525     else:\n\n...........................................................................\n/Users/Dayo/anaconda/lib/python3.5/site-packages/sklearn/utils/validation.py in check_array(array=array([ \"It's not that you make me cry. It's jus...work now. Going have in few min.'], dtype=object), accept_sparse=['csr'], dtype=<class 'numpy.float64'>, order='C', copy=False, force_all_finite=True, ensure_2d=True, allow_nd=False, ensure_min_samples=1, ensure_min_features=1, warn_on_dtype=False, estimator=None)\n    377 \n    378     if sp.issparse(array):\n    379         array = _ensure_sparse_format(array, accept_sparse, dtype, copy,\n    380                                       force_all_finite)\n    381     else:\n--> 382         array = np.array(array, dtype=dtype, order=order, copy=copy)\n        array = array([ \"It's not that you make me cry. It's jus...work now. Going have in few min.'], dtype=object)\n        dtype = <class 'numpy.float64'>\n        order = 'C'\n        copy = False\n    383 \n    384         if ensure_2d:\n    385             if array.ndim == 1:\n    386                 if ensure_min_samples >= 2:\n\nValueError: could not convert string to float: 'In work now. Going have in few min.'\n___________________________________________________________________________",
     "output_type": "error",
     "traceback": [
      "\u001b[0;31m---------------------------------------------------------------------------\u001b[0m",
      "\u001b[0;31mRemoteTraceback\u001b[0m                           Traceback (most recent call last)",
      "\u001b[0;31mRemoteTraceback\u001b[0m: \n\"\"\"\nTraceback (most recent call last):\n  File \"/Users/Dayo/anaconda/lib/python3.5/site-packages/sklearn/externals/joblib/_parallel_backends.py\", line 344, in __call__\n    return self.func(*args, **kwargs)\n  File \"/Users/Dayo/anaconda/lib/python3.5/site-packages/sklearn/externals/joblib/parallel.py\", line 131, in __call__\n    return [func(*args, **kwargs) for func, args, kwargs in self.items]\n  File \"/Users/Dayo/anaconda/lib/python3.5/site-packages/sklearn/externals/joblib/parallel.py\", line 131, in <listcomp>\n    return [func(*args, **kwargs) for func, args, kwargs in self.items]\n  File \"/Users/Dayo/anaconda/lib/python3.5/site-packages/sklearn/model_selection/_validation.py\", line 238, in _fit_and_score\n    estimator.fit(X_train, y_train, **fit_params)\n  File \"/Users/Dayo/anaconda/lib/python3.5/site-packages/sklearn/svm/base.py\", line 151, in fit\n    X, y = check_X_y(X, y, dtype=np.float64, order='C', accept_sparse='csr')\n  File \"/Users/Dayo/anaconda/lib/python3.5/site-packages/sklearn/utils/validation.py\", line 521, in check_X_y\n    ensure_min_features, warn_on_dtype, estimator)\n  File \"/Users/Dayo/anaconda/lib/python3.5/site-packages/sklearn/utils/validation.py\", line 382, in check_array\n    array = np.array(array, dtype=dtype, order=order, copy=copy)\nValueError: could not convert string to float: 'In work now. Going have in few min.'\n\nDuring handling of the above exception, another exception occurred:\n\nTraceback (most recent call last):\n  File \"/Users/Dayo/anaconda/lib/python3.5/multiprocessing/pool.py\", line 119, in worker\n    result = (True, func(*args, **kwds))\n  File \"/Users/Dayo/anaconda/lib/python3.5/site-packages/sklearn/externals/joblib/_parallel_backends.py\", line 353, in __call__\n    raise TransportableException(text, e_type)\nsklearn.externals.joblib.my_exceptions.TransportableException: TransportableException\n___________________________________________________________________________\nValueError                                         Thu May 18 18:26:56 2017\nPID: 2250                     Python 3.5.2: /Users/Dayo/anaconda/bin/python\n...........................................................................\n/Users/Dayo/anaconda/lib/python3.5/site-packages/sklearn/externals/joblib/parallel.py in __call__(self=<sklearn.externals.joblib.parallel.BatchedCalls object>)\n    126     def __init__(self, iterator_slice):\n    127         self.items = list(iterator_slice)\n    128         self._size = len(self.items)\n    129 \n    130     def __call__(self):\n--> 131         return [func(*args, **kwargs) for func, args, kwargs in self.items]\n        self.items = [(<function _fit_and_score>, (SVC(C=1.0, cache_size=200, class_weight=None, co...None, shrinking=True,\n  tol=0.001, verbose=False), array([ \"No I'm in the same boat. Still here at ...work now. Going have in few min.'], dtype=object), array(['ham', 'spam', 'ham', ..., 'ham', 'ham', 'ham'], dtype=object), make_scorer(f1_score), array([1485, 1487, 1488, ..., 4454, 4455, 4456]), array([   0,    1,    2, ..., 1483, 1484, 1486]), 0, None, None), {})]\n    132 \n    133     def __len__(self):\n    134         return self._size\n    135 \n\n...........................................................................\n/Users/Dayo/anaconda/lib/python3.5/site-packages/sklearn/externals/joblib/parallel.py in <listcomp>(.0=<list_iterator object>)\n    126     def __init__(self, iterator_slice):\n    127         self.items = list(iterator_slice)\n    128         self._size = len(self.items)\n    129 \n    130     def __call__(self):\n--> 131         return [func(*args, **kwargs) for func, args, kwargs in self.items]\n        func = <function _fit_and_score>\n        args = (SVC(C=1.0, cache_size=200, class_weight=None, co...None, shrinking=True,\n  tol=0.001, verbose=False), array([ \"No I'm in the same boat. Still here at ...work now. Going have in few min.'], dtype=object), array(['ham', 'spam', 'ham', ..., 'ham', 'ham', 'ham'], dtype=object), make_scorer(f1_score), array([1485, 1487, 1488, ..., 4454, 4455, 4456]), array([   0,    1,    2, ..., 1483, 1484, 1486]), 0, None, None)\n        kwargs = {}\n    132 \n    133     def __len__(self):\n    134         return self._size\n    135 \n\n...........................................................................\n/Users/Dayo/anaconda/lib/python3.5/site-packages/sklearn/model_selection/_validation.py in _fit_and_score(estimator=SVC(C=1.0, cache_size=200, class_weight=None, co...None, shrinking=True,\n  tol=0.001, verbose=False), X=array([ \"No I'm in the same boat. Still here at ...work now. Going have in few min.'], dtype=object), y=array(['ham', 'spam', 'ham', ..., 'ham', 'ham', 'ham'], dtype=object), scorer=make_scorer(f1_score), train=array([1485, 1487, 1488, ..., 4454, 4455, 4456]), test=array([   0,    1,    2, ..., 1483, 1484, 1486]), verbose=0, parameters=None, fit_params={}, return_train_score=False, return_parameters=False, return_n_test_samples=False, return_times=False, error_score='raise')\n    233 \n    234     try:\n    235         if y_train is None:\n    236             estimator.fit(X_train, **fit_params)\n    237         else:\n--> 238             estimator.fit(X_train, y_train, **fit_params)\n        estimator.fit = <bound method BaseLibSVM.fit of SVC(C=1.0, cache...one, shrinking=True,\n  tol=0.001, verbose=False)>\n        X_train = array([ \"It's not that you make me cry. It's jus...work now. Going have in few min.'], dtype=object)\n        y_train = array(['ham', 'ham', 'ham', ..., 'ham', 'ham', 'ham'], dtype=object)\n        fit_params = {}\n    239 \n    240     except Exception as e:\n    241         # Note fit time as time until error\n    242         fit_time = time.time() - start_time\n\n...........................................................................\n/Users/Dayo/anaconda/lib/python3.5/site-packages/sklearn/svm/base.py in fit(self=SVC(C=1.0, cache_size=200, class_weight=None, co...None, shrinking=True,\n  tol=0.001, verbose=False), X=array([ \"It's not that you make me cry. It's jus...work now. Going have in few min.'], dtype=object), y=array(['ham', 'ham', 'ham', ..., 'ham', 'ham', 'ham'], dtype=object), sample_weight=None)\n    146         sparse = sp.isspmatrix(X)\n    147         if sparse and self.kernel == \"precomputed\":\n    148             raise TypeError(\"Sparse precomputed kernels are not supported.\")\n    149         self._sparse = sparse and not callable(self.kernel)\n    150 \n--> 151         X, y = check_X_y(X, y, dtype=np.float64, order='C', accept_sparse='csr')\n        X = array([ \"It's not that you make me cry. It's jus...work now. Going have in few min.'], dtype=object)\n        y = array(['ham', 'ham', 'ham', ..., 'ham', 'ham', 'ham'], dtype=object)\n    152         y = self._validate_targets(y)\n    153 \n    154         sample_weight = np.asarray([]\n    155                                    if sample_weight is None\n\n...........................................................................\n/Users/Dayo/anaconda/lib/python3.5/site-packages/sklearn/utils/validation.py in check_X_y(X=array([ \"It's not that you make me cry. It's jus...work now. Going have in few min.'], dtype=object), y=array(['ham', 'ham', 'ham', ..., 'ham', 'ham', 'ham'], dtype=object), accept_sparse='csr', dtype=<class 'numpy.float64'>, order='C', copy=False, force_all_finite=True, ensure_2d=True, allow_nd=False, multi_output=False, ensure_min_samples=1, ensure_min_features=1, y_numeric=False, warn_on_dtype=False, estimator=None)\n    516     y_converted : object\n    517         The converted and validated y.\n    518     \"\"\"\n    519     X = check_array(X, accept_sparse, dtype, order, copy, force_all_finite,\n    520                     ensure_2d, allow_nd, ensure_min_samples,\n--> 521                     ensure_min_features, warn_on_dtype, estimator)\n        ensure_min_features = 1\n        warn_on_dtype = False\n        estimator = None\n    522     if multi_output:\n    523         y = check_array(y, 'csr', force_all_finite=True, ensure_2d=False,\n    524                         dtype=None)\n    525     else:\n\n...........................................................................\n/Users/Dayo/anaconda/lib/python3.5/site-packages/sklearn/utils/validation.py in check_array(array=array([ \"It's not that you make me cry. It's jus...work now. Going have in few min.'], dtype=object), accept_sparse=['csr'], dtype=<class 'numpy.float64'>, order='C', copy=False, force_all_finite=True, ensure_2d=True, allow_nd=False, ensure_min_samples=1, ensure_min_features=1, warn_on_dtype=False, estimator=None)\n    377 \n    378     if sp.issparse(array):\n    379         array = _ensure_sparse_format(array, accept_sparse, dtype, copy,\n    380                                       force_all_finite)\n    381     else:\n--> 382         array = np.array(array, dtype=dtype, order=order, copy=copy)\n        array = array([ \"It's not that you make me cry. It's jus...work now. Going have in few min.'], dtype=object)\n        dtype = <class 'numpy.float64'>\n        order = 'C'\n        copy = False\n    383 \n    384         if ensure_2d:\n    385             if array.ndim == 1:\n    386                 if ensure_min_samples >= 2:\n\nValueError: could not convert string to float: 'In work now. Going have in few min.'\n___________________________________________________________________________\n\"\"\"",
      "\nThe above exception was the direct cause of the following exception:\n",
      "\u001b[0;31mTransportableException\u001b[0m                    Traceback (most recent call last)",
      "\u001b[0;32m/Users/Dayo/anaconda/lib/python3.5/site-packages/sklearn/externals/joblib/parallel.py\u001b[0m in \u001b[0;36mretrieve\u001b[0;34m(self)\u001b[0m\n\u001b[1;32m    681\u001b[0m                 \u001b[0;32mif\u001b[0m \u001b[0;34m'timeout'\u001b[0m \u001b[0;32min\u001b[0m \u001b[0mgetfullargspec\u001b[0m\u001b[0;34m(\u001b[0m\u001b[0mjob\u001b[0m\u001b[0;34m.\u001b[0m\u001b[0mget\u001b[0m\u001b[0;34m)\u001b[0m\u001b[0;34m.\u001b[0m\u001b[0margs\u001b[0m\u001b[0;34m:\u001b[0m\u001b[0;34m\u001b[0m\u001b[0m\n\u001b[0;32m--> 682\u001b[0;31m                     \u001b[0mself\u001b[0m\u001b[0;34m.\u001b[0m\u001b[0m_output\u001b[0m\u001b[0;34m.\u001b[0m\u001b[0mextend\u001b[0m\u001b[0;34m(\u001b[0m\u001b[0mjob\u001b[0m\u001b[0;34m.\u001b[0m\u001b[0mget\u001b[0m\u001b[0;34m(\u001b[0m\u001b[0mtimeout\u001b[0m\u001b[0;34m=\u001b[0m\u001b[0mself\u001b[0m\u001b[0;34m.\u001b[0m\u001b[0mtimeout\u001b[0m\u001b[0;34m)\u001b[0m\u001b[0;34m)\u001b[0m\u001b[0;34m\u001b[0m\u001b[0m\n\u001b[0m\u001b[1;32m    683\u001b[0m                 \u001b[0;32melse\u001b[0m\u001b[0;34m:\u001b[0m\u001b[0;34m\u001b[0m\u001b[0m\n",
      "\u001b[0;32m/Users/Dayo/anaconda/lib/python3.5/multiprocessing/pool.py\u001b[0m in \u001b[0;36mget\u001b[0;34m(self, timeout)\u001b[0m\n\u001b[1;32m    607\u001b[0m         \u001b[0;32melse\u001b[0m\u001b[0;34m:\u001b[0m\u001b[0;34m\u001b[0m\u001b[0m\n\u001b[0;32m--> 608\u001b[0;31m             \u001b[0;32mraise\u001b[0m \u001b[0mself\u001b[0m\u001b[0;34m.\u001b[0m\u001b[0m_value\u001b[0m\u001b[0;34m\u001b[0m\u001b[0m\n\u001b[0m\u001b[1;32m    609\u001b[0m \u001b[0;34m\u001b[0m\u001b[0m\n",
      "\u001b[0;31mTransportableException\u001b[0m: TransportableException\n___________________________________________________________________________\nValueError                                         Thu May 18 18:26:56 2017\nPID: 2250                     Python 3.5.2: /Users/Dayo/anaconda/bin/python\n...........................................................................\n/Users/Dayo/anaconda/lib/python3.5/site-packages/sklearn/externals/joblib/parallel.py in __call__(self=<sklearn.externals.joblib.parallel.BatchedCalls object>)\n    126     def __init__(self, iterator_slice):\n    127         self.items = list(iterator_slice)\n    128         self._size = len(self.items)\n    129 \n    130     def __call__(self):\n--> 131         return [func(*args, **kwargs) for func, args, kwargs in self.items]\n        self.items = [(<function _fit_and_score>, (SVC(C=1.0, cache_size=200, class_weight=None, co...None, shrinking=True,\n  tol=0.001, verbose=False), array([ \"No I'm in the same boat. Still here at ...work now. Going have in few min.'], dtype=object), array(['ham', 'spam', 'ham', ..., 'ham', 'ham', 'ham'], dtype=object), make_scorer(f1_score), array([1485, 1487, 1488, ..., 4454, 4455, 4456]), array([   0,    1,    2, ..., 1483, 1484, 1486]), 0, None, None), {})]\n    132 \n    133     def __len__(self):\n    134         return self._size\n    135 \n\n...........................................................................\n/Users/Dayo/anaconda/lib/python3.5/site-packages/sklearn/externals/joblib/parallel.py in <listcomp>(.0=<list_iterator object>)\n    126     def __init__(self, iterator_slice):\n    127         self.items = list(iterator_slice)\n    128         self._size = len(self.items)\n    129 \n    130     def __call__(self):\n--> 131         return [func(*args, **kwargs) for func, args, kwargs in self.items]\n        func = <function _fit_and_score>\n        args = (SVC(C=1.0, cache_size=200, class_weight=None, co...None, shrinking=True,\n  tol=0.001, verbose=False), array([ \"No I'm in the same boat. Still here at ...work now. Going have in few min.'], dtype=object), array(['ham', 'spam', 'ham', ..., 'ham', 'ham', 'ham'], dtype=object), make_scorer(f1_score), array([1485, 1487, 1488, ..., 4454, 4455, 4456]), array([   0,    1,    2, ..., 1483, 1484, 1486]), 0, None, None)\n        kwargs = {}\n    132 \n    133     def __len__(self):\n    134         return self._size\n    135 \n\n...........................................................................\n/Users/Dayo/anaconda/lib/python3.5/site-packages/sklearn/model_selection/_validation.py in _fit_and_score(estimator=SVC(C=1.0, cache_size=200, class_weight=None, co...None, shrinking=True,\n  tol=0.001, verbose=False), X=array([ \"No I'm in the same boat. Still here at ...work now. Going have in few min.'], dtype=object), y=array(['ham', 'spam', 'ham', ..., 'ham', 'ham', 'ham'], dtype=object), scorer=make_scorer(f1_score), train=array([1485, 1487, 1488, ..., 4454, 4455, 4456]), test=array([   0,    1,    2, ..., 1483, 1484, 1486]), verbose=0, parameters=None, fit_params={}, return_train_score=False, return_parameters=False, return_n_test_samples=False, return_times=False, error_score='raise')\n    233 \n    234     try:\n    235         if y_train is None:\n    236             estimator.fit(X_train, **fit_params)\n    237         else:\n--> 238             estimator.fit(X_train, y_train, **fit_params)\n        estimator.fit = <bound method BaseLibSVM.fit of SVC(C=1.0, cache...one, shrinking=True,\n  tol=0.001, verbose=False)>\n        X_train = array([ \"It's not that you make me cry. It's jus...work now. Going have in few min.'], dtype=object)\n        y_train = array(['ham', 'ham', 'ham', ..., 'ham', 'ham', 'ham'], dtype=object)\n        fit_params = {}\n    239 \n    240     except Exception as e:\n    241         # Note fit time as time until error\n    242         fit_time = time.time() - start_time\n\n...........................................................................\n/Users/Dayo/anaconda/lib/python3.5/site-packages/sklearn/svm/base.py in fit(self=SVC(C=1.0, cache_size=200, class_weight=None, co...None, shrinking=True,\n  tol=0.001, verbose=False), X=array([ \"It's not that you make me cry. It's jus...work now. Going have in few min.'], dtype=object), y=array(['ham', 'ham', 'ham', ..., 'ham', 'ham', 'ham'], dtype=object), sample_weight=None)\n    146         sparse = sp.isspmatrix(X)\n    147         if sparse and self.kernel == \"precomputed\":\n    148             raise TypeError(\"Sparse precomputed kernels are not supported.\")\n    149         self._sparse = sparse and not callable(self.kernel)\n    150 \n--> 151         X, y = check_X_y(X, y, dtype=np.float64, order='C', accept_sparse='csr')\n        X = array([ \"It's not that you make me cry. It's jus...work now. Going have in few min.'], dtype=object)\n        y = array(['ham', 'ham', 'ham', ..., 'ham', 'ham', 'ham'], dtype=object)\n    152         y = self._validate_targets(y)\n    153 \n    154         sample_weight = np.asarray([]\n    155                                    if sample_weight is None\n\n...........................................................................\n/Users/Dayo/anaconda/lib/python3.5/site-packages/sklearn/utils/validation.py in check_X_y(X=array([ \"It's not that you make me cry. It's jus...work now. Going have in few min.'], dtype=object), y=array(['ham', 'ham', 'ham', ..., 'ham', 'ham', 'ham'], dtype=object), accept_sparse='csr', dtype=<class 'numpy.float64'>, order='C', copy=False, force_all_finite=True, ensure_2d=True, allow_nd=False, multi_output=False, ensure_min_samples=1, ensure_min_features=1, y_numeric=False, warn_on_dtype=False, estimator=None)\n    516     y_converted : object\n    517         The converted and validated y.\n    518     \"\"\"\n    519     X = check_array(X, accept_sparse, dtype, order, copy, force_all_finite,\n    520                     ensure_2d, allow_nd, ensure_min_samples,\n--> 521                     ensure_min_features, warn_on_dtype, estimator)\n        ensure_min_features = 1\n        warn_on_dtype = False\n        estimator = None\n    522     if multi_output:\n    523         y = check_array(y, 'csr', force_all_finite=True, ensure_2d=False,\n    524                         dtype=None)\n    525     else:\n\n...........................................................................\n/Users/Dayo/anaconda/lib/python3.5/site-packages/sklearn/utils/validation.py in check_array(array=array([ \"It's not that you make me cry. It's jus...work now. Going have in few min.'], dtype=object), accept_sparse=['csr'], dtype=<class 'numpy.float64'>, order='C', copy=False, force_all_finite=True, ensure_2d=True, allow_nd=False, ensure_min_samples=1, ensure_min_features=1, warn_on_dtype=False, estimator=None)\n    377 \n    378     if sp.issparse(array):\n    379         array = _ensure_sparse_format(array, accept_sparse, dtype, copy,\n    380                                       force_all_finite)\n    381     else:\n--> 382         array = np.array(array, dtype=dtype, order=order, copy=copy)\n        array = array([ \"It's not that you make me cry. It's jus...work now. Going have in few min.'], dtype=object)\n        dtype = <class 'numpy.float64'>\n        order = 'C'\n        copy = False\n    383 \n    384         if ensure_2d:\n    385             if array.ndim == 1:\n    386                 if ensure_min_samples >= 2:\n\nValueError: could not convert string to float: 'In work now. Going have in few min.'\n___________________________________________________________________________",
      "\nDuring handling of the above exception, another exception occurred:\n",
      "\u001b[0;31mJoblibValueError\u001b[0m                          Traceback (most recent call last)",
      "\u001b[0;32m<ipython-input-87-0bc79f3bdc21>\u001b[0m in \u001b[0;36m<module>\u001b[0;34m()\u001b[0m\n\u001b[1;32m      8\u001b[0m \u001b[0;34m\u001b[0m\u001b[0m\n\u001b[1;32m      9\u001b[0m \u001b[0msvm_clf\u001b[0m \u001b[0;34m=\u001b[0m \u001b[0msvm\u001b[0m\u001b[0;34m.\u001b[0m\u001b[0mSVC\u001b[0m\u001b[0;34m(\u001b[0m\u001b[0;34m)\u001b[0m\u001b[0;34m\u001b[0m\u001b[0m\n\u001b[0;32m---> 10\u001b[0;31m \u001b[0mprint\u001b[0m\u001b[0;34m(\u001b[0m\u001b[0;34m'SVM results: {}'\u001b[0m\u001b[0;34m.\u001b[0m\u001b[0mformat\u001b[0m\u001b[0;34m(\u001b[0m\u001b[0mcross_val_score\u001b[0m\u001b[0;34m(\u001b[0m\u001b[0msvm_clf\u001b[0m\u001b[0;34m,\u001b[0m \u001b[0mX_train\u001b[0m\u001b[0;34m,\u001b[0m \u001b[0my_train\u001b[0m\u001b[0;34m,\u001b[0m \u001b[0mscoring\u001b[0m\u001b[0;34m=\u001b[0m\u001b[0;34m'f1'\u001b[0m\u001b[0;34m,\u001b[0m \u001b[0mn_jobs\u001b[0m\u001b[0;34m=\u001b[0m\u001b[0;36m2\u001b[0m\u001b[0;34m)\u001b[0m\u001b[0;34m)\u001b[0m\u001b[0;34m)\u001b[0m\u001b[0;34m\u001b[0m\u001b[0m\n\u001b[0m\u001b[1;32m     11\u001b[0m \u001b[0;34m\u001b[0m\u001b[0m\n\u001b[1;32m     12\u001b[0m \u001b[0mmNB_clf\u001b[0m \u001b[0;34m=\u001b[0m \u001b[0mMultinomialNB\u001b[0m\u001b[0;34m(\u001b[0m\u001b[0;34m)\u001b[0m\u001b[0;34m\u001b[0m\u001b[0m\n",
      "\u001b[0;32m/Users/Dayo/anaconda/lib/python3.5/site-packages/sklearn/model_selection/_validation.py\u001b[0m in \u001b[0;36mcross_val_score\u001b[0;34m(estimator, X, y, groups, scoring, cv, n_jobs, verbose, fit_params, pre_dispatch)\u001b[0m\n\u001b[1;32m    138\u001b[0m                                               \u001b[0mtrain\u001b[0m\u001b[0;34m,\u001b[0m \u001b[0mtest\u001b[0m\u001b[0;34m,\u001b[0m \u001b[0mverbose\u001b[0m\u001b[0;34m,\u001b[0m \u001b[0;32mNone\u001b[0m\u001b[0;34m,\u001b[0m\u001b[0;34m\u001b[0m\u001b[0m\n\u001b[1;32m    139\u001b[0m                                               fit_params)\n\u001b[0;32m--> 140\u001b[0;31m                       for train, test in cv_iter)\n\u001b[0m\u001b[1;32m    141\u001b[0m     \u001b[0;32mreturn\u001b[0m \u001b[0mnp\u001b[0m\u001b[0;34m.\u001b[0m\u001b[0marray\u001b[0m\u001b[0;34m(\u001b[0m\u001b[0mscores\u001b[0m\u001b[0;34m)\u001b[0m\u001b[0;34m[\u001b[0m\u001b[0;34m:\u001b[0m\u001b[0;34m,\u001b[0m \u001b[0;36m0\u001b[0m\u001b[0;34m]\u001b[0m\u001b[0;34m\u001b[0m\u001b[0m\n\u001b[1;32m    142\u001b[0m \u001b[0;34m\u001b[0m\u001b[0m\n",
      "\u001b[0;32m/Users/Dayo/anaconda/lib/python3.5/site-packages/sklearn/externals/joblib/parallel.py\u001b[0m in \u001b[0;36m__call__\u001b[0;34m(self, iterable)\u001b[0m\n\u001b[1;32m    766\u001b[0m                 \u001b[0;31m# consumption.\u001b[0m\u001b[0;34m\u001b[0m\u001b[0;34m\u001b[0m\u001b[0m\n\u001b[1;32m    767\u001b[0m                 \u001b[0mself\u001b[0m\u001b[0;34m.\u001b[0m\u001b[0m_iterating\u001b[0m \u001b[0;34m=\u001b[0m \u001b[0;32mFalse\u001b[0m\u001b[0;34m\u001b[0m\u001b[0m\n\u001b[0;32m--> 768\u001b[0;31m             \u001b[0mself\u001b[0m\u001b[0;34m.\u001b[0m\u001b[0mretrieve\u001b[0m\u001b[0;34m(\u001b[0m\u001b[0;34m)\u001b[0m\u001b[0;34m\u001b[0m\u001b[0m\n\u001b[0m\u001b[1;32m    769\u001b[0m             \u001b[0;31m# Make sure that we get a last message telling us we are done\u001b[0m\u001b[0;34m\u001b[0m\u001b[0;34m\u001b[0m\u001b[0m\n\u001b[1;32m    770\u001b[0m             \u001b[0melapsed_time\u001b[0m \u001b[0;34m=\u001b[0m \u001b[0mtime\u001b[0m\u001b[0;34m.\u001b[0m\u001b[0mtime\u001b[0m\u001b[0;34m(\u001b[0m\u001b[0;34m)\u001b[0m \u001b[0;34m-\u001b[0m \u001b[0mself\u001b[0m\u001b[0;34m.\u001b[0m\u001b[0m_start_time\u001b[0m\u001b[0;34m\u001b[0m\u001b[0m\n",
      "\u001b[0;32m/Users/Dayo/anaconda/lib/python3.5/site-packages/sklearn/externals/joblib/parallel.py\u001b[0m in \u001b[0;36mretrieve\u001b[0;34m(self)\u001b[0m\n\u001b[1;32m    717\u001b[0m                     \u001b[0mensure_ready\u001b[0m \u001b[0;34m=\u001b[0m \u001b[0mself\u001b[0m\u001b[0;34m.\u001b[0m\u001b[0m_managed_backend\u001b[0m\u001b[0;34m\u001b[0m\u001b[0m\n\u001b[1;32m    718\u001b[0m                     \u001b[0mbackend\u001b[0m\u001b[0;34m.\u001b[0m\u001b[0mabort_everything\u001b[0m\u001b[0;34m(\u001b[0m\u001b[0mensure_ready\u001b[0m\u001b[0;34m=\u001b[0m\u001b[0mensure_ready\u001b[0m\u001b[0;34m)\u001b[0m\u001b[0;34m\u001b[0m\u001b[0m\n\u001b[0;32m--> 719\u001b[0;31m                 \u001b[0;32mraise\u001b[0m \u001b[0mexception\u001b[0m\u001b[0;34m\u001b[0m\u001b[0m\n\u001b[0m\u001b[1;32m    720\u001b[0m \u001b[0;34m\u001b[0m\u001b[0m\n\u001b[1;32m    721\u001b[0m     \u001b[0;32mdef\u001b[0m \u001b[0m__call__\u001b[0m\u001b[0;34m(\u001b[0m\u001b[0mself\u001b[0m\u001b[0;34m,\u001b[0m \u001b[0miterable\u001b[0m\u001b[0;34m)\u001b[0m\u001b[0;34m:\u001b[0m\u001b[0;34m\u001b[0m\u001b[0m\n",
      "\u001b[0;31mJoblibValueError\u001b[0m: JoblibValueError\n___________________________________________________________________________\nMultiprocessing exception:\n...........................................................................\n/Users/Dayo/anaconda/lib/python3.5/runpy.py in _run_module_as_main(mod_name='ipykernel.__main__', alter_argv=1)\n    179         sys.exit(msg)\n    180     main_globals = sys.modules[\"__main__\"].__dict__\n    181     if alter_argv:\n    182         sys.argv[0] = mod_spec.origin\n    183     return _run_code(code, main_globals, None,\n--> 184                      \"__main__\", mod_spec)\n        mod_spec = ModuleSpec(name='ipykernel.__main__', loader=<_f...b/python3.5/site-packages/ipykernel/__main__.py')\n    185 \n    186 def run_module(mod_name, init_globals=None,\n    187                run_name=None, alter_sys=False):\n    188     \"\"\"Execute a module's code without importing it\n\n...........................................................................\n/Users/Dayo/anaconda/lib/python3.5/runpy.py in _run_code(code=<code object <module> at 0x10220d420, file \"/Use...3.5/site-packages/ipykernel/__main__.py\", line 1>, run_globals={'__builtins__': <module 'builtins' (built-in)>, '__cached__': '/Users/Dayo/anaconda/lib/python3.5/site-packages/ipykernel/__pycache__/__main__.cpython-35.pyc', '__doc__': None, '__file__': '/Users/Dayo/anaconda/lib/python3.5/site-packages/ipykernel/__main__.py', '__loader__': <_frozen_importlib_external.SourceFileLoader object>, '__name__': '__main__', '__package__': 'ipykernel', '__spec__': ModuleSpec(name='ipykernel.__main__', loader=<_f...b/python3.5/site-packages/ipykernel/__main__.py'), 'app': <module 'ipykernel.kernelapp' from '/Users/Dayo/.../python3.5/site-packages/ipykernel/kernelapp.py'>}, init_globals=None, mod_name='__main__', mod_spec=ModuleSpec(name='ipykernel.__main__', loader=<_f...b/python3.5/site-packages/ipykernel/__main__.py'), pkg_name='ipykernel', script_name=None)\n     80                        __cached__ = cached,\n     81                        __doc__ = None,\n     82                        __loader__ = loader,\n     83                        __package__ = pkg_name,\n     84                        __spec__ = mod_spec)\n---> 85     exec(code, run_globals)\n        code = <code object <module> at 0x10220d420, file \"/Use...3.5/site-packages/ipykernel/__main__.py\", line 1>\n        run_globals = {'__builtins__': <module 'builtins' (built-in)>, '__cached__': '/Users/Dayo/anaconda/lib/python3.5/site-packages/ipykernel/__pycache__/__main__.cpython-35.pyc', '__doc__': None, '__file__': '/Users/Dayo/anaconda/lib/python3.5/site-packages/ipykernel/__main__.py', '__loader__': <_frozen_importlib_external.SourceFileLoader object>, '__name__': '__main__', '__package__': 'ipykernel', '__spec__': ModuleSpec(name='ipykernel.__main__', loader=<_f...b/python3.5/site-packages/ipykernel/__main__.py'), 'app': <module 'ipykernel.kernelapp' from '/Users/Dayo/.../python3.5/site-packages/ipykernel/kernelapp.py'>}\n     86     return run_globals\n     87 \n     88 def _run_module_code(code, init_globals=None,\n     89                     mod_name=None, mod_spec=None,\n\n...........................................................................\n/Users/Dayo/anaconda/lib/python3.5/site-packages/ipykernel/__main__.py in <module>()\n      1 \n      2 \n----> 3 \n      4 if __name__ == '__main__':\n      5     from ipykernel import kernelapp as app\n      6     app.launch_new_instance()\n      7 \n      8 \n      9 \n     10 \n\n...........................................................................\n/Users/Dayo/anaconda/lib/python3.5/site-packages/traitlets/config/application.py in launch_instance(cls=<class 'ipykernel.kernelapp.IPKernelApp'>, argv=None, **kwargs={})\n    648 \n    649         If a global instance already exists, this reinitializes and starts it\n    650         \"\"\"\n    651         app = cls.instance(**kwargs)\n    652         app.initialize(argv)\n--> 653         app.start()\n        app.start = <bound method IPKernelApp.start of <ipykernel.kernelapp.IPKernelApp object>>\n    654 \n    655 #-----------------------------------------------------------------------------\n    656 # utility functions, for convenience\n    657 #-----------------------------------------------------------------------------\n\n...........................................................................\n/Users/Dayo/anaconda/lib/python3.5/site-packages/ipykernel/kernelapp.py in start(self=<ipykernel.kernelapp.IPKernelApp object>)\n    469             return self.subapp.start()\n    470         if self.poller is not None:\n    471             self.poller.start()\n    472         self.kernel.start()\n    473         try:\n--> 474             ioloop.IOLoop.instance().start()\n    475         except KeyboardInterrupt:\n    476             pass\n    477 \n    478 launch_new_instance = IPKernelApp.launch_instance\n\n...........................................................................\n/Users/Dayo/anaconda/lib/python3.5/site-packages/zmq/eventloop/ioloop.py in start(self=<zmq.eventloop.ioloop.ZMQIOLoop object>)\n    157             PollIOLoop.configure(ZMQIOLoop)\n    158         return PollIOLoop.current(*args, **kwargs)\n    159     \n    160     def start(self):\n    161         try:\n--> 162             super(ZMQIOLoop, self).start()\n        self.start = <bound method ZMQIOLoop.start of <zmq.eventloop.ioloop.ZMQIOLoop object>>\n    163         except ZMQError as e:\n    164             if e.errno == ETERM:\n    165                 # quietly return on ETERM\n    166                 pass\n\n...........................................................................\n/Users/Dayo/anaconda/lib/python3.5/site-packages/tornado/ioloop.py in start(self=<zmq.eventloop.ioloop.ZMQIOLoop object>)\n    882                 self._events.update(event_pairs)\n    883                 while self._events:\n    884                     fd, events = self._events.popitem()\n    885                     try:\n    886                         fd_obj, handler_func = self._handlers[fd]\n--> 887                         handler_func(fd_obj, events)\n        handler_func = <function wrap.<locals>.null_wrapper>\n        fd_obj = <zmq.sugar.socket.Socket object>\n        events = 1\n    888                     except (OSError, IOError) as e:\n    889                         if errno_from_exception(e) == errno.EPIPE:\n    890                             # Happens when the client closes the connection\n    891                             pass\n\n...........................................................................\n/Users/Dayo/anaconda/lib/python3.5/site-packages/tornado/stack_context.py in null_wrapper(*args=(<zmq.sugar.socket.Socket object>, 1), **kwargs={})\n    270         # Fast path when there are no active contexts.\n    271         def null_wrapper(*args, **kwargs):\n    272             try:\n    273                 current_state = _state.contexts\n    274                 _state.contexts = cap_contexts[0]\n--> 275                 return fn(*args, **kwargs)\n        args = (<zmq.sugar.socket.Socket object>, 1)\n        kwargs = {}\n    276             finally:\n    277                 _state.contexts = current_state\n    278         null_wrapper._wrapped = True\n    279         return null_wrapper\n\n...........................................................................\n/Users/Dayo/anaconda/lib/python3.5/site-packages/zmq/eventloop/zmqstream.py in _handle_events(self=<zmq.eventloop.zmqstream.ZMQStream object>, fd=<zmq.sugar.socket.Socket object>, events=1)\n    435             # dispatch events:\n    436             if events & IOLoop.ERROR:\n    437                 gen_log.error(\"got POLLERR event on ZMQStream, which doesn't make sense\")\n    438                 return\n    439             if events & IOLoop.READ:\n--> 440                 self._handle_recv()\n        self._handle_recv = <bound method ZMQStream._handle_recv of <zmq.eventloop.zmqstream.ZMQStream object>>\n    441                 if not self.socket:\n    442                     return\n    443             if events & IOLoop.WRITE:\n    444                 self._handle_send()\n\n...........................................................................\n/Users/Dayo/anaconda/lib/python3.5/site-packages/zmq/eventloop/zmqstream.py in _handle_recv(self=<zmq.eventloop.zmqstream.ZMQStream object>)\n    467                 gen_log.error(\"RECV Error: %s\"%zmq.strerror(e.errno))\n    468         else:\n    469             if self._recv_callback:\n    470                 callback = self._recv_callback\n    471                 # self._recv_callback = None\n--> 472                 self._run_callback(callback, msg)\n        self._run_callback = <bound method ZMQStream._run_callback of <zmq.eventloop.zmqstream.ZMQStream object>>\n        callback = <function wrap.<locals>.null_wrapper>\n        msg = [<zmq.sugar.frame.Frame object>, <zmq.sugar.frame.Frame object>, <zmq.sugar.frame.Frame object>, <zmq.sugar.frame.Frame object>, <zmq.sugar.frame.Frame object>, <zmq.sugar.frame.Frame object>, <zmq.sugar.frame.Frame object>]\n    473                 \n    474         # self.update_state()\n    475         \n    476 \n\n...........................................................................\n/Users/Dayo/anaconda/lib/python3.5/site-packages/zmq/eventloop/zmqstream.py in _run_callback(self=<zmq.eventloop.zmqstream.ZMQStream object>, callback=<function wrap.<locals>.null_wrapper>, *args=([<zmq.sugar.frame.Frame object>, <zmq.sugar.frame.Frame object>, <zmq.sugar.frame.Frame object>, <zmq.sugar.frame.Frame object>, <zmq.sugar.frame.Frame object>, <zmq.sugar.frame.Frame object>, <zmq.sugar.frame.Frame object>],), **kwargs={})\n    409         close our socket.\"\"\"\n    410         try:\n    411             # Use a NullContext to ensure that all StackContexts are run\n    412             # inside our blanket exception handler rather than outside.\n    413             with stack_context.NullContext():\n--> 414                 callback(*args, **kwargs)\n        callback = <function wrap.<locals>.null_wrapper>\n        args = ([<zmq.sugar.frame.Frame object>, <zmq.sugar.frame.Frame object>, <zmq.sugar.frame.Frame object>, <zmq.sugar.frame.Frame object>, <zmq.sugar.frame.Frame object>, <zmq.sugar.frame.Frame object>, <zmq.sugar.frame.Frame object>],)\n        kwargs = {}\n    415         except:\n    416             gen_log.error(\"Uncaught exception, closing connection.\",\n    417                           exc_info=True)\n    418             # Close the socket on an uncaught exception from a user callback\n\n...........................................................................\n/Users/Dayo/anaconda/lib/python3.5/site-packages/tornado/stack_context.py in null_wrapper(*args=([<zmq.sugar.frame.Frame object>, <zmq.sugar.frame.Frame object>, <zmq.sugar.frame.Frame object>, <zmq.sugar.frame.Frame object>, <zmq.sugar.frame.Frame object>, <zmq.sugar.frame.Frame object>, <zmq.sugar.frame.Frame object>],), **kwargs={})\n    270         # Fast path when there are no active contexts.\n    271         def null_wrapper(*args, **kwargs):\n    272             try:\n    273                 current_state = _state.contexts\n    274                 _state.contexts = cap_contexts[0]\n--> 275                 return fn(*args, **kwargs)\n        args = ([<zmq.sugar.frame.Frame object>, <zmq.sugar.frame.Frame object>, <zmq.sugar.frame.Frame object>, <zmq.sugar.frame.Frame object>, <zmq.sugar.frame.Frame object>, <zmq.sugar.frame.Frame object>, <zmq.sugar.frame.Frame object>],)\n        kwargs = {}\n    276             finally:\n    277                 _state.contexts = current_state\n    278         null_wrapper._wrapped = True\n    279         return null_wrapper\n\n...........................................................................\n/Users/Dayo/anaconda/lib/python3.5/site-packages/ipykernel/kernelbase.py in dispatcher(msg=[<zmq.sugar.frame.Frame object>, <zmq.sugar.frame.Frame object>, <zmq.sugar.frame.Frame object>, <zmq.sugar.frame.Frame object>, <zmq.sugar.frame.Frame object>, <zmq.sugar.frame.Frame object>, <zmq.sugar.frame.Frame object>])\n    271         if self.control_stream:\n    272             self.control_stream.on_recv(self.dispatch_control, copy=False)\n    273 \n    274         def make_dispatcher(stream):\n    275             def dispatcher(msg):\n--> 276                 return self.dispatch_shell(stream, msg)\n        msg = [<zmq.sugar.frame.Frame object>, <zmq.sugar.frame.Frame object>, <zmq.sugar.frame.Frame object>, <zmq.sugar.frame.Frame object>, <zmq.sugar.frame.Frame object>, <zmq.sugar.frame.Frame object>, <zmq.sugar.frame.Frame object>]\n    277             return dispatcher\n    278 \n    279         for s in self.shell_streams:\n    280             s.on_recv(make_dispatcher(s), copy=False)\n\n...........................................................................\n/Users/Dayo/anaconda/lib/python3.5/site-packages/ipykernel/kernelbase.py in dispatch_shell(self=<ipykernel.ipkernel.IPythonKernel object>, stream=<zmq.eventloop.zmqstream.ZMQStream object>, msg={'buffers': [], 'content': {'allow_stdin': True, 'code': \"from sklearn import svm\\nfrom sklearn.naive_bayes..._clf, X_train, y_train, scoring='f1', n_jobs=2)))\", 'silent': False, 'stop_on_error': True, 'store_history': True, 'user_expressions': {}}, 'header': {'date': '2017-05-18T18:26:56.388660', 'msg_id': '4927DCEA5D814EA9B60F3943D23825C6', 'msg_type': 'execute_request', 'session': '3A4D233D2060487084BDCFC8736BA7BC', 'username': 'username', 'version': '5.0'}, 'metadata': {}, 'msg_id': '4927DCEA5D814EA9B60F3943D23825C6', 'msg_type': 'execute_request', 'parent_header': {}})\n    223             self.log.error(\"UNKNOWN MESSAGE TYPE: %r\", msg_type)\n    224         else:\n    225             self.log.debug(\"%s: %s\", msg_type, msg)\n    226             self.pre_handler_hook()\n    227             try:\n--> 228                 handler(stream, idents, msg)\n        handler = <bound method Kernel.execute_request of <ipykernel.ipkernel.IPythonKernel object>>\n        stream = <zmq.eventloop.zmqstream.ZMQStream object>\n        idents = [b'3A4D233D2060487084BDCFC8736BA7BC']\n        msg = {'buffers': [], 'content': {'allow_stdin': True, 'code': \"from sklearn import svm\\nfrom sklearn.naive_bayes..._clf, X_train, y_train, scoring='f1', n_jobs=2)))\", 'silent': False, 'stop_on_error': True, 'store_history': True, 'user_expressions': {}}, 'header': {'date': '2017-05-18T18:26:56.388660', 'msg_id': '4927DCEA5D814EA9B60F3943D23825C6', 'msg_type': 'execute_request', 'session': '3A4D233D2060487084BDCFC8736BA7BC', 'username': 'username', 'version': '5.0'}, 'metadata': {}, 'msg_id': '4927DCEA5D814EA9B60F3943D23825C6', 'msg_type': 'execute_request', 'parent_header': {}}\n    229             except Exception:\n    230                 self.log.error(\"Exception in message handler:\", exc_info=True)\n    231             finally:\n    232                 self.post_handler_hook()\n\n...........................................................................\n/Users/Dayo/anaconda/lib/python3.5/site-packages/ipykernel/kernelbase.py in execute_request(self=<ipykernel.ipkernel.IPythonKernel object>, stream=<zmq.eventloop.zmqstream.ZMQStream object>, ident=[b'3A4D233D2060487084BDCFC8736BA7BC'], parent={'buffers': [], 'content': {'allow_stdin': True, 'code': \"from sklearn import svm\\nfrom sklearn.naive_bayes..._clf, X_train, y_train, scoring='f1', n_jobs=2)))\", 'silent': False, 'stop_on_error': True, 'store_history': True, 'user_expressions': {}}, 'header': {'date': '2017-05-18T18:26:56.388660', 'msg_id': '4927DCEA5D814EA9B60F3943D23825C6', 'msg_type': 'execute_request', 'session': '3A4D233D2060487084BDCFC8736BA7BC', 'username': 'username', 'version': '5.0'}, 'metadata': {}, 'msg_id': '4927DCEA5D814EA9B60F3943D23825C6', 'msg_type': 'execute_request', 'parent_header': {}})\n    385         if not silent:\n    386             self.execution_count += 1\n    387             self._publish_execute_input(code, parent, self.execution_count)\n    388 \n    389         reply_content = self.do_execute(code, silent, store_history,\n--> 390                                         user_expressions, allow_stdin)\n        user_expressions = {}\n        allow_stdin = True\n    391 \n    392         # Flush output before sending the reply.\n    393         sys.stdout.flush()\n    394         sys.stderr.flush()\n\n...........................................................................\n/Users/Dayo/anaconda/lib/python3.5/site-packages/ipykernel/ipkernel.py in do_execute(self=<ipykernel.ipkernel.IPythonKernel object>, code=\"from sklearn import svm\\nfrom sklearn.naive_bayes..._clf, X_train, y_train, scoring='f1', n_jobs=2)))\", silent=False, store_history=True, user_expressions={}, allow_stdin=True)\n    191 \n    192         self._forward_input(allow_stdin)\n    193 \n    194         reply_content = {}\n    195         try:\n--> 196             res = shell.run_cell(code, store_history=store_history, silent=silent)\n        res = undefined\n        shell.run_cell = <bound method ZMQInteractiveShell.run_cell of <ipykernel.zmqshell.ZMQInteractiveShell object>>\n        code = \"from sklearn import svm\\nfrom sklearn.naive_bayes..._clf, X_train, y_train, scoring='f1', n_jobs=2)))\"\n        store_history = True\n        silent = False\n    197         finally:\n    198             self._restore_input()\n    199 \n    200         if res.error_before_exec is not None:\n\n...........................................................................\n/Users/Dayo/anaconda/lib/python3.5/site-packages/ipykernel/zmqshell.py in run_cell(self=<ipykernel.zmqshell.ZMQInteractiveShell object>, *args=(\"from sklearn import svm\\nfrom sklearn.naive_bayes..._clf, X_train, y_train, scoring='f1', n_jobs=2)))\",), **kwargs={'silent': False, 'store_history': True})\n    496             )\n    497         self.payload_manager.write_payload(payload)\n    498 \n    499     def run_cell(self, *args, **kwargs):\n    500         self._last_traceback = None\n--> 501         return super(ZMQInteractiveShell, self).run_cell(*args, **kwargs)\n        self.run_cell = <bound method ZMQInteractiveShell.run_cell of <ipykernel.zmqshell.ZMQInteractiveShell object>>\n        args = (\"from sklearn import svm\\nfrom sklearn.naive_bayes..._clf, X_train, y_train, scoring='f1', n_jobs=2)))\",)\n        kwargs = {'silent': False, 'store_history': True}\n    502 \n    503     def _showtraceback(self, etype, evalue, stb):\n    504         # try to preserve ordering of tracebacks and print statements\n    505         sys.stdout.flush()\n\n...........................................................................\n/Users/Dayo/anaconda/lib/python3.5/site-packages/IPython/core/interactiveshell.py in run_cell(self=<ipykernel.zmqshell.ZMQInteractiveShell object>, raw_cell=\"from sklearn import svm\\nfrom sklearn.naive_bayes..._clf, X_train, y_train, scoring='f1', n_jobs=2)))\", store_history=True, silent=False, shell_futures=True)\n   2712                 self.displayhook.exec_result = result\n   2713 \n   2714                 # Execute the user code\n   2715                 interactivity = \"none\" if silent else self.ast_node_interactivity\n   2716                 has_raised = self.run_ast_nodes(code_ast.body, cell_name,\n-> 2717                    interactivity=interactivity, compiler=compiler, result=result)\n        interactivity = 'last_expr'\n        compiler = <IPython.core.compilerop.CachingCompiler object>\n   2718                 \n   2719                 self.last_execution_succeeded = not has_raised\n   2720 \n   2721                 # Reset this so later displayed values do not modify the\n\n...........................................................................\n/Users/Dayo/anaconda/lib/python3.5/site-packages/IPython/core/interactiveshell.py in run_ast_nodes(self=<ipykernel.zmqshell.ZMQInteractiveShell object>, nodelist=[<_ast.ImportFrom object>, <_ast.ImportFrom object>, <_ast.ImportFrom object>, <_ast.ImportFrom object>, <_ast.ImportFrom object>, <_ast.ImportFrom object>, <_ast.ImportFrom object>, <_ast.Assign object>, <_ast.Expr object>, <_ast.Assign object>, <_ast.Expr object>, <_ast.Assign object>, <_ast.Expr object>, <_ast.Assign object>, <_ast.Expr object>, <_ast.Assign object>, <_ast.Expr object>, <_ast.Assign object>, <_ast.Expr object>, <_ast.Assign object>, ...], cell_name='<ipython-input-87-0bc79f3bdc21>', interactivity='last', compiler=<IPython.core.compilerop.CachingCompiler object>, result=<ExecutionResult object at 10f20b358, execution_..._before_exec=None error_in_exec=None result=None>)\n   2816 \n   2817         try:\n   2818             for i, node in enumerate(to_run_exec):\n   2819                 mod = ast.Module([node])\n   2820                 code = compiler(mod, cell_name, \"exec\")\n-> 2821                 if self.run_code(code, result):\n        self.run_code = <bound method InteractiveShell.run_code of <ipykernel.zmqshell.ZMQInteractiveShell object>>\n        code = <code object <module> at 0x10f6cbed0, file \"<ipython-input-87-0bc79f3bdc21>\", line 10>\n        result = <ExecutionResult object at 10f20b358, execution_..._before_exec=None error_in_exec=None result=None>\n   2822                     return True\n   2823 \n   2824             for i, node in enumerate(to_run_interactive):\n   2825                 mod = ast.Interactive([node])\n\n...........................................................................\n/Users/Dayo/anaconda/lib/python3.5/site-packages/IPython/core/interactiveshell.py in run_code(self=<ipykernel.zmqshell.ZMQInteractiveShell object>, code_obj=<code object <module> at 0x10f6cbed0, file \"<ipython-input-87-0bc79f3bdc21>\", line 10>, result=<ExecutionResult object at 10f20b358, execution_..._before_exec=None error_in_exec=None result=None>)\n   2876         outflag = 1  # happens in more places, so it's easier as default\n   2877         try:\n   2878             try:\n   2879                 self.hooks.pre_run_code_hook()\n   2880                 #rprint('Running code', repr(code_obj)) # dbg\n-> 2881                 exec(code_obj, self.user_global_ns, self.user_ns)\n        code_obj = <code object <module> at 0x10f6cbed0, file \"<ipython-input-87-0bc79f3bdc21>\", line 10>\n        self.user_global_ns = {'BaseEstimator': <class 'sklearn.base.BaseEstimator'>, 'BernoulliNB': <class 'sklearn.naive_bayes.BernoulliNB'>, 'CountVectorizer': <class 'sklearn.feature_extraction.text.CountVectorizer'>, 'In': ['', \"import os\\nimport pandas as pd\\nimport numpy as np... return pd.read_csv(csv_path, encoding='latin-1')\", 'spam = load_spam_data()\\nspam.head()', '# Drop column and change names\\nspam.drop([\\'Unnam...olumns={\"v1\":\"label\", \"v2\":\"text\"}, inplace=True)', 'spam.tail()', 'from sklearn.feature_extraction.text import Coun...BaseEstimator, TransformerMixin\\n\\ntrain_set.values', 'from sklearn.model_selection import train_test_s..._test_split(spam, test_size=0.2, random_state=42)', 'from sklearn.feature_extraction.text import Coun...BaseEstimator, TransformerMixin\\n\\ntrain_set.values', 'from sklearn.feature_extraction.text import Coun...timator, TransformerMixin\\n\\ntrain_set.values[:, 1]', 'train_set.values[1]', 'train_set.values[1][1]', 'subset_of_trainset = trainset[:4, :]', \"subset_of_trainset = train_set[:4, :]\\nprint(subs...t[0][1] = 'balls'\\nprint(subset_of_trainset[0][1])\", \"subset_of_trainset = train_set.values[:4, :]\\npri...t[0][1] = 'balls'\\nprint(subset_of_trainset[0][1])\", 'import string\\n\\nprint(string.punctuation)', 'import string\\n\\ntext = train_set.values[0][1]\\ntext.translate(None, string.punctuation)', \"import string\\n\\ntext = train_set.values[0][1]\\ntra...', string.punctuation)\\ntext.translate(translator)\", \"import string\\n\\ntext = train_set.values[0][1]\\ntra...', string.punctuation)\\ntext.translate(translator)\", 'import string\\n\\n# text = train_set.values[0][1]\\n#...ext.translate(translator)\\n\\ntrain_set.values[0][1]', 'from sklearn.model_selection import train_test_s..._test_split(spam, test_size=0.2, random_state=42)', ...], 'KNeighborsClassifier': <class 'sklearn.neighbors.classification.KNeighborsClassifier'>, 'MultinomialNB': <class 'sklearn.naive_bayes.MultinomialNB'>, 'NearestCentroid': <class 'sklearn.neighbors.nearest_centroid.NearestCentroid'>, 'Out': {2:      v1                                         ...       NaN        NaN  \n4        NaN        NaN  , 4:      label                                      ...                       Rofl. Its true to its name, 7: array([['ham', 'balls'],\n       ['spam',\n       ...ork now. Going have in few min.']], dtype=object), 8: array(['balls',\n       '(Bank of Granite issues ...work now. Going have in few min.'], dtype=object), 9: array(['spam',\n       '(Bank of Granite issues S...ymbol CDGT That is a $5.00 per..'], dtype=object), 10: '(Bank of Granite issues Strong-Buy) EXPLOSIVE PI...******** Nasdaq Symbol CDGT That is a $5.00 per..', 16: 'balls', 17: 'balls', 18: 'balls', 20: \"No I'm in the same boat. Still here at my moms. Check me out on yo. I'm half naked.\", ...}, 'Perceptron': <class 'sklearn.linear_model.perceptron.Perceptron'>, 'Pipeline': <class 'sklearn.pipeline.Pipeline'>, ...}\n        self.user_ns = {'BaseEstimator': <class 'sklearn.base.BaseEstimator'>, 'BernoulliNB': <class 'sklearn.naive_bayes.BernoulliNB'>, 'CountVectorizer': <class 'sklearn.feature_extraction.text.CountVectorizer'>, 'In': ['', \"import os\\nimport pandas as pd\\nimport numpy as np... return pd.read_csv(csv_path, encoding='latin-1')\", 'spam = load_spam_data()\\nspam.head()', '# Drop column and change names\\nspam.drop([\\'Unnam...olumns={\"v1\":\"label\", \"v2\":\"text\"}, inplace=True)', 'spam.tail()', 'from sklearn.feature_extraction.text import Coun...BaseEstimator, TransformerMixin\\n\\ntrain_set.values', 'from sklearn.model_selection import train_test_s..._test_split(spam, test_size=0.2, random_state=42)', 'from sklearn.feature_extraction.text import Coun...BaseEstimator, TransformerMixin\\n\\ntrain_set.values', 'from sklearn.feature_extraction.text import Coun...timator, TransformerMixin\\n\\ntrain_set.values[:, 1]', 'train_set.values[1]', 'train_set.values[1][1]', 'subset_of_trainset = trainset[:4, :]', \"subset_of_trainset = train_set[:4, :]\\nprint(subs...t[0][1] = 'balls'\\nprint(subset_of_trainset[0][1])\", \"subset_of_trainset = train_set.values[:4, :]\\npri...t[0][1] = 'balls'\\nprint(subset_of_trainset[0][1])\", 'import string\\n\\nprint(string.punctuation)', 'import string\\n\\ntext = train_set.values[0][1]\\ntext.translate(None, string.punctuation)', \"import string\\n\\ntext = train_set.values[0][1]\\ntra...', string.punctuation)\\ntext.translate(translator)\", \"import string\\n\\ntext = train_set.values[0][1]\\ntra...', string.punctuation)\\ntext.translate(translator)\", 'import string\\n\\n# text = train_set.values[0][1]\\n#...ext.translate(translator)\\n\\ntrain_set.values[0][1]', 'from sklearn.model_selection import train_test_s..._test_split(spam, test_size=0.2, random_state=42)', ...], 'KNeighborsClassifier': <class 'sklearn.neighbors.classification.KNeighborsClassifier'>, 'MultinomialNB': <class 'sklearn.naive_bayes.MultinomialNB'>, 'NearestCentroid': <class 'sklearn.neighbors.nearest_centroid.NearestCentroid'>, 'Out': {2:      v1                                         ...       NaN        NaN  \n4        NaN        NaN  , 4:      label                                      ...                       Rofl. Its true to its name, 7: array([['ham', 'balls'],\n       ['spam',\n       ...ork now. Going have in few min.']], dtype=object), 8: array(['balls',\n       '(Bank of Granite issues ...work now. Going have in few min.'], dtype=object), 9: array(['spam',\n       '(Bank of Granite issues S...ymbol CDGT That is a $5.00 per..'], dtype=object), 10: '(Bank of Granite issues Strong-Buy) EXPLOSIVE PI...******** Nasdaq Symbol CDGT That is a $5.00 per..', 16: 'balls', 17: 'balls', 18: 'balls', 20: \"No I'm in the same boat. Still here at my moms. Check me out on yo. I'm half naked.\", ...}, 'Perceptron': <class 'sklearn.linear_model.perceptron.Perceptron'>, 'Pipeline': <class 'sklearn.pipeline.Pipeline'>, ...}\n   2882             finally:\n   2883                 # Reset our crash handler in place\n   2884                 sys.excepthook = old_excepthook\n   2885         except SystemExit as e:\n\n...........................................................................\n/Users/Dayo/repos/Learning-Data-Science/hands_on_ml/<ipython-input-87-0bc79f3bdc21> in <module>()\n      5 from sklearn.ensemble import RandomForestClassifier\n      6 from sklearn.linear_model import SGDClassifier\n      7 from sklearn.linear_model import Perceptron\n      8 \n      9 svm_clf = svm.SVC()\n---> 10 print('SVM results: {}'.format(cross_val_score(svm_clf, X_train, y_train, scoring='f1', n_jobs=2)))\n     11 \n     12 mNB_clf = MultinomialNB()\n     13 print('Multinomial Naive Bayes results: {}'.format(cross_val_score(mNB_clf, X_train, y_train, scoring='f1', n_jobs=2)))\n     14 \n\n...........................................................................\n/Users/Dayo/anaconda/lib/python3.5/site-packages/sklearn/model_selection/_validation.py in cross_val_score(estimator=SVC(C=1.0, cache_size=200, class_weight=None, co...None, shrinking=True,\n  tol=0.001, verbose=False), X=array([ \"No I'm in the same boat. Still here at ...work now. Going have in few min.'], dtype=object), y=array(['ham', 'spam', 'ham', ..., 'ham', 'ham', 'ham'], dtype=object), groups=None, scoring='f1', cv=StratifiedKFold(n_splits=3, random_state=None, shuffle=False), n_jobs=2, verbose=0, fit_params=None, pre_dispatch='2*n_jobs')\n    135     parallel = Parallel(n_jobs=n_jobs, verbose=verbose,\n    136                         pre_dispatch=pre_dispatch)\n    137     scores = parallel(delayed(_fit_and_score)(clone(estimator), X, y, scorer,\n    138                                               train, test, verbose, None,\n    139                                               fit_params)\n--> 140                       for train, test in cv_iter)\n        cv_iter = [(array([1485, 1487, 1488, ..., 4454, 4455, 4456]), array([   0,    1,    2, ..., 1483, 1484, 1486])), (array([   0,    1,    2, ..., 4454, 4455, 4456]), array([1485, 1487, 1488, ..., 2969, 2970, 2971])), (array([   0,    1,    2, ..., 2969, 2970, 2971]), array([2972, 2973, 2974, ..., 4454, 4455, 4456]))]\n    141     return np.array(scores)[:, 0]\n    142 \n    143 \n    144 def _fit_and_score(estimator, X, y, scorer, train, test, verbose,\n\n...........................................................................\n/Users/Dayo/anaconda/lib/python3.5/site-packages/sklearn/externals/joblib/parallel.py in __call__(self=Parallel(n_jobs=2), iterable=<generator object cross_val_score.<locals>.<genexpr>>)\n    763             if pre_dispatch == \"all\" or n_jobs == 1:\n    764                 # The iterable was consumed all at once by the above for loop.\n    765                 # No need to wait for async callbacks to trigger to\n    766                 # consumption.\n    767                 self._iterating = False\n--> 768             self.retrieve()\n        self.retrieve = <bound method Parallel.retrieve of Parallel(n_jobs=2)>\n    769             # Make sure that we get a last message telling us we are done\n    770             elapsed_time = time.time() - self._start_time\n    771             self._print('Done %3i out of %3i | elapsed: %s finished',\n    772                         (len(self._output), len(self._output),\n\n---------------------------------------------------------------------------\nSub-process traceback:\n---------------------------------------------------------------------------\nValueError                                         Thu May 18 18:26:56 2017\nPID: 2250                     Python 3.5.2: /Users/Dayo/anaconda/bin/python\n...........................................................................\n/Users/Dayo/anaconda/lib/python3.5/site-packages/sklearn/externals/joblib/parallel.py in __call__(self=<sklearn.externals.joblib.parallel.BatchedCalls object>)\n    126     def __init__(self, iterator_slice):\n    127         self.items = list(iterator_slice)\n    128         self._size = len(self.items)\n    129 \n    130     def __call__(self):\n--> 131         return [func(*args, **kwargs) for func, args, kwargs in self.items]\n        self.items = [(<function _fit_and_score>, (SVC(C=1.0, cache_size=200, class_weight=None, co...None, shrinking=True,\n  tol=0.001, verbose=False), array([ \"No I'm in the same boat. Still here at ...work now. Going have in few min.'], dtype=object), array(['ham', 'spam', 'ham', ..., 'ham', 'ham', 'ham'], dtype=object), make_scorer(f1_score), array([1485, 1487, 1488, ..., 4454, 4455, 4456]), array([   0,    1,    2, ..., 1483, 1484, 1486]), 0, None, None), {})]\n    132 \n    133     def __len__(self):\n    134         return self._size\n    135 \n\n...........................................................................\n/Users/Dayo/anaconda/lib/python3.5/site-packages/sklearn/externals/joblib/parallel.py in <listcomp>(.0=<list_iterator object>)\n    126     def __init__(self, iterator_slice):\n    127         self.items = list(iterator_slice)\n    128         self._size = len(self.items)\n    129 \n    130     def __call__(self):\n--> 131         return [func(*args, **kwargs) for func, args, kwargs in self.items]\n        func = <function _fit_and_score>\n        args = (SVC(C=1.0, cache_size=200, class_weight=None, co...None, shrinking=True,\n  tol=0.001, verbose=False), array([ \"No I'm in the same boat. Still here at ...work now. Going have in few min.'], dtype=object), array(['ham', 'spam', 'ham', ..., 'ham', 'ham', 'ham'], dtype=object), make_scorer(f1_score), array([1485, 1487, 1488, ..., 4454, 4455, 4456]), array([   0,    1,    2, ..., 1483, 1484, 1486]), 0, None, None)\n        kwargs = {}\n    132 \n    133     def __len__(self):\n    134         return self._size\n    135 \n\n...........................................................................\n/Users/Dayo/anaconda/lib/python3.5/site-packages/sklearn/model_selection/_validation.py in _fit_and_score(estimator=SVC(C=1.0, cache_size=200, class_weight=None, co...None, shrinking=True,\n  tol=0.001, verbose=False), X=array([ \"No I'm in the same boat. Still here at ...work now. Going have in few min.'], dtype=object), y=array(['ham', 'spam', 'ham', ..., 'ham', 'ham', 'ham'], dtype=object), scorer=make_scorer(f1_score), train=array([1485, 1487, 1488, ..., 4454, 4455, 4456]), test=array([   0,    1,    2, ..., 1483, 1484, 1486]), verbose=0, parameters=None, fit_params={}, return_train_score=False, return_parameters=False, return_n_test_samples=False, return_times=False, error_score='raise')\n    233 \n    234     try:\n    235         if y_train is None:\n    236             estimator.fit(X_train, **fit_params)\n    237         else:\n--> 238             estimator.fit(X_train, y_train, **fit_params)\n        estimator.fit = <bound method BaseLibSVM.fit of SVC(C=1.0, cache...one, shrinking=True,\n  tol=0.001, verbose=False)>\n        X_train = array([ \"It's not that you make me cry. It's jus...work now. Going have in few min.'], dtype=object)\n        y_train = array(['ham', 'ham', 'ham', ..., 'ham', 'ham', 'ham'], dtype=object)\n        fit_params = {}\n    239 \n    240     except Exception as e:\n    241         # Note fit time as time until error\n    242         fit_time = time.time() - start_time\n\n...........................................................................\n/Users/Dayo/anaconda/lib/python3.5/site-packages/sklearn/svm/base.py in fit(self=SVC(C=1.0, cache_size=200, class_weight=None, co...None, shrinking=True,\n  tol=0.001, verbose=False), X=array([ \"It's not that you make me cry. It's jus...work now. Going have in few min.'], dtype=object), y=array(['ham', 'ham', 'ham', ..., 'ham', 'ham', 'ham'], dtype=object), sample_weight=None)\n    146         sparse = sp.isspmatrix(X)\n    147         if sparse and self.kernel == \"precomputed\":\n    148             raise TypeError(\"Sparse precomputed kernels are not supported.\")\n    149         self._sparse = sparse and not callable(self.kernel)\n    150 \n--> 151         X, y = check_X_y(X, y, dtype=np.float64, order='C', accept_sparse='csr')\n        X = array([ \"It's not that you make me cry. It's jus...work now. Going have in few min.'], dtype=object)\n        y = array(['ham', 'ham', 'ham', ..., 'ham', 'ham', 'ham'], dtype=object)\n    152         y = self._validate_targets(y)\n    153 \n    154         sample_weight = np.asarray([]\n    155                                    if sample_weight is None\n\n...........................................................................\n/Users/Dayo/anaconda/lib/python3.5/site-packages/sklearn/utils/validation.py in check_X_y(X=array([ \"It's not that you make me cry. It's jus...work now. Going have in few min.'], dtype=object), y=array(['ham', 'ham', 'ham', ..., 'ham', 'ham', 'ham'], dtype=object), accept_sparse='csr', dtype=<class 'numpy.float64'>, order='C', copy=False, force_all_finite=True, ensure_2d=True, allow_nd=False, multi_output=False, ensure_min_samples=1, ensure_min_features=1, y_numeric=False, warn_on_dtype=False, estimator=None)\n    516     y_converted : object\n    517         The converted and validated y.\n    518     \"\"\"\n    519     X = check_array(X, accept_sparse, dtype, order, copy, force_all_finite,\n    520                     ensure_2d, allow_nd, ensure_min_samples,\n--> 521                     ensure_min_features, warn_on_dtype, estimator)\n        ensure_min_features = 1\n        warn_on_dtype = False\n        estimator = None\n    522     if multi_output:\n    523         y = check_array(y, 'csr', force_all_finite=True, ensure_2d=False,\n    524                         dtype=None)\n    525     else:\n\n...........................................................................\n/Users/Dayo/anaconda/lib/python3.5/site-packages/sklearn/utils/validation.py in check_array(array=array([ \"It's not that you make me cry. It's jus...work now. Going have in few min.'], dtype=object), accept_sparse=['csr'], dtype=<class 'numpy.float64'>, order='C', copy=False, force_all_finite=True, ensure_2d=True, allow_nd=False, ensure_min_samples=1, ensure_min_features=1, warn_on_dtype=False, estimator=None)\n    377 \n    378     if sp.issparse(array):\n    379         array = _ensure_sparse_format(array, accept_sparse, dtype, copy,\n    380                                       force_all_finite)\n    381     else:\n--> 382         array = np.array(array, dtype=dtype, order=order, copy=copy)\n        array = array([ \"It's not that you make me cry. It's jus...work now. Going have in few min.'], dtype=object)\n        dtype = <class 'numpy.float64'>\n        order = 'C'\n        copy = False\n    383 \n    384         if ensure_2d:\n    385             if array.ndim == 1:\n    386                 if ensure_min_samples >= 2:\n\nValueError: could not convert string to float: 'In work now. Going have in few min.'\n___________________________________________________________________________"
     ]
    }
   ],
   "source": [
    "from sklearn import svm\n",
    "from sklearn.naive_bayes import BernoulliNB, MultinomialNB\n",
    "from sklearn.neighbors import KNeighborsClassifier\n",
    "from sklearn.neighbors import NearestCentroid\n",
    "from sklearn.ensemble import RandomForestClassifier\n",
    "from sklearn.linear_model import SGDClassifier\n",
    "from sklearn.linear_model import Perceptron\n",
    "\n",
    "svm_clf = svm.SVC()\n",
    "print('SVM results: {}'.format(cross_val_score(svm_clf, X_train, y_train, scoring='f1', n_jobs=2)))\n",
    "\n",
    "# mNB_clf = MultinomialNB()\n",
    "# print('Multinomial Naive Bayes results: {}'.format(cross_val_score(mNB_clf, X_train, y_train, scoring='f1', n_jobs=2)))\n",
    "\n",
    "# bNB_clf = BernoulliNB()\n",
    "# print('Bernoulli Naive Bayes results: {}'.format(cross_val_score(bNB_clf, X_train, y_train, scoring='f1', n_jobs=2)))\n",
    "\n",
    "# neighbors_clf = KNeighborsClassifier()\n",
    "# print('K-Nearest Neighbors results: {}'.format(cross_val_score(neighbors_clf, X_train, y_train, scoring='f1', n_jobs=2)))\n",
    "\n",
    "# nearest_centroid_clf = NearestCentroid\n",
    "# print('Nearest Centroid results: {}'.format(cross_val_score(nearest_centroid_clf, X_train, y_train, scoring='f1', n_jobs=2)))\n",
    "\n",
    "# forest_clf = RandomForestClassifier\n",
    "# print('Random Forest results: {}'.format(cross_val_score(forest_clf, X_train, y_train, scoring='f1', n_jobs=2)))\n",
    "\n",
    "# sgd_clf = SGDClassifier()\n",
    "# print('SGD Classifier results: {}'.format(cross_val_score(sgd_clf, X_train, y_train, scoring='f1', n_jobs=2)))\n",
    "\n",
    "# perceptron = Perceptron()\n",
    "# print('Perceptron results: {}'.format(cross_val_score(perceptron, X_train, y_train, scoring='f1', n_jobs=2)))"
   ]
  }
 ],
 "metadata": {
  "anaconda-cloud": {},
  "kernelspec": {
   "display_name": "Python 3",
   "language": "python",
   "name": "python3"
  }
 },
 "nbformat": 4,
 "nbformat_minor": 1
}
