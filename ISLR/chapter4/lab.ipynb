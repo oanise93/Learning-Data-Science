{
 "cells": [
  {
   "cell_type": "markdown",
   "metadata": {},
   "source": [
    "# Lab: Logistic Regression, LDA, QDA, and KNN "
   ]
  },
  {
   "cell_type": "code",
   "execution_count": 11,
   "metadata": {
    "collapsed": false
   },
   "outputs": [
    {
     "name": "stderr",
     "output_type": "stream",
     "text": [
      "/Library/Frameworks/Python.framework/Versions/3.5/lib/python3.5/site-packages/IPython/html.py:14: ShimWarning: The `IPython.html` package has been deprecated since IPython 4.0. You should import from `notebook` instead. `IPython.html.widgets` has moved to `ipywidgets`.\n",
      "  \"`IPython.html.widgets` has moved to `ipywidgets`.\", ShimWarning)\n"
     ]
    }
   ],
   "source": [
    "%matplotlib inline\n",
    "\n",
    "import pandas as pd\n",
    "import sklearn\n",
    "import matplotlib\n",
    "import numpy as np\n",
    "import matplotlib.pyplot as plt\n",
    "import seaborn as sns"
   ]
  },
  {
   "cell_type": "markdown",
   "metadata": {},
   "source": [
    "## Stock Market Data "
   ]
  },
  {
   "cell_type": "code",
   "execution_count": 4,
   "metadata": {
    "collapsed": false
   },
   "outputs": [
    {
     "data": {
      "text/html": [
       "<div>\n",
       "<table border=\"1\" class=\"dataframe\">\n",
       "  <thead>\n",
       "    <tr style=\"text-align: right;\">\n",
       "      <th></th>\n",
       "      <th>Year</th>\n",
       "      <th>Lag1</th>\n",
       "      <th>Lag2</th>\n",
       "      <th>Lag3</th>\n",
       "      <th>Lag4</th>\n",
       "      <th>Lag5</th>\n",
       "      <th>Volume</th>\n",
       "      <th>Today</th>\n",
       "      <th>Direction</th>\n",
       "    </tr>\n",
       "  </thead>\n",
       "  <tbody>\n",
       "    <tr>\n",
       "      <th>0</th>\n",
       "      <td>2001</td>\n",
       "      <td>0.381</td>\n",
       "      <td>-0.192</td>\n",
       "      <td>-2.624</td>\n",
       "      <td>-1.055</td>\n",
       "      <td>5.010</td>\n",
       "      <td>1.1913</td>\n",
       "      <td>0.959</td>\n",
       "      <td>Up</td>\n",
       "    </tr>\n",
       "    <tr>\n",
       "      <th>1</th>\n",
       "      <td>2001</td>\n",
       "      <td>0.959</td>\n",
       "      <td>0.381</td>\n",
       "      <td>-0.192</td>\n",
       "      <td>-2.624</td>\n",
       "      <td>-1.055</td>\n",
       "      <td>1.2965</td>\n",
       "      <td>1.032</td>\n",
       "      <td>Up</td>\n",
       "    </tr>\n",
       "    <tr>\n",
       "      <th>2</th>\n",
       "      <td>2001</td>\n",
       "      <td>1.032</td>\n",
       "      <td>0.959</td>\n",
       "      <td>0.381</td>\n",
       "      <td>-0.192</td>\n",
       "      <td>-2.624</td>\n",
       "      <td>1.4112</td>\n",
       "      <td>-0.623</td>\n",
       "      <td>Down</td>\n",
       "    </tr>\n",
       "    <tr>\n",
       "      <th>3</th>\n",
       "      <td>2001</td>\n",
       "      <td>-0.623</td>\n",
       "      <td>1.032</td>\n",
       "      <td>0.959</td>\n",
       "      <td>0.381</td>\n",
       "      <td>-0.192</td>\n",
       "      <td>1.2760</td>\n",
       "      <td>0.614</td>\n",
       "      <td>Up</td>\n",
       "    </tr>\n",
       "    <tr>\n",
       "      <th>4</th>\n",
       "      <td>2001</td>\n",
       "      <td>0.614</td>\n",
       "      <td>-0.623</td>\n",
       "      <td>1.032</td>\n",
       "      <td>0.959</td>\n",
       "      <td>0.381</td>\n",
       "      <td>1.2057</td>\n",
       "      <td>0.213</td>\n",
       "      <td>Up</td>\n",
       "    </tr>\n",
       "  </tbody>\n",
       "</table>\n",
       "</div>"
      ],
      "text/plain": [
       "   Year   Lag1   Lag2   Lag3   Lag4   Lag5  Volume  Today Direction\n",
       "0  2001  0.381 -0.192 -2.624 -1.055  5.010  1.1913  0.959        Up\n",
       "1  2001  0.959  0.381 -0.192 -2.624 -1.055  1.2965  1.032        Up\n",
       "2  2001  1.032  0.959  0.381 -0.192 -2.624  1.4112 -0.623      Down\n",
       "3  2001 -0.623  1.032  0.959  0.381 -0.192  1.2760  0.614        Up\n",
       "4  2001  0.614 -0.623  1.032  0.959  0.381  1.2057  0.213        Up"
      ]
     },
     "execution_count": 4,
     "metadata": {},
     "output_type": "execute_result"
    }
   ],
   "source": [
    "smarket_df = pd.read_csv('../data/Smarket.csv')\n",
    "smarket_df.drop('Unnamed: 0', inplace=True, axis=1)\n",
    "smarket_df.head()"
   ]
  },
  {
   "cell_type": "code",
   "execution_count": 5,
   "metadata": {
    "collapsed": false
   },
   "outputs": [
    {
     "data": {
      "text/html": [
       "<div>\n",
       "<table border=\"1\" class=\"dataframe\">\n",
       "  <thead>\n",
       "    <tr style=\"text-align: right;\">\n",
       "      <th></th>\n",
       "      <th>Year</th>\n",
       "      <th>Lag1</th>\n",
       "      <th>Lag2</th>\n",
       "      <th>Lag3</th>\n",
       "      <th>Lag4</th>\n",
       "      <th>Lag5</th>\n",
       "      <th>Volume</th>\n",
       "      <th>Today</th>\n",
       "    </tr>\n",
       "  </thead>\n",
       "  <tbody>\n",
       "    <tr>\n",
       "      <th>count</th>\n",
       "      <td>1250.000000</td>\n",
       "      <td>1250.000000</td>\n",
       "      <td>1250.000000</td>\n",
       "      <td>1250.000000</td>\n",
       "      <td>1250.000000</td>\n",
       "      <td>1250.00000</td>\n",
       "      <td>1250.000000</td>\n",
       "      <td>1250.000000</td>\n",
       "    </tr>\n",
       "    <tr>\n",
       "      <th>mean</th>\n",
       "      <td>2003.016000</td>\n",
       "      <td>0.003834</td>\n",
       "      <td>0.003919</td>\n",
       "      <td>0.001716</td>\n",
       "      <td>0.001636</td>\n",
       "      <td>0.00561</td>\n",
       "      <td>1.478305</td>\n",
       "      <td>0.003138</td>\n",
       "    </tr>\n",
       "    <tr>\n",
       "      <th>std</th>\n",
       "      <td>1.409018</td>\n",
       "      <td>1.136299</td>\n",
       "      <td>1.136280</td>\n",
       "      <td>1.138703</td>\n",
       "      <td>1.138774</td>\n",
       "      <td>1.14755</td>\n",
       "      <td>0.360357</td>\n",
       "      <td>1.136334</td>\n",
       "    </tr>\n",
       "    <tr>\n",
       "      <th>min</th>\n",
       "      <td>2001.000000</td>\n",
       "      <td>-4.922000</td>\n",
       "      <td>-4.922000</td>\n",
       "      <td>-4.922000</td>\n",
       "      <td>-4.922000</td>\n",
       "      <td>-4.92200</td>\n",
       "      <td>0.356070</td>\n",
       "      <td>-4.922000</td>\n",
       "    </tr>\n",
       "    <tr>\n",
       "      <th>25%</th>\n",
       "      <td>2002.000000</td>\n",
       "      <td>-0.639500</td>\n",
       "      <td>-0.639500</td>\n",
       "      <td>-0.640000</td>\n",
       "      <td>-0.640000</td>\n",
       "      <td>-0.64000</td>\n",
       "      <td>1.257400</td>\n",
       "      <td>-0.639500</td>\n",
       "    </tr>\n",
       "    <tr>\n",
       "      <th>50%</th>\n",
       "      <td>2003.000000</td>\n",
       "      <td>0.039000</td>\n",
       "      <td>0.039000</td>\n",
       "      <td>0.038500</td>\n",
       "      <td>0.038500</td>\n",
       "      <td>0.03850</td>\n",
       "      <td>1.422950</td>\n",
       "      <td>0.038500</td>\n",
       "    </tr>\n",
       "    <tr>\n",
       "      <th>75%</th>\n",
       "      <td>2004.000000</td>\n",
       "      <td>0.596750</td>\n",
       "      <td>0.596750</td>\n",
       "      <td>0.596750</td>\n",
       "      <td>0.596750</td>\n",
       "      <td>0.59700</td>\n",
       "      <td>1.641675</td>\n",
       "      <td>0.596750</td>\n",
       "    </tr>\n",
       "    <tr>\n",
       "      <th>max</th>\n",
       "      <td>2005.000000</td>\n",
       "      <td>5.733000</td>\n",
       "      <td>5.733000</td>\n",
       "      <td>5.733000</td>\n",
       "      <td>5.733000</td>\n",
       "      <td>5.73300</td>\n",
       "      <td>3.152470</td>\n",
       "      <td>5.733000</td>\n",
       "    </tr>\n",
       "  </tbody>\n",
       "</table>\n",
       "</div>"
      ],
      "text/plain": [
       "              Year         Lag1         Lag2         Lag3         Lag4  \\\n",
       "count  1250.000000  1250.000000  1250.000000  1250.000000  1250.000000   \n",
       "mean   2003.016000     0.003834     0.003919     0.001716     0.001636   \n",
       "std       1.409018     1.136299     1.136280     1.138703     1.138774   \n",
       "min    2001.000000    -4.922000    -4.922000    -4.922000    -4.922000   \n",
       "25%    2002.000000    -0.639500    -0.639500    -0.640000    -0.640000   \n",
       "50%    2003.000000     0.039000     0.039000     0.038500     0.038500   \n",
       "75%    2004.000000     0.596750     0.596750     0.596750     0.596750   \n",
       "max    2005.000000     5.733000     5.733000     5.733000     5.733000   \n",
       "\n",
       "             Lag5       Volume        Today  \n",
       "count  1250.00000  1250.000000  1250.000000  \n",
       "mean      0.00561     1.478305     0.003138  \n",
       "std       1.14755     0.360357     1.136334  \n",
       "min      -4.92200     0.356070    -4.922000  \n",
       "25%      -0.64000     1.257400    -0.639500  \n",
       "50%       0.03850     1.422950     0.038500  \n",
       "75%       0.59700     1.641675     0.596750  \n",
       "max       5.73300     3.152470     5.733000  "
      ]
     },
     "execution_count": 5,
     "metadata": {},
     "output_type": "execute_result"
    }
   ],
   "source": [
    "smarket_df.describe()"
   ]
  },
  {
   "cell_type": "code",
   "execution_count": 6,
   "metadata": {
    "collapsed": false
   },
   "outputs": [
    {
     "data": {
      "text/html": [
       "<div>\n",
       "<table border=\"1\" class=\"dataframe\">\n",
       "  <thead>\n",
       "    <tr style=\"text-align: right;\">\n",
       "      <th></th>\n",
       "      <th>Year</th>\n",
       "      <th>Lag1</th>\n",
       "      <th>Lag2</th>\n",
       "      <th>Lag3</th>\n",
       "      <th>Lag4</th>\n",
       "      <th>Lag5</th>\n",
       "      <th>Volume</th>\n",
       "      <th>Today</th>\n",
       "    </tr>\n",
       "  </thead>\n",
       "  <tbody>\n",
       "    <tr>\n",
       "      <th>Year</th>\n",
       "      <td>1.000000</td>\n",
       "      <td>0.029700</td>\n",
       "      <td>0.030596</td>\n",
       "      <td>0.033195</td>\n",
       "      <td>0.035689</td>\n",
       "      <td>0.029788</td>\n",
       "      <td>0.539006</td>\n",
       "      <td>0.030095</td>\n",
       "    </tr>\n",
       "    <tr>\n",
       "      <th>Lag1</th>\n",
       "      <td>0.029700</td>\n",
       "      <td>1.000000</td>\n",
       "      <td>-0.026294</td>\n",
       "      <td>-0.010803</td>\n",
       "      <td>-0.002986</td>\n",
       "      <td>-0.005675</td>\n",
       "      <td>0.040910</td>\n",
       "      <td>-0.026155</td>\n",
       "    </tr>\n",
       "    <tr>\n",
       "      <th>Lag2</th>\n",
       "      <td>0.030596</td>\n",
       "      <td>-0.026294</td>\n",
       "      <td>1.000000</td>\n",
       "      <td>-0.025897</td>\n",
       "      <td>-0.010854</td>\n",
       "      <td>-0.003558</td>\n",
       "      <td>-0.043383</td>\n",
       "      <td>-0.010250</td>\n",
       "    </tr>\n",
       "    <tr>\n",
       "      <th>Lag3</th>\n",
       "      <td>0.033195</td>\n",
       "      <td>-0.010803</td>\n",
       "      <td>-0.025897</td>\n",
       "      <td>1.000000</td>\n",
       "      <td>-0.024051</td>\n",
       "      <td>-0.018808</td>\n",
       "      <td>-0.041824</td>\n",
       "      <td>-0.002448</td>\n",
       "    </tr>\n",
       "    <tr>\n",
       "      <th>Lag4</th>\n",
       "      <td>0.035689</td>\n",
       "      <td>-0.002986</td>\n",
       "      <td>-0.010854</td>\n",
       "      <td>-0.024051</td>\n",
       "      <td>1.000000</td>\n",
       "      <td>-0.027084</td>\n",
       "      <td>-0.048414</td>\n",
       "      <td>-0.006900</td>\n",
       "    </tr>\n",
       "    <tr>\n",
       "      <th>Lag5</th>\n",
       "      <td>0.029788</td>\n",
       "      <td>-0.005675</td>\n",
       "      <td>-0.003558</td>\n",
       "      <td>-0.018808</td>\n",
       "      <td>-0.027084</td>\n",
       "      <td>1.000000</td>\n",
       "      <td>-0.022002</td>\n",
       "      <td>-0.034860</td>\n",
       "    </tr>\n",
       "    <tr>\n",
       "      <th>Volume</th>\n",
       "      <td>0.539006</td>\n",
       "      <td>0.040910</td>\n",
       "      <td>-0.043383</td>\n",
       "      <td>-0.041824</td>\n",
       "      <td>-0.048414</td>\n",
       "      <td>-0.022002</td>\n",
       "      <td>1.000000</td>\n",
       "      <td>0.014592</td>\n",
       "    </tr>\n",
       "    <tr>\n",
       "      <th>Today</th>\n",
       "      <td>0.030095</td>\n",
       "      <td>-0.026155</td>\n",
       "      <td>-0.010250</td>\n",
       "      <td>-0.002448</td>\n",
       "      <td>-0.006900</td>\n",
       "      <td>-0.034860</td>\n",
       "      <td>0.014592</td>\n",
       "      <td>1.000000</td>\n",
       "    </tr>\n",
       "  </tbody>\n",
       "</table>\n",
       "</div>"
      ],
      "text/plain": [
       "            Year      Lag1      Lag2      Lag3      Lag4      Lag5    Volume  \\\n",
       "Year    1.000000  0.029700  0.030596  0.033195  0.035689  0.029788  0.539006   \n",
       "Lag1    0.029700  1.000000 -0.026294 -0.010803 -0.002986 -0.005675  0.040910   \n",
       "Lag2    0.030596 -0.026294  1.000000 -0.025897 -0.010854 -0.003558 -0.043383   \n",
       "Lag3    0.033195 -0.010803 -0.025897  1.000000 -0.024051 -0.018808 -0.041824   \n",
       "Lag4    0.035689 -0.002986 -0.010854 -0.024051  1.000000 -0.027084 -0.048414   \n",
       "Lag5    0.029788 -0.005675 -0.003558 -0.018808 -0.027084  1.000000 -0.022002   \n",
       "Volume  0.539006  0.040910 -0.043383 -0.041824 -0.048414 -0.022002  1.000000   \n",
       "Today   0.030095 -0.026155 -0.010250 -0.002448 -0.006900 -0.034860  0.014592   \n",
       "\n",
       "           Today  \n",
       "Year    0.030095  \n",
       "Lag1   -0.026155  \n",
       "Lag2   -0.010250  \n",
       "Lag3   -0.002448  \n",
       "Lag4   -0.006900  \n",
       "Lag5   -0.034860  \n",
       "Volume  0.014592  \n",
       "Today   1.000000  "
      ]
     },
     "execution_count": 6,
     "metadata": {},
     "output_type": "execute_result"
    }
   ],
   "source": [
    "smarket_df.corr()"
   ]
  },
  {
   "cell_type": "code",
   "execution_count": 14,
   "metadata": {
    "collapsed": false
   },
   "outputs": [
    {
     "data": {
      "image/png": "[encoded data removed]",
      "text/plain": [
       "<matplotlib.figure.Figure at 0x10bd84160>"
      ]
     },
     "metadata": {},
     "output_type": "display_data"
    }
   ],
   "source": [
    "ax = sns.pointplot(x=\"Year\", y=\"Volume\", data=smarket_df)"
   ]
  },
  {
   "cell_type": "markdown",
   "metadata": {},
   "source": [
    "## Logistic Regression"
   ]
  },
  {
   "cell_type": "code",
   "execution_count": 31,
   "metadata": {
    "collapsed": false
   },
   "outputs": [
    {
     "name": "stdout",
     "output_type": "stream",
     "text": [
      "Intercpet: [-0.11454962]\n",
      "Coefficients:\n",
      "\tLag1: -0.07279035244097605\n",
      "\tLag2: -0.042291015688171354\n",
      "\tLag3: 0.01095799639819893\n",
      "\tLag4: 0.00921799170450773\n",
      "\tLag5: 0.010230310971632023\n",
      "\tVolume: 0.12793930878661286\n",
      "p-values:\n",
      "\t Lag1: 0.16008618568035235\n",
      "\t Lag2: 0.39494704292074356\n",
      "\t Lag3: 0.8285459051313201\n",
      "\t Lag4: 0.8816470639628737\n",
      "\t Lag5: 0.8481132399931779\n",
      "\t Volume: 0.417518499939722\n"
     ]
    }
   ],
   "source": [
    "from sklearn.linear_model import LogisticRegression\n",
    "from sklearn.feature_selection import f_classif\n",
    "\n",
    "X = smarket_df[['Lag1', 'Lag2', 'Lag3', 'Lag4', 'Lag5', 'Volume']]\n",
    "y = np.ravel(smarket_df['Direction'])\n",
    "log_model = LogisticRegression()\n",
    "log_model.fit(X, y)\n",
    "\n",
    "\n",
    "\n",
    "# printing out intercept, coefficients and p-values\n",
    "names = ['Lag1', 'Lag2', 'Lag3', 'Lag4', 'Lag5', 'Volume']\n",
    "f_statistics, p_values = f_classif(X, y)\n",
    "\n",
    "print(\"Intercpet: {}\".format(log_model.intercept_))\n",
    "print('Coefficients:')\n",
    "for i in range(0, len(features)):\n",
    "    print(\"\\t{}: {}\".format(names[i], log_model.coef_[0][i]))\n",
    "print('p-values:')\n",
    "for i in range(0, len(features)):\n",
    "    print(\"\\t {}: {}\".format(names[i], p_values[i]))"
   ]
  },
  {
   "cell_type": "code",
   "execution_count": 57,
   "metadata": {
    "collapsed": false
   },
   "outputs": [
    {
     "name": "stdout",
     "output_type": "stream",
     "text": [
      "             precision    recall  f1-score   support\n",
      "\n",
      "       Down       0.51      0.24      0.33       602\n",
      "         Up       0.53      0.79      0.63       648\n",
      "\n",
      "avg / total       0.52      0.52      0.48      1250\n",
      "\n"
     ]
    }
   ],
   "source": [
    "from sklearn.metrics import confusion_matrix, accuracy_score, classification_report\n",
    "\n",
    "prediction_probabilities = log_model.predict_proba(X)\n",
    "predicted_direction = list()\n",
    "for prediction in prediction_probabilities:\n",
    "    if prediction[0] > .5:\n",
    "        predicted_direction.append('Down')\n",
    "    else:\n",
    "        predicted_direction.append('Up')\n",
    "print(confusion_matrix(y, np.asarray(predicted_direction)))"
   ]
  },
  {
   "cell_type": "code",
   "execution_count": 97,
   "metadata": {
    "collapsed": false
   },
   "outputs": [
    {
     "name": "stdout",
     "output_type": "stream",
     "text": [
      "             precision    recall  f1-score   support\n",
      "\n",
      "       Down       0.80      0.04      0.07       111\n",
      "         Up       0.57      0.99      0.72       141\n",
      "\n",
      "avg / total       0.67      0.57      0.43       252\n",
      "\n"
     ]
    }
   ],
   "source": [
    "log_model2 = LogisticRegression()\n",
    "\n",
    "train_X = smarket_df[smarket_df.Year < 2005][['Lag1', 'Lag2', 'Lag3', 'Lag4', 'Lag5', 'Volume']]\n",
    "train_y = np.ravel(smarket_df[smarket_df.Year < 2005]['Direction'])\n",
    "test_X = smarket_df[smarket_df.Year == 2005][['Lag1', 'Lag2', 'Lag3', 'Lag4', 'Lag5', 'Volume']]\n",
    "test_y = np.ravel(smarket_df[smarket_df.Year == 2005]['Direction'])\n",
    "\n",
    "log_model2.fit(train_X, train_y)\n",
    "\n",
    "prediction_probabilities = log_model.predict_proba(test_X)\n",
    "predicted_direction = list()\n",
    "for prediction in prediction_probabilities:\n",
    "    if prediction[0] > .5:\n",
    "        predicted_direction.append('Down')\n",
    "    else:\n",
    "        predicted_direction.append('Up')\n",
    "print(classification_report(test_y, np.asarray(predicted_direction)))"
   ]
  },
  {
   "cell_type": "code",
   "execution_count": 101,
   "metadata": {
    "collapsed": false
   },
   "outputs": [
    {
     "name": "stdout",
     "output_type": "stream",
     "text": [
      "0.559523809524\n"
     ]
    }
   ],
   "source": [
    "log_model3 = LogisticRegression()\n",
    "\n",
    "train_X = smarket_df[smarket_df.Year < 2005][['Lag1', 'Lag2']]\n",
    "train_y = np.ravel(smarket_df[smarket_df.Year < 2005]['Direction'])\n",
    "test_X = smarket_df[smarket_df.Year == 2005][['Lag1', 'Lag2']]\n",
    "test_y = np.ravel(smarket_df[smarket_df.Year == 2005]['Direction'])\n",
    "\n",
    "log_model3.fit(train_X, train_y)\n",
    "\n",
    "prediction_probabilities = log_model3.predict_proba(test_X)\n",
    "predictions = log_model3.predict(test_X)\n",
    "predicted_direction = list()\n",
    "for prediction in prediction_probabilities:\n",
    "    if prediction[0] > .5:\n",
    "        predicted_direction.append('Down')\n",
    "    else:\n",
    "        predicted_direction.append('Up')\n",
    "print(accuracy_score(test_y, np.asarray(predictions)))"
   ]
  },
  {
   "cell_type": "markdown",
   "metadata": {},
   "source": [
    "## Linear Discriminant Analysis"
   ]
  },
  {
   "cell_type": "code",
   "execution_count": 85,
   "metadata": {
    "collapsed": false
   },
   "outputs": [
    {
     "name": "stdout",
     "output_type": "stream",
     "text": [
      "Prior Probabilities of groups:\n",
      "\tDown:0.49198396793587174\n",
      "\tUp:0.5080160320641283\n",
      "Group means:\n",
      "\tDown, Lag1: 0.04279022403258651\n",
      "\tDown, Lag2: 0.0338940936863544\n",
      "\tUp, Lag1: -0.03954635108481257\n",
      "\tUp, Lag2: -0.031325443786982286\n",
      "Coefficients:\n",
      "\tLag1:-0.05544077817925726\n",
      "\tLag2:-0.044345199897942424\n"
     ]
    }
   ],
   "source": [
    "from sklearn.discriminant_analysis import LinearDiscriminantAnalysis\n",
    "\n",
    "features = ['Lag1', 'Lag2']\n",
    "\n",
    "lda_model = LinearDiscriminantAnalysis()\n",
    "lda_model.fit(train_X, train_y)\n",
    "\n",
    "print('Prior Probabilities of groups:')\n",
    "for i in range(0, len(lda_model.classes_)):\n",
    "    print('\\t{}:{}'.format(lda_model.classes_[i], lda_model.priors_[i]))\n",
    "    \n",
    "print('Group means:')\n",
    "for i in range (0, len(lda_model.classes_)):\n",
    "    for j in range(0, len(features)):\n",
    "        print('\\t{}, {}: {}'.format(lda_model.classes_[i],\n",
    "                                     features[j],\n",
    "                                     lda_model.means_[i][j]))\n",
    "print('Coefficients:')\n",
    "for i in range(0, lda_model.coef_.shape[1]):\n",
    "    print('\\t{}:{}'.format(features[i], lda_model.coef_[0][i]))"
   ]
  },
  {
   "cell_type": "code",
   "execution_count": 108,
   "metadata": {
    "collapsed": false
   },
   "outputs": [
    {
     "name": "stdout",
     "output_type": "stream",
     "text": [
      "[[ 35  35]\n",
      " [ 76 106]]\n",
      "0.559523809524\n"
     ]
    }
   ],
   "source": [
    "predictions = lda_model.predict(test_X)\n",
    "\n",
    "print(confusion_matrix(test_y, np.asarray(predictions)).transpose())\n",
    "print(accuracy_score(test_y, np.asarray(predictions)))"
   ]
  },
  {
   "cell_type": "markdown",
   "metadata": {},
   "source": [
    "## Quadratic Discriminant Analysis "
   ]
  },
  {
   "cell_type": "code",
   "execution_count": 102,
   "metadata": {
    "collapsed": false
   },
   "outputs": [
    {
     "name": "stdout",
     "output_type": "stream",
     "text": [
      "Prior Probabilities of groups:\n",
      "\tDown:0.49198396793587174\n",
      "\tUp:0.5080160320641283\n",
      "Group means:\n",
      "\tDown, Lag1: 0.04279022403258651\n",
      "\tDown, Lag2: 0.0338940936863544\n",
      "\tUp, Lag1: -0.03954635108481257\n",
      "\tUp, Lag2: -0.031325443786982286\n"
     ]
    }
   ],
   "source": [
    "from sklearn.discriminant_analysis import QuadraticDiscriminantAnalysis\n",
    "\n",
    "\n",
    "qda_model = QuadraticDiscriminantAnalysis()\n",
    "qda_model.fit(train_X, train_y)\n",
    "\n",
    "print('Prior Probabilities of groups:')\n",
    "for i in range(0, len(qda_model.classes_)):\n",
    "    print('\\t{}:{}'.format(qda_model.classes_[i], qda_model.priors_[i]))\n",
    "    \n",
    "print('Group means:')\n",
    "for i in range (0, len(qda_model.classes_)):\n",
    "    for j in range(0, len(features)):\n",
    "        print('\\t{}, {}: {}'.format(qda_model.classes_[i],\n",
    "                                     features[j],\n",
    "                                     qda_model.means_[i][j]))"
   ]
  },
  {
   "cell_type": "code",
   "execution_count": 107,
   "metadata": {
    "collapsed": false
   },
   "outputs": [
    {
     "name": "stdout",
     "output_type": "stream",
     "text": [
      "[[ 30  20]\n",
      " [ 81 121]]\n",
      "0.599206349206\n"
     ]
    }
   ],
   "source": [
    "predictions = qda_model.predict(test_X)\n",
    "\n",
    "print(confusion_matrix(test_y, np.asarray(predictions)).transpose())\n",
    "print(accuracy_score(test_y, np.asarray(predictions)))"
   ]
  },
  {
   "cell_type": "markdown",
   "metadata": {},
   "source": [
    "## K-Nearest Neighbors"
   ]
  },
  {
   "cell_type": "code",
   "execution_count": 109,
   "metadata": {
    "collapsed": false
   },
   "outputs": [
    {
     "name": "stdout",
     "output_type": "stream",
     "text": [
      "[[43 58]\n",
      " [68 83]]\n",
      "0.5\n"
     ]
    }
   ],
   "source": [
    "from sklearn.neighbors import KNeighborsClassifier\n",
    "\n",
    "knn_classif = KNeighborsClassifier(n_neighbors=1)\n",
    "knn_classif.fit(train_X, train_y)\n",
    "predictions = knn_classif.predict(test_X)\n",
    "\n",
    "print(confusion_matrix(test_y, np.asarray(predictions)).transpose())\n",
    "print(accuracy_score(test_y, np.asarray(predictions)))"
   ]
  },
  {
   "cell_type": "code",
   "execution_count": 110,
   "metadata": {
    "collapsed": false
   },
   "outputs": [
    {
     "name": "stdout",
     "output_type": "stream",
     "text": [
      "[[48 55]\n",
      " [63 86]]\n",
      "0.531746031746\n"
     ]
    }
   ],
   "source": [
    "knn_classif = KNeighborsClassifier(n_neighbors=3)\n",
    "knn_classif.fit(train_X, train_y)\n",
    "predictions = knn_classif.predict(test_X)\n",
    "\n",
    "print(confusion_matrix(test_y, np.asarray(predictions)).transpose())\n",
    "print(accuracy_score(test_y, np.asarray(predictions)))"
   ]
  },
  {
   "cell_type": "markdown",
   "metadata": {},
   "source": [
    "## An Application to Caravan Insurance Data "
   ]
  },
  {
   "cell_type": "code",
   "execution_count": 111,
   "metadata": {
    "collapsed": false
   },
   "outputs": [
    {
     "name": "stdout",
     "output_type": "stream",
     "text": [
      "(5822, 86)\n",
      "No     5474\n",
      "Yes     348\n",
      "Name: Purchase, dtype: int64\n"
     ]
    }
   ],
   "source": [
    "caravan_df = pd.read_csv('../data/Caravan.csv')\n",
    "caravan_df.drop('Unnamed: 0', inplace=True, axis=1)\n",
    "print(caravan_df.shape)\n",
    "print(caravan_df['Purchase'].value_counts())"
   ]
  },
  {
   "cell_type": "code",
   "execution_count": 121,
   "metadata": {
    "collapsed": false
   },
   "outputs": [
    {
     "data": {
      "text/html": [
       "<div>\n",
       "<table border=\"1\" class=\"dataframe\">\n",
       "  <thead>\n",
       "    <tr style=\"text-align: right;\">\n",
       "      <th></th>\n",
       "      <th>MOSTYPE</th>\n",
       "      <th>MAANTHUI</th>\n",
       "      <th>MGEMOMV</th>\n",
       "      <th>MGEMLEEF</th>\n",
       "      <th>MOSHOOFD</th>\n",
       "      <th>MGODRK</th>\n",
       "      <th>MGODPR</th>\n",
       "      <th>MGODOV</th>\n",
       "      <th>MGODGE</th>\n",
       "      <th>MRELGE</th>\n",
       "      <th>...</th>\n",
       "      <th>ALEVEN</th>\n",
       "      <th>APERSONG</th>\n",
       "      <th>AGEZONG</th>\n",
       "      <th>AWAOREG</th>\n",
       "      <th>ABRAND</th>\n",
       "      <th>AZEILPL</th>\n",
       "      <th>APLEZIER</th>\n",
       "      <th>AFIETS</th>\n",
       "      <th>AINBOED</th>\n",
       "      <th>ABYSTAND</th>\n",
       "    </tr>\n",
       "  </thead>\n",
       "  <tbody>\n",
       "    <tr>\n",
       "      <th>count</th>\n",
       "      <td>5.822000e+03</td>\n",
       "      <td>5.822000e+03</td>\n",
       "      <td>5.822000e+03</td>\n",
       "      <td>5.822000e+03</td>\n",
       "      <td>5.822000e+03</td>\n",
       "      <td>5.822000e+03</td>\n",
       "      <td>5.822000e+03</td>\n",
       "      <td>5.822000e+03</td>\n",
       "      <td>5.822000e+03</td>\n",
       "      <td>5.822000e+03</td>\n",
       "      <td>...</td>\n",
       "      <td>5.822000e+03</td>\n",
       "      <td>5.822000e+03</td>\n",
       "      <td>5.822000e+03</td>\n",
       "      <td>5.822000e+03</td>\n",
       "      <td>5.822000e+03</td>\n",
       "      <td>5.822000e+03</td>\n",
       "      <td>5.822000e+03</td>\n",
       "      <td>5.822000e+03</td>\n",
       "      <td>5.822000e+03</td>\n",
       "      <td>5.822000e+03</td>\n",
       "    </tr>\n",
       "    <tr>\n",
       "      <th>mean</th>\n",
       "      <td>-8.238000e-17</td>\n",
       "      <td>-1.983222e-16</td>\n",
       "      <td>-1.482840e-16</td>\n",
       "      <td>2.096113e-16</td>\n",
       "      <td>-5.675067e-17</td>\n",
       "      <td>-6.285289e-17</td>\n",
       "      <td>8.787200e-17</td>\n",
       "      <td>-3.478267e-17</td>\n",
       "      <td>1.122809e-16</td>\n",
       "      <td>-1.696418e-16</td>\n",
       "      <td>...</td>\n",
       "      <td>1.006867e-17</td>\n",
       "      <td>-6.102222e-18</td>\n",
       "      <td>3.539289e-17</td>\n",
       "      <td>-9.763555e-18</td>\n",
       "      <td>-1.232649e-16</td>\n",
       "      <td>5.492000e-18</td>\n",
       "      <td>3.295200e-17</td>\n",
       "      <td>1.952711e-17</td>\n",
       "      <td>2.440889e-18</td>\n",
       "      <td>-5.186889e-18</td>\n",
       "    </tr>\n",
       "    <tr>\n",
       "      <th>std</th>\n",
       "      <td>1.000000e+00</td>\n",
       "      <td>1.000000e+00</td>\n",
       "      <td>1.000000e+00</td>\n",
       "      <td>1.000000e+00</td>\n",
       "      <td>1.000000e+00</td>\n",
       "      <td>1.000000e+00</td>\n",
       "      <td>1.000000e+00</td>\n",
       "      <td>1.000000e+00</td>\n",
       "      <td>1.000000e+00</td>\n",
       "      <td>1.000000e+00</td>\n",
       "      <td>...</td>\n",
       "      <td>1.000000e+00</td>\n",
       "      <td>1.000000e+00</td>\n",
       "      <td>1.000000e+00</td>\n",
       "      <td>1.000000e+00</td>\n",
       "      <td>1.000000e+00</td>\n",
       "      <td>1.000000e+00</td>\n",
       "      <td>1.000000e+00</td>\n",
       "      <td>1.000000e+00</td>\n",
       "      <td>1.000000e+00</td>\n",
       "      <td>1.000000e+00</td>\n",
       "    </tr>\n",
       "    <tr>\n",
       "      <th>min</th>\n",
       "      <td>-1.810063e+00</td>\n",
       "      <td>-2.725565e-01</td>\n",
       "      <td>-2.125514e+00</td>\n",
       "      <td>-2.444473e+00</td>\n",
       "      <td>-1.670990e+00</td>\n",
       "      <td>-6.942510e-01</td>\n",
       "      <td>-2.696595e+00</td>\n",
       "      <td>-1.051503e+00</td>\n",
       "      <td>-2.039564e+00</td>\n",
       "      <td>-3.238282e+00</td>\n",
       "      <td>...</td>\n",
       "      <td>-2.028925e-01</td>\n",
       "      <td>-7.315883e-02</td>\n",
       "      <td>-8.104764e-02</td>\n",
       "      <td>-5.991487e-02</td>\n",
       "      <td>-1.014271e+00</td>\n",
       "      <td>-2.270383e-02</td>\n",
       "      <td>-7.364394e-02</td>\n",
       "      <td>-1.506075e-01</td>\n",
       "      <td>-8.734022e-02</td>\n",
       "      <td>-1.188063e-01</td>\n",
       "    </tr>\n",
       "    <tr>\n",
       "      <th>25%</th>\n",
       "      <td>-1.109495e+00</td>\n",
       "      <td>-2.725565e-01</td>\n",
       "      <td>-8.594262e-01</td>\n",
       "      <td>-1.216859e+00</td>\n",
       "      <td>-9.708962e-01</td>\n",
       "      <td>-6.942510e-01</td>\n",
       "      <td>-3.653787e-01</td>\n",
       "      <td>-1.051503e+00</td>\n",
       "      <td>-7.877226e-01</td>\n",
       "      <td>-6.197711e-01</td>\n",
       "      <td>...</td>\n",
       "      <td>-2.028925e-01</td>\n",
       "      <td>-7.315883e-02</td>\n",
       "      <td>-8.104764e-02</td>\n",
       "      <td>-5.991487e-02</td>\n",
       "      <td>-1.014271e+00</td>\n",
       "      <td>-2.270383e-02</td>\n",
       "      <td>-7.364394e-02</td>\n",
       "      <td>-1.506075e-01</td>\n",
       "      <td>-8.734022e-02</td>\n",
       "      <td>-1.188063e-01</td>\n",
       "    </tr>\n",
       "    <tr>\n",
       "      <th>50%</th>\n",
       "      <td>4.473248e-01</td>\n",
       "      <td>-2.725565e-01</td>\n",
       "      <td>4.066617e-01</td>\n",
       "      <td>1.075374e-02</td>\n",
       "      <td>4.292915e-01</td>\n",
       "      <td>-6.942510e-01</td>\n",
       "      <td>2.174254e-01</td>\n",
       "      <td>-6.870474e-02</td>\n",
       "      <td>-1.618019e-01</td>\n",
       "      <td>-9.606902e-02</td>\n",
       "      <td>...</td>\n",
       "      <td>-2.028925e-01</td>\n",
       "      <td>-7.315883e-02</td>\n",
       "      <td>-8.104764e-02</td>\n",
       "      <td>-5.991487e-02</td>\n",
       "      <td>7.649050e-01</td>\n",
       "      <td>-2.270383e-02</td>\n",
       "      <td>-7.364394e-02</td>\n",
       "      <td>-1.506075e-01</td>\n",
       "      <td>-8.734022e-02</td>\n",
       "      <td>-1.188063e-01</td>\n",
       "    </tr>\n",
       "    <tr>\n",
       "      <th>75%</th>\n",
       "      <td>8.365297e-01</td>\n",
       "      <td>-2.725565e-01</td>\n",
       "      <td>4.066617e-01</td>\n",
       "      <td>1.075374e-02</td>\n",
       "      <td>7.793384e-01</td>\n",
       "      <td>3.025256e-01</td>\n",
       "      <td>8.002294e-01</td>\n",
       "      <td>9.140938e-01</td>\n",
       "      <td>4.641188e-01</td>\n",
       "      <td>4.276331e-01</td>\n",
       "      <td>...</td>\n",
       "      <td>-2.028925e-01</td>\n",
       "      <td>-7.315883e-02</td>\n",
       "      <td>-8.104764e-02</td>\n",
       "      <td>-5.991487e-02</td>\n",
       "      <td>7.649050e-01</td>\n",
       "      <td>-2.270383e-02</td>\n",
       "      <td>-7.364394e-02</td>\n",
       "      <td>-1.506075e-01</td>\n",
       "      <td>-8.734022e-02</td>\n",
       "      <td>-1.188063e-01</td>\n",
       "    </tr>\n",
       "    <tr>\n",
       "      <th>max</th>\n",
       "      <td>1.303575e+00</td>\n",
       "      <td>2.190356e+01</td>\n",
       "      <td>2.938838e+00</td>\n",
       "      <td>3.693593e+00</td>\n",
       "      <td>1.479432e+00</td>\n",
       "      <td>8.276739e+00</td>\n",
       "      <td>2.548642e+00</td>\n",
       "      <td>3.862489e+00</td>\n",
       "      <td>3.593722e+00</td>\n",
       "      <td>1.475037e+00</td>\n",
       "      <td>...</td>\n",
       "      <td>2.098527e+01</td>\n",
       "      <td>1.366654e+01</td>\n",
       "      <td>1.233630e+01</td>\n",
       "      <td>2.577893e+01</td>\n",
       "      <td>1.143996e+01</td>\n",
       "      <td>4.403786e+01</td>\n",
       "      <td>2.442664e+01</td>\n",
       "      <td>1.406837e+01</td>\n",
       "      <td>2.202113e+01</td>\n",
       "      <td>1.654842e+01</td>\n",
       "    </tr>\n",
       "  </tbody>\n",
       "</table>\n",
       "<p>8 rows × 85 columns</p>\n",
       "</div>"
      ],
      "text/plain": [
       "            MOSTYPE      MAANTHUI       MGEMOMV      MGEMLEEF      MOSHOOFD  \\\n",
       "count  5.822000e+03  5.822000e+03  5.822000e+03  5.822000e+03  5.822000e+03   \n",
       "mean  -8.238000e-17 -1.983222e-16 -1.482840e-16  2.096113e-16 -5.675067e-17   \n",
       "std    1.000000e+00  1.000000e+00  1.000000e+00  1.000000e+00  1.000000e+00   \n",
       "min   -1.810063e+00 -2.725565e-01 -2.125514e+00 -2.444473e+00 -1.670990e+00   \n",
       "25%   -1.109495e+00 -2.725565e-01 -8.594262e-01 -1.216859e+00 -9.708962e-01   \n",
       "50%    4.473248e-01 -2.725565e-01  4.066617e-01  1.075374e-02  4.292915e-01   \n",
       "75%    8.365297e-01 -2.725565e-01  4.066617e-01  1.075374e-02  7.793384e-01   \n",
       "max    1.303575e+00  2.190356e+01  2.938838e+00  3.693593e+00  1.479432e+00   \n",
       "\n",
       "             MGODRK        MGODPR        MGODOV        MGODGE        MRELGE  \\\n",
       "count  5.822000e+03  5.822000e+03  5.822000e+03  5.822000e+03  5.822000e+03   \n",
       "mean  -6.285289e-17  8.787200e-17 -3.478267e-17  1.122809e-16 -1.696418e-16   \n",
       "std    1.000000e+00  1.000000e+00  1.000000e+00  1.000000e+00  1.000000e+00   \n",
       "min   -6.942510e-01 -2.696595e+00 -1.051503e+00 -2.039564e+00 -3.238282e+00   \n",
       "25%   -6.942510e-01 -3.653787e-01 -1.051503e+00 -7.877226e-01 -6.197711e-01   \n",
       "50%   -6.942510e-01  2.174254e-01 -6.870474e-02 -1.618019e-01 -9.606902e-02   \n",
       "75%    3.025256e-01  8.002294e-01  9.140938e-01  4.641188e-01  4.276331e-01   \n",
       "max    8.276739e+00  2.548642e+00  3.862489e+00  3.593722e+00  1.475037e+00   \n",
       "\n",
       "           ...             ALEVEN      APERSONG       AGEZONG       AWAOREG  \\\n",
       "count      ...       5.822000e+03  5.822000e+03  5.822000e+03  5.822000e+03   \n",
       "mean       ...       1.006867e-17 -6.102222e-18  3.539289e-17 -9.763555e-18   \n",
       "std        ...       1.000000e+00  1.000000e+00  1.000000e+00  1.000000e+00   \n",
       "min        ...      -2.028925e-01 -7.315883e-02 -8.104764e-02 -5.991487e-02   \n",
       "25%        ...      -2.028925e-01 -7.315883e-02 -8.104764e-02 -5.991487e-02   \n",
       "50%        ...      -2.028925e-01 -7.315883e-02 -8.104764e-02 -5.991487e-02   \n",
       "75%        ...      -2.028925e-01 -7.315883e-02 -8.104764e-02 -5.991487e-02   \n",
       "max        ...       2.098527e+01  1.366654e+01  1.233630e+01  2.577893e+01   \n",
       "\n",
       "             ABRAND       AZEILPL      APLEZIER        AFIETS       AINBOED  \\\n",
       "count  5.822000e+03  5.822000e+03  5.822000e+03  5.822000e+03  5.822000e+03   \n",
       "mean  -1.232649e-16  5.492000e-18  3.295200e-17  1.952711e-17  2.440889e-18   \n",
       "std    1.000000e+00  1.000000e+00  1.000000e+00  1.000000e+00  1.000000e+00   \n",
       "min   -1.014271e+00 -2.270383e-02 -7.364394e-02 -1.506075e-01 -8.734022e-02   \n",
       "25%   -1.014271e+00 -2.270383e-02 -7.364394e-02 -1.506075e-01 -8.734022e-02   \n",
       "50%    7.649050e-01 -2.270383e-02 -7.364394e-02 -1.506075e-01 -8.734022e-02   \n",
       "75%    7.649050e-01 -2.270383e-02 -7.364394e-02 -1.506075e-01 -8.734022e-02   \n",
       "max    1.143996e+01  4.403786e+01  2.442664e+01  1.406837e+01  2.202113e+01   \n",
       "\n",
       "           ABYSTAND  \n",
       "count  5.822000e+03  \n",
       "mean  -5.186889e-18  \n",
       "std    1.000000e+00  \n",
       "min   -1.188063e-01  \n",
       "25%   -1.188063e-01  \n",
       "50%   -1.188063e-01  \n",
       "75%   -1.188063e-01  \n",
       "max    1.654842e+01  \n",
       "\n",
       "[8 rows x 85 columns]"
      ]
     },
     "execution_count": 121,
     "metadata": {},
     "output_type": "execute_result"
    }
   ],
   "source": [
    "from sklearn.preprocessing import MinMaxScaler\n",
    "\n",
    "caravan_nums_df = caravan_df.drop('Purchase', axis=1)\n",
    "responses = np.ravel(caravan_df['Purchase'])\n",
    "\n",
    "caravan_nums_df = (caravan_nums_df - caravan_nums_df.mean())/caravan_nums_df.std()\n",
    "caravan_nums_df.describe()"
   ]
  },
  {
   "cell_type": "code",
   "execution_count": 132,
   "metadata": {
    "collapsed": false
   },
   "outputs": [
    {
     "name": "stdout",
     "output_type": "stream",
     "text": [
      "0.110949813355\n"
     ]
    }
   ],
   "source": [
    "train_X = caravan_nums_df[:1000]\n",
    "train_y = responses[:1000]\n",
    "test_X =caravan_nums_df[1000:]\n",
    "test_y = responses[1000:]\n",
    "\n",
    "knn_model = KNeighborsClassifier(n_neighbors=1)\n",
    "knn_model.fit(train_X, train_y)\n",
    "predicted = np.ravel(knn_model.predict(test_X))\n",
    "\n",
    "print(1 - accuracy_score(test_y, np.asarray(predicted)))"
   ]
  },
  {
   "cell_type": "code",
   "execution_count": 138,
   "metadata": {
    "collapsed": false
   },
   "outputs": [
    {
     "name": "stdout",
     "output_type": "stream",
     "text": [
      "0.0746578183326\n",
      "[[4437   96]\n",
      " [ 264   25]]\n",
      "             precision    recall  f1-score   support\n",
      "\n",
      "         No       0.94      0.98      0.96      4533\n",
      "        Yes       0.21      0.09      0.12       289\n",
      "\n",
      "avg / total       0.90      0.93      0.91      4822\n",
      "\n"
     ]
    }
   ],
   "source": [
    "knn_model = KNeighborsClassifier(n_neighbors=3)\n",
    "knn_model.fit(train_X, train_y)\n",
    "predicted = np.ravel(knn_model.predict(test_X))\n",
    "\n",
    "print(1 - accuracy_score(test_y, np.asarray(predicted)))\n",
    "print(confusion_matrix(test_y, np.asarray(predicted).transpose()))\n",
    "print(classification_report(test_y, np.asarray(predicted).transpose()))"
   ]
  },
  {
   "cell_type": "code",
   "execution_count": 139,
   "metadata": {
    "collapsed": false
   },
   "outputs": [
    {
     "name": "stdout",
     "output_type": "stream",
     "text": [
      "0.0634591455827\n",
      "[[4506   27]\n",
      " [ 279   10]]\n",
      "             precision    recall  f1-score   support\n",
      "\n",
      "         No       0.94      0.99      0.97      4533\n",
      "        Yes       0.27      0.03      0.06       289\n",
      "\n",
      "avg / total       0.90      0.94      0.91      4822\n",
      "\n"
     ]
    }
   ],
   "source": [
    "knn_model = KNeighborsClassifier(n_neighbors=5)\n",
    "knn_model.fit(train_X, train_y)\n",
    "predicted = knn_model.predict(test_X)\n",
    "\n",
    "print(1 - accuracy_score(test_y, np.asarray(predicted)))\n",
    "print(confusion_matrix(test_y, np.asarray(predicted).transpose()))\n",
    "print(classification_report(test_y, np.asarray(predicted).transpose()))"
   ]
  }
 ],
 "metadata": {
  "kernelspec": {
   "display_name": "Python 3",
   "language": "python",
   "name": "python3"
  },
  "language_info": {
   "codemirror_mode": {
    "name": "ipython",
    "version": 3
   },
   "file_extension": ".py",
   "mimetype": "text/x-python",
   "name": "python",
   "nbconvert_exporter": "python",
   "pygments_lexer": "ipython3",
   "version": "3.5.0"
  }
 },
 "nbformat": 4,
 "nbformat_minor": 2
}
