{
 "cells": [
  {
   "cell_type": "markdown",
   "metadata": {},
   "source": [
    "## Exercise 1 "
   ]
  },
  {
   "cell_type": "code",
   "execution_count": 39,
   "metadata": {
    "collapsed": false
   },
   "outputs": [],
   "source": [
    "from sklearn.datasets import fetch_mldata\n",
    "import numpy as np\n",
    "\n",
    "mnist = fetch_mldata('MNIST original')\n",
    "X, y = mnist['data'], mnist['target']\n",
    "X_train, X_test, y_train, y_test = X[:60000], X[60000:], y[:60000], y[60000:]\n",
    "shuffle_index = np.random.permutation(60000)\n",
    "X_train, y_train = X_train[shuffle_index], y_train[shuffle_index]"
   ]
  },
  {
   "cell_type": "code",
   "execution_count": 15,
   "metadata": {
    "collapsed": true
   },
   "outputs": [],
   "source": [
    "from sklearn.preprocessing import StandardScaler\n",
    "from sklearn.model_selection import cross_val_score\n",
    "\n",
    "scaler = StandardScaler()\n",
    "X_train_scaled = scaler.fit_transform(X_train.astype(np.float64))\n",
    "X_test_scaled = scaler.fit_transform(X_test.astype(np.float64))"
   ]
  },
  {
   "cell_type": "code",
   "execution_count": 10,
   "metadata": {
    "collapsed": false
   },
   "outputs": [
    {
     "data": {
      "text/plain": [
       "(60000, 784)"
      ]
     },
     "execution_count": 10,
     "metadata": {},
     "output_type": "execute_result"
    }
   ],
   "source": [
    "X_train_scaled.shape"
   ]
  },
  {
   "cell_type": "code",
   "execution_count": 22,
   "metadata": {
    "collapsed": false
   },
   "outputs": [
    {
     "name": "stdout",
     "output_type": "stream",
     "text": [
      "Fitting 3 folds for each of 58 candidates, totalling 174 fits\n",
      "[CV] n_neighbors=1, weights=uniform ..................................\n",
      "[CV] n_neighbors=1, weights=uniform ..................................\n",
      "[CV] n_neighbors=1, weights=uniform ..................................\n",
      "[CV] n_neighbors=1, weights=distance .................................\n",
      "[CV] n_neighbors=1, weights=distance .................................\n",
      "[CV] n_neighbors=1, weights=distance .................................\n",
      "[CV] n_neighbors=2, weights=uniform ..................................\n",
      "[CV] n_neighbors=2, weights=uniform ..................................\n",
      "[CV] n_neighbors=2, weights=uniform ..................................\n",
      "[CV] n_neighbors=2, weights=distance .................................\n",
      "[CV] n_neighbors=2, weights=distance .................................\n",
      "[CV] n_neighbors=2, weights=distance .................................\n",
      "[CV] n_neighbors=3, weights=uniform ..................................\n",
      "[CV] n_neighbors=3, weights=uniform ..................................\n",
      "[CV] n_neighbors=3, weights=uniform ..................................\n",
      "[CV] n_neighbors=3, weights=distance .................................\n",
      "[CV] ... n_neighbors=1, weights=uniform, score=0.925075, total=  18.3s\n",
      "[CV] n_neighbors=3, weights=distance .................................\n",
      "[CV] ... n_neighbors=1, weights=uniform, score=0.930827, total=  18.3s\n",
      "[CV] n_neighbors=3, weights=distance .................................\n",
      "[CV] .. n_neighbors=1, weights=distance, score=0.942087, total=  18.3s\n",
      "[CV] .. n_neighbors=1, weights=distance, score=0.930827, total=  18.3s\n",
      "[CV] n_neighbors=4, weights=uniform ..................................\n",
      "[CV] n_neighbors=4, weights=uniform ..................................\n",
      "[CV] .. n_neighbors=1, weights=distance, score=0.925075, total=  18.5s\n",
      "[CV] n_neighbors=4, weights=uniform ..................................\n",
      "[CV] ... n_neighbors=1, weights=uniform, score=0.942087, total=  18.5s\n",
      "[CV] n_neighbors=4, weights=distance .................................\n",
      "[CV] ... n_neighbors=3, weights=uniform, score=0.924575, total=  18.4s\n",
      "[CV] ... n_neighbors=2, weights=uniform, score=0.921618, total=  18.4s\n",
      "[CV] n_neighbors=4, weights=distance .................................\n",
      "[CV] n_neighbors=4, weights=distance .................................\n",
      "[CV] ... n_neighbors=2, weights=uniform, score=0.910090, total=  18.5s\n",
      "[CV] n_neighbors=5, weights=uniform ..................................\n",
      "[CV] .. n_neighbors=2, weights=distance, score=0.942087, total=  18.5s\n",
      "[CV] n_neighbors=5, weights=uniform ..................................\n",
      "[CV] .. n_neighbors=2, weights=distance, score=0.930827, total=  18.4s\n",
      "[CV] n_neighbors=5, weights=uniform ..................................\n",
      "[CV] ... n_neighbors=3, weights=uniform, score=0.930827, total=  18.4s\n",
      "[CV] ... n_neighbors=3, weights=uniform, score=0.936595, total=  18.5s\n",
      "[CV] ... n_neighbors=2, weights=uniform, score=0.911779, total=  18.4s\n",
      "[CV] n_neighbors=5, weights=distance .................................\n",
      "[CV] n_neighbors=5, weights=distance .................................\n",
      "[CV] n_neighbors=5, weights=distance .................................\n"
     ]
    },
    {
     "name": "stderr",
     "output_type": "stream",
     "text": [
      "[Parallel(n_jobs=-1)]: Done   9 tasks      | elapsed:   54.6s\n"
     ]
    },
    {
     "name": "stdout",
     "output_type": "stream",
     "text": [
      "[CV] .. n_neighbors=2, weights=distance, score=0.925075, total=  18.5s\n",
      "[CV] n_neighbors=6, weights=uniform ..................................\n",
      "[CV] .. n_neighbors=3, weights=distance, score=0.941588, total=  18.5s\n",
      "[CV] n_neighbors=6, weights=uniform ..................................\n",
      "[CV] .. n_neighbors=3, weights=distance, score=0.930569, total=  18.3s\n",
      "[CV] n_neighbors=6, weights=uniform ..................................\n",
      "[CV] ... n_neighbors=4, weights=uniform, score=0.920080, total=  18.4s\n",
      "[CV] n_neighbors=6, weights=distance .................................\n",
      "[CV] ... n_neighbors=4, weights=uniform, score=0.931603, total=  18.4s\n",
      "[CV] n_neighbors=6, weights=distance .................................\n"
     ]
    },
    {
     "name": "stderr",
     "output_type": "stream",
     "text": [
      "[Parallel(n_jobs=-1)]: Done  18 tasks      | elapsed:  1.6min\n"
     ]
    },
    {
     "name": "stdout",
     "output_type": "stream",
     "text": [
      "[CV] .. n_neighbors=3, weights=distance, score=0.931830, total=  18.4s\n",
      "[CV] n_neighbors=6, weights=distance .................................\n",
      "[CV] ... n_neighbors=4, weights=uniform, score=0.922306, total=  18.4s\n",
      "[CV] n_neighbors=7, weights=uniform ..................................\n",
      "[CV] .. n_neighbors=4, weights=distance, score=0.944084, total=  18.4s\n",
      "[CV] n_neighbors=7, weights=uniform ..................................\n",
      "[CV] .. n_neighbors=4, weights=distance, score=0.934336, total=  18.3s\n",
      "[CV] n_neighbors=7, weights=uniform ..................................\n",
      "[CV] .. n_neighbors=4, weights=distance, score=0.929071, total=  18.4s\n",
      "[CV] n_neighbors=7, weights=distance .................................\n",
      "[CV] .. n_neighbors=5, weights=distance, score=0.934598, total=  18.4s\n",
      "[CV] n_neighbors=7, weights=distance .................................\n",
      "[CV] ... n_neighbors=5, weights=uniform, score=0.921578, total=  18.4s\n",
      "[CV] n_neighbors=7, weights=distance .................................\n",
      "[CV] ... n_neighbors=5, weights=uniform, score=0.929606, total=  18.5s\n",
      "[CV] n_neighbors=8, weights=uniform ..................................\n",
      "[CV] ... n_neighbors=5, weights=uniform, score=0.921303, total=  18.4s\n",
      "[CV] n_neighbors=8, weights=uniform ..................................\n",
      "[CV] ... n_neighbors=6, weights=uniform, score=0.929606, total=  18.4s\n",
      "[CV] n_neighbors=8, weights=uniform ..................................\n",
      "[CV] .. n_neighbors=5, weights=distance, score=0.925815, total=  18.4s\n",
      "[CV] .. n_neighbors=5, weights=distance, score=0.924575, total=  18.5s\n",
      "[CV] n_neighbors=8, weights=distance .................................\n",
      "[CV] n_neighbors=8, weights=distance .................................\n"
     ]
    },
    {
     "name": "stderr",
     "output_type": "stream",
     "text": [
      "[Parallel(n_jobs=-1)]: Done  29 tasks      | elapsed:  1.8min\n"
     ]
    },
    {
     "name": "stdout",
     "output_type": "stream",
     "text": [
      "[CV] ... n_neighbors=6, weights=uniform, score=0.919580, total=  18.5s\n",
      "[CV] n_neighbors=8, weights=distance .................................\n",
      "[CV] .. n_neighbors=6, weights=distance, score=0.936595, total=  18.3s\n",
      "[CV] n_neighbors=9, weights=uniform ..................................\n",
      "[CV] ... n_neighbors=6, weights=uniform, score=0.916792, total=  18.4s\n",
      "[CV] n_neighbors=9, weights=uniform ..................................\n",
      "[CV] .. n_neighbors=6, weights=distance, score=0.926074, total=  18.4s\n",
      "[CV] n_neighbors=9, weights=uniform ..................................\n",
      "[CV] .. n_neighbors=6, weights=distance, score=0.926817, total=  18.5s\n",
      "[CV] n_neighbors=9, weights=distance .................................\n",
      "[CV] ... n_neighbors=7, weights=uniform, score=0.930105, total=  18.5s\n",
      "[CV] n_neighbors=9, weights=distance .................................\n",
      "[CV] ... n_neighbors=7, weights=uniform, score=0.918082, total=  18.5s\n",
      "[CV] n_neighbors=9, weights=distance .................................\n",
      "[CV] .. n_neighbors=7, weights=distance, score=0.934099, total=  18.4s\n",
      "[CV] n_neighbors=10, weights=uniform .................................\n",
      "[CV] .. n_neighbors=7, weights=distance, score=0.918581, total=  18.4s\n",
      "[CV] n_neighbors=10, weights=uniform .................................\n",
      "[CV] ... n_neighbors=7, weights=uniform, score=0.918797, total=  18.5s\n",
      "[CV] n_neighbors=10, weights=uniform .................................\n",
      "[CV] .. n_neighbors=7, weights=distance, score=0.919799, total=  18.4s\n",
      "[CV] n_neighbors=10, weights=distance ................................\n"
     ]
    },
    {
     "name": "stderr",
     "output_type": "stream",
     "text": [
      "[Parallel(n_jobs=-1)]: Done  40 tasks      | elapsed:  2.7min\n"
     ]
    },
    {
     "name": "stdout",
     "output_type": "stream",
     "text": [
      "[CV] ... n_neighbors=8, weights=uniform, score=0.926111, total=  18.5s\n",
      "[CV] n_neighbors=10, weights=distance ................................\n",
      "[CV] ... n_neighbors=8, weights=uniform, score=0.913784, total=  18.4s\n",
      "[CV] n_neighbors=10, weights=distance ................................\n",
      "[CV] ... n_neighbors=8, weights=uniform, score=0.920579, total=  18.5s\n",
      "[CV] n_neighbors=11, weights=uniform .................................\n",
      "[CV] .. n_neighbors=8, weights=distance, score=0.924076, total=  18.5s\n",
      "[CV] n_neighbors=11, weights=uniform .................................\n",
      "[CV] .. n_neighbors=8, weights=distance, score=0.933600, total=  18.6s\n",
      "[CV] n_neighbors=11, weights=uniform .................................\n",
      "[CV] .. n_neighbors=8, weights=distance, score=0.919298, total=  18.6s\n",
      "[CV] n_neighbors=11, weights=distance ................................\n",
      "[CV] ... n_neighbors=9, weights=uniform, score=0.927109, total=  18.3s\n",
      "[CV] n_neighbors=11, weights=distance ................................\n",
      "[CV] ... n_neighbors=9, weights=uniform, score=0.916583, total=  18.4s\n",
      "[CV] n_neighbors=11, weights=distance ................................\n",
      "[CV] ... n_neighbors=9, weights=uniform, score=0.913283, total=  18.3s\n",
      "[CV] n_neighbors=12, weights=uniform .................................\n",
      "[CV] .. n_neighbors=9, weights=distance, score=0.931603, total=  18.4s\n",
      "[CV] n_neighbors=12, weights=uniform .................................\n",
      "[CV] .. n_neighbors=9, weights=distance, score=0.919580, total=  18.4s\n",
      "[CV] n_neighbors=12, weights=uniform .................................\n"
     ]
    },
    {
     "name": "stderr",
     "output_type": "stream",
     "text": [
      "[Parallel(n_jobs=-1)]: Done  53 tasks      | elapsed:  3.4min\n"
     ]
    },
    {
     "name": "stdout",
     "output_type": "stream",
     "text": [
      "[CV] .. n_neighbors=9, weights=distance, score=0.916792, total=  18.4s\n",
      "[CV] n_neighbors=12, weights=distance ................................\n",
      "[CV] .. n_neighbors=10, weights=uniform, score=0.924114, total=  18.4s\n",
      "[CV] n_neighbors=12, weights=distance ................................\n",
      "[CV] .. n_neighbors=10, weights=uniform, score=0.916583, total=  18.4s\n",
      "[CV] n_neighbors=12, weights=distance ................................\n",
      "[CV] . n_neighbors=10, weights=distance, score=0.928607, total=  18.4s\n",
      "[CV] n_neighbors=13, weights=uniform .................................\n",
      "[CV] . n_neighbors=10, weights=distance, score=0.921578, total=  18.4s\n",
      "[CV] n_neighbors=13, weights=uniform .................................\n",
      "[CV] .. n_neighbors=10, weights=uniform, score=0.914286, total=  18.4s\n",
      "[CV] n_neighbors=13, weights=uniform .................................\n",
      "[CV] . n_neighbors=10, weights=distance, score=0.917293, total=  18.3s\n",
      "[CV] n_neighbors=13, weights=distance ................................\n",
      "[CV] .. n_neighbors=11, weights=uniform, score=0.922616, total=  18.4s\n",
      "[CV] n_neighbors=13, weights=distance ................................\n",
      "[CV] .. n_neighbors=11, weights=uniform, score=0.912587, total=  18.5s\n",
      "[CV] n_neighbors=13, weights=distance ................................\n",
      "[CV] .. n_neighbors=11, weights=uniform, score=0.910777, total=  18.4s\n",
      "[CV] n_neighbors=14, weights=uniform .................................\n",
      "[CV] . n_neighbors=11, weights=distance, score=0.927609, total=  18.5s\n",
      "[CV] n_neighbors=14, weights=uniform .................................\n",
      "[CV] . n_neighbors=11, weights=distance, score=0.916084, total=  18.3s\n",
      "[CV] n_neighbors=14, weights=uniform .................................\n",
      "[CV] . n_neighbors=11, weights=distance, score=0.913784, total=  18.3s\n",
      "[CV] n_neighbors=14, weights=distance ................................\n",
      "[CV] .. n_neighbors=12, weights=uniform, score=0.920619, total=  18.4s\n",
      "[CV] n_neighbors=14, weights=distance ................................\n"
     ]
    },
    {
     "name": "stderr",
     "output_type": "stream",
     "text": [
      "[Parallel(n_jobs=-1)]: Done  66 tasks      | elapsed:  4.3min\n"
     ]
    },
    {
     "name": "stdout",
     "output_type": "stream",
     "text": [
      "[CV] .. n_neighbors=12, weights=uniform, score=0.909091, total=  18.4s\n",
      "[CV] n_neighbors=14, weights=distance ................................\n",
      "[CV] .. n_neighbors=12, weights=uniform, score=0.908271, total=  18.4s\n",
      "[CV] n_neighbors=15, weights=uniform .................................\n",
      "[CV] . n_neighbors=12, weights=distance, score=0.927109, total=  18.5s\n",
      "[CV] n_neighbors=15, weights=uniform .................................\n",
      "[CV] . n_neighbors=12, weights=distance, score=0.918581, total=  18.4s\n",
      "[CV] n_neighbors=15, weights=uniform .................................\n",
      "[CV] .. n_neighbors=13, weights=uniform, score=0.918622, total=  18.4s\n",
      "[CV] n_neighbors=15, weights=distance ................................\n",
      "[CV] . n_neighbors=12, weights=distance, score=0.913784, total=  18.4s\n",
      "[CV] n_neighbors=15, weights=distance ................................\n",
      "[CV] .. n_neighbors=13, weights=uniform, score=0.910589, total=  18.4s\n",
      "[CV] n_neighbors=15, weights=distance ................................\n",
      "[CV] .. n_neighbors=13, weights=uniform, score=0.909273, total=  18.4s\n",
      "[CV] n_neighbors=16, weights=uniform .................................\n",
      "[CV] . n_neighbors=13, weights=distance, score=0.924114, total=  18.5s\n",
      "[CV] n_neighbors=16, weights=uniform .................................\n",
      "[CV] . n_neighbors=13, weights=distance, score=0.912088, total=  18.5s\n",
      "[CV] n_neighbors=16, weights=uniform .................................\n",
      "[CV] . n_neighbors=13, weights=distance, score=0.913784, total=  18.5s\n",
      "[CV] n_neighbors=16, weights=distance ................................\n",
      "[CV] .. n_neighbors=14, weights=uniform, score=0.911588, total=  18.5s\n",
      "[CV] n_neighbors=16, weights=distance ................................\n",
      "[CV] .. n_neighbors=14, weights=uniform, score=0.917124, total=  18.5s\n",
      "[CV] n_neighbors=16, weights=distance ................................\n",
      "[CV] .. n_neighbors=14, weights=uniform, score=0.906767, total=  18.2s\n",
      "[CV] n_neighbors=17, weights=uniform .................................\n"
     ]
    },
    {
     "name": "stderr",
     "output_type": "stream",
     "text": [
      "[Parallel(n_jobs=-1)]: Done  81 tasks      | elapsed:  5.2min\n"
     ]
    },
    {
     "name": "stdout",
     "output_type": "stream",
     "text": [
      "[CV] . n_neighbors=14, weights=distance, score=0.913586, total=  18.4s\n",
      "[CV] n_neighbors=17, weights=uniform .................................\n",
      "[CV] . n_neighbors=14, weights=distance, score=0.923115, total=  18.4s\n",
      "[CV] n_neighbors=17, weights=uniform .................................\n",
      "[CV] . n_neighbors=14, weights=distance, score=0.911278, total=  18.4s\n",
      "[CV] n_neighbors=17, weights=distance ................................\n",
      "[CV] .. n_neighbors=15, weights=uniform, score=0.915627, total=  18.4s\n",
      "[CV] n_neighbors=17, weights=distance ................................\n",
      "[CV] .. n_neighbors=15, weights=uniform, score=0.909091, total=  18.5s\n",
      "[CV] n_neighbors=17, weights=distance ................................\n",
      "[CV] .. n_neighbors=15, weights=uniform, score=0.904762, total=  18.4s\n",
      "[CV] n_neighbors=18, weights=uniform .................................\n",
      "[CV] . n_neighbors=15, weights=distance, score=0.920120, total=  18.4s\n",
      "[CV] n_neighbors=18, weights=uniform .................................\n",
      "[CV] .. n_neighbors=16, weights=uniform, score=0.918622, total=  18.4s\n",
      "[CV] n_neighbors=18, weights=uniform .................................\n",
      "[CV] . n_neighbors=15, weights=distance, score=0.909590, total=  18.4s\n",
      "[CV] n_neighbors=18, weights=distance ................................\n",
      "[CV] .. n_neighbors=16, weights=uniform, score=0.904096, total=  18.4s\n",
      "[CV] n_neighbors=18, weights=distance ................................\n",
      "[CV] . n_neighbors=15, weights=distance, score=0.907769, total=  18.4s\n",
      "[CV] n_neighbors=18, weights=distance ................................\n",
      "[CV] .. n_neighbors=16, weights=uniform, score=0.906266, total=  18.4s\n",
      "[CV] n_neighbors=19, weights=uniform .................................\n",
      "[CV] . n_neighbors=16, weights=distance, score=0.909091, total=  18.3s\n",
      "[CV] n_neighbors=19, weights=uniform .................................\n",
      "[CV] . n_neighbors=16, weights=distance, score=0.909273, total=  18.3s\n",
      "[CV] n_neighbors=19, weights=uniform .................................\n",
      "[CV] . n_neighbors=16, weights=distance, score=0.922117, total=  18.5s\n",
      "[CV] n_neighbors=19, weights=distance ................................\n"
     ]
    },
    {
     "name": "stderr",
     "output_type": "stream",
     "text": [
      "[Parallel(n_jobs=-1)]: Done  96 tasks      | elapsed:  5.5min\n"
     ]
    },
    {
     "name": "stdout",
     "output_type": "stream",
     "text": [
      "[CV] .. n_neighbors=17, weights=uniform, score=0.918123, total=  18.4s\n",
      "[CV] n_neighbors=19, weights=distance ................................\n",
      "[CV] .. n_neighbors=17, weights=uniform, score=0.906094, total=  18.3s\n",
      "[CV] n_neighbors=19, weights=distance ................................\n",
      "[CV] .. n_neighbors=17, weights=uniform, score=0.906767, total=  18.4s\n",
      "[CV] n_neighbors=20, weights=uniform .................................\n",
      "[CV] . n_neighbors=17, weights=distance, score=0.920619, total=  18.4s\n",
      "[CV] n_neighbors=20, weights=uniform .................................\n",
      "[CV] . n_neighbors=17, weights=distance, score=0.907592, total=  18.5s\n",
      "[CV] n_neighbors=20, weights=uniform .................................\n",
      "[CV] . n_neighbors=17, weights=distance, score=0.907769, total=  18.4s\n",
      "[CV] n_neighbors=20, weights=distance ................................\n",
      "[CV] .. n_neighbors=18, weights=uniform, score=0.905594, total=  18.3s\n",
      "[CV] n_neighbors=20, weights=distance ................................\n",
      "[CV] .. n_neighbors=18, weights=uniform, score=0.918123, total=  18.4s\n",
      "[CV] n_neighbors=20, weights=distance ................................\n",
      "[CV] .. n_neighbors=18, weights=uniform, score=0.900752, total=  18.4s\n",
      "[CV] n_neighbors=21, weights=uniform .................................\n",
      "[CV] . n_neighbors=18, weights=distance, score=0.921618, total=  18.5s\n",
      "[CV] n_neighbors=21, weights=uniform .................................\n",
      "[CV] . n_neighbors=18, weights=distance, score=0.907093, total=  18.5s\n",
      "[CV] n_neighbors=21, weights=uniform .................................\n",
      "[CV] . n_neighbors=18, weights=distance, score=0.905764, total=  18.5s\n",
      "[CV] n_neighbors=21, weights=distance ................................\n",
      "[CV] .. n_neighbors=19, weights=uniform, score=0.902098, total=  18.5s\n",
      "[CV] n_neighbors=21, weights=distance ................................\n",
      "[CV] .. n_neighbors=19, weights=uniform, score=0.914628, total=  18.5s\n",
      "[CV] n_neighbors=21, weights=distance ................................\n",
      "[CV] .. n_neighbors=19, weights=uniform, score=0.900251, total=  18.4s\n",
      "[CV] n_neighbors=22, weights=uniform .................................\n",
      "[CV] . n_neighbors=19, weights=distance, score=0.917624, total=  18.5s\n",
      "[CV] n_neighbors=22, weights=uniform .................................\n",
      "[CV] . n_neighbors=19, weights=distance, score=0.904595, total=  18.5s\n",
      "[CV] n_neighbors=22, weights=uniform .................................\n"
     ]
    },
    {
     "name": "stderr",
     "output_type": "stream",
     "text": [
      "[Parallel(n_jobs=-1)]: Done 113 tasks      | elapsed:  7.0min\n"
     ]
    },
    {
     "name": "stdout",
     "output_type": "stream",
     "text": [
      "[CV] . n_neighbors=19, weights=distance, score=0.903759, total=  18.3s\n",
      "[CV] n_neighbors=22, weights=distance ................................\n",
      "[CV] .. n_neighbors=20, weights=uniform, score=0.918123, total=  18.5s\n",
      "[CV] n_neighbors=22, weights=distance ................................\n",
      "[CV] .. n_neighbors=20, weights=uniform, score=0.903097, total=  18.5s\n",
      "[CV] n_neighbors=22, weights=distance ................................\n",
      "[CV] .. n_neighbors=20, weights=uniform, score=0.902757, total=  18.2s\n",
      "[CV] n_neighbors=23, weights=uniform .................................\n",
      "[CV] . n_neighbors=20, weights=distance, score=0.920120, total=  18.4s\n",
      "[CV] n_neighbors=23, weights=uniform .................................\n",
      "[CV] . n_neighbors=20, weights=distance, score=0.908092, total=  18.4s\n",
      "[CV] n_neighbors=23, weights=uniform .................................\n",
      "[CV] . n_neighbors=20, weights=distance, score=0.907268, total=  18.3s\n",
      "[CV] n_neighbors=23, weights=distance ................................\n",
      "[CV] .. n_neighbors=21, weights=uniform, score=0.914628, total=  18.4s\n",
      "[CV] .. n_neighbors=21, weights=uniform, score=0.902597, total=  18.4s\n",
      "[CV] n_neighbors=23, weights=distance ................................\n",
      "[CV] n_neighbors=23, weights=distance ................................\n",
      "[CV] .. n_neighbors=21, weights=uniform, score=0.902256, total=  18.3s\n",
      "[CV] n_neighbors=24, weights=uniform .................................\n",
      "[CV] . n_neighbors=21, weights=distance, score=0.917124, total=  18.4s\n",
      "[CV] n_neighbors=24, weights=uniform .................................\n",
      "[CV] . n_neighbors=21, weights=distance, score=0.906593, total=  18.4s\n",
      "[CV] n_neighbors=24, weights=uniform .................................\n",
      "[CV] .. n_neighbors=22, weights=uniform, score=0.899600, total=  18.4s\n",
      "[CV] n_neighbors=24, weights=distance ................................\n",
      "[CV] . n_neighbors=21, weights=distance, score=0.904762, total=  18.4s\n",
      "[CV] n_neighbors=24, weights=distance ................................\n",
      "[CV] .. n_neighbors=22, weights=uniform, score=0.917124, total=  18.4s\n",
      "[CV] n_neighbors=24, weights=distance ................................\n",
      "[CV] .. n_neighbors=22, weights=uniform, score=0.901754, total=  18.4s\n",
      "[CV] n_neighbors=25, weights=uniform .................................\n",
      "[CV] . n_neighbors=22, weights=distance, score=0.919621, total=  18.5s\n",
      "[CV] n_neighbors=25, weights=uniform .................................\n"
     ]
    },
    {
     "name": "stderr",
     "output_type": "stream",
     "text": [
      "[Parallel(n_jobs=-1)]: Done 130 tasks      | elapsed:  7.9min\n"
     ]
    },
    {
     "name": "stdout",
     "output_type": "stream",
     "text": [
      "[CV] . n_neighbors=22, weights=distance, score=0.905095, total=  18.5s\n",
      "[CV] n_neighbors=25, weights=uniform .................................\n",
      "[CV] .. n_neighbors=23, weights=uniform, score=0.912631, total=  18.4s\n",
      "[CV] n_neighbors=25, weights=distance ................................\n",
      "[CV] . n_neighbors=22, weights=distance, score=0.904762, total=  18.5s\n",
      "[CV] n_neighbors=25, weights=distance ................................\n",
      "[CV] .. n_neighbors=23, weights=uniform, score=0.899101, total=  18.4s\n",
      "[CV] n_neighbors=25, weights=distance ................................\n",
      "[CV] .. n_neighbors=23, weights=uniform, score=0.897243, total=  18.3s\n",
      "[CV] n_neighbors=26, weights=uniform .................................\n",
      "[CV] . n_neighbors=23, weights=distance, score=0.914129, total=  18.4s\n",
      "[CV] n_neighbors=26, weights=uniform .................................\n",
      "[CV] .. n_neighbors=24, weights=uniform, score=0.911633, total=  18.3s\n",
      "[CV] n_neighbors=26, weights=uniform .................................\n",
      "[CV] . n_neighbors=23, weights=distance, score=0.901754, total=  18.4s\n",
      "[CV] n_neighbors=26, weights=distance ................................\n",
      "[CV] . n_neighbors=23, weights=distance, score=0.903097, total=  18.5s\n",
      "[CV] n_neighbors=26, weights=distance ................................\n",
      "[CV] .. n_neighbors=24, weights=uniform, score=0.898102, total=  18.5s\n",
      "[CV] n_neighbors=26, weights=distance ................................\n",
      "[CV] . n_neighbors=24, weights=distance, score=0.915627, total=  18.3s\n",
      "[CV] n_neighbors=27, weights=uniform .................................\n",
      "[CV] .. n_neighbors=24, weights=uniform, score=0.897243, total=  18.3s\n",
      "[CV] n_neighbors=27, weights=uniform .................................\n",
      "[CV] . n_neighbors=24, weights=distance, score=0.902098, total=  18.5s\n",
      "[CV] n_neighbors=27, weights=uniform .................................\n",
      "[CV] . n_neighbors=24, weights=distance, score=0.898747, total=  18.5s\n",
      "[CV] n_neighbors=27, weights=distance ................................\n",
      "[CV] .. n_neighbors=25, weights=uniform, score=0.909636, total=  18.4s\n",
      "[CV] n_neighbors=27, weights=distance ................................\n",
      "[CV] .. n_neighbors=25, weights=uniform, score=0.897103, total=  18.4s\n",
      "[CV] n_neighbors=27, weights=distance ................................\n",
      "[CV] .. n_neighbors=25, weights=uniform, score=0.896742, total=  18.4s\n",
      "[CV] n_neighbors=28, weights=uniform .................................\n",
      "[CV] . n_neighbors=25, weights=distance, score=0.901099, total=  18.4s\n",
      "[CV] n_neighbors=28, weights=uniform .................................\n",
      "[CV] . n_neighbors=25, weights=distance, score=0.914129, total=  18.4s\n",
      "[CV] n_neighbors=28, weights=uniform .................................\n",
      "[CV] . n_neighbors=25, weights=distance, score=0.899248, total=  18.3s\n",
      "[CV] n_neighbors=28, weights=distance ................................\n",
      "[CV] .. n_neighbors=26, weights=uniform, score=0.909636, total=  18.5s\n",
      "[CV] n_neighbors=28, weights=distance ................................\n",
      "[CV] .. n_neighbors=26, weights=uniform, score=0.893606, total=  18.5s\n",
      "[CV] n_neighbors=28, weights=distance ................................\n",
      "[CV] .. n_neighbors=26, weights=uniform, score=0.896241, total=  18.3s\n",
      "[CV] n_neighbors=29, weights=uniform .................................\n",
      "[CV] . n_neighbors=26, weights=distance, score=0.912631, total=  18.5s\n",
      "[CV] n_neighbors=29, weights=uniform .................................\n",
      "[CV] . n_neighbors=26, weights=distance, score=0.899600, total=  18.5s\n",
      "[CV] n_neighbors=29, weights=uniform .................................\n",
      "[CV] .. n_neighbors=27, weights=uniform, score=0.891608, total=  18.3s\n",
      "[CV] n_neighbors=29, weights=distance ................................\n",
      "[CV] . n_neighbors=26, weights=distance, score=0.899749, total=  18.4s\n",
      "[CV] n_neighbors=29, weights=distance ................................\n",
      "[CV] .. n_neighbors=27, weights=uniform, score=0.908637, total=  18.4s\n",
      "[CV] n_neighbors=29, weights=distance ................................\n",
      "[CV] .. n_neighbors=27, weights=uniform, score=0.892231, total=  18.5s\n",
      "[CV] . n_neighbors=27, weights=distance, score=0.909636, total=  18.5s\n",
      "[CV] . n_neighbors=27, weights=distance, score=0.898246, total=  18.4s\n"
     ]
    },
    {
     "name": "stderr",
     "output_type": "stream",
     "text": [
      "[Parallel(n_jobs=-1)]: Done 161 out of 174 | elapsed:  9.7min remaining:   46.9s\n"
     ]
    },
    {
     "name": "stdout",
     "output_type": "stream",
     "text": [
      "[CV] .. n_neighbors=28, weights=uniform, score=0.886114, total=  17.9s\n",
      "[CV] . n_neighbors=27, weights=distance, score=0.896603, total=  18.4s\n",
      "[CV] .. n_neighbors=28, weights=uniform, score=0.909136, total=  18.4s\n",
      "[CV] .. n_neighbors=28, weights=uniform, score=0.890727, total=  18.3s\n",
      "[CV] . n_neighbors=28, weights=distance, score=0.911133, total=  18.3s\n",
      "[CV] .. n_neighbors=29, weights=uniform, score=0.892231, total=  15.0s\n",
      "[CV] . n_neighbors=28, weights=distance, score=0.891109, total=  16.0s\n",
      "[CV] .. n_neighbors=29, weights=uniform, score=0.908637, total=  17.3s\n",
      "[CV] .. n_neighbors=29, weights=uniform, score=0.887113, total=  17.2s\n",
      "[CV] . n_neighbors=29, weights=distance, score=0.911133, total=  17.8s\n",
      "[CV] . n_neighbors=28, weights=distance, score=0.894236, total=  17.0s\n",
      "[CV] . n_neighbors=29, weights=distance, score=0.890609, total=  17.9s\n",
      "[CV] . n_neighbors=29, weights=distance, score=0.896241, total=  17.8s\n"
     ]
    },
    {
     "name": "stderr",
     "output_type": "stream",
     "text": [
      "[Parallel(n_jobs=-1)]: Done 174 out of 174 | elapsed:  9.9min finished\n"
     ]
    },
    {
     "data": {
      "text/plain": [
       "{'n_neighbors': 4, 'weights': 'distance'}"
      ]
     },
     "execution_count": 22,
     "metadata": {},
     "output_type": "execute_result"
    }
   ],
   "source": [
    "from sklearn.neighbors import KNeighborsClassifier\n",
    "from sklearn.model_selection import GridSearchCV\n",
    "\n",
    "param_grid = [\n",
    "    {\n",
    "     x'n_neighbors': np.arange(1,30), \n",
    "     'weights':['uniform', 'distance']\n",
    "    }\n",
    "]\n",
    "\n",
    "knclf = KNeighborsClassifier()\n",
    "\n",
    "grid_search = GridSearchCV(knclf, param_grid, cv=3, scoring=\"accuracy\", verbose=10, n_jobs=-1)\n",
    "# since the training set is so large I decided to only use 1/4 of it.\n",
    "grid_search.fit(X_train[:6000], y_train[:6000])\n",
    "grid_search.best_params_"
   ]
  },
  {
   "cell_type": "code",
   "execution_count": 63,
   "metadata": {
    "collapsed": false
   },
   "outputs": [
    {
     "data": {
      "text/plain": [
       "0.97140000000000004"
      ]
     },
     "execution_count": 63,
     "metadata": {},
     "output_type": "execute_result"
    }
   ],
   "source": [
    "from sklearn.metrics import accuracy_score\n",
    "\n",
    "knclf = KNeighborsClassifier(n_neighbors=4, weights='distance')\n",
    "knclf.fit(X_train, y_train)\n",
    "predicted = knclf.predict(X_test)\n",
    "score = accuracy_score(y_test, predicted)\n",
    "score"
   ]
  },
  {
   "cell_type": "markdown",
   "metadata": {},
   "source": [
    "## Exercise 2 "
   ]
  },
  {
   "cell_type": "code",
   "execution_count": 49,
   "metadata": {
    "collapsed": false
   },
   "outputs": [],
   "source": [
    "%matplotlib inline\n",
    "import matplotlib\n",
    "import matplotlib.pyplot as plt\n",
    "from scipy import ndimage\n",
    "import progressbar\n",
    "\n",
    "bar = progressbar.ProgressBar()\n",
    "\n",
    "def make_shifts(image):\n",
    "    left = ndimage.interpolation.shift(image,[0,-1], cval=0).reshape(1,784)\n",
    "    right = ndimage.interpolation.shift(image,[0,1], cval=0).reshape(1,784)\n",
    "    up = ndimage.interpolation.shift(image,[-1,0], cval=0).reshape(1, 784)\n",
    "    down = ndimage.interpolation.shift(image,[1,0], cval=0).reshape(1, 784)\n",
    "    \n",
    "    return np.concatenate((left, right, up, down))\n",
    "\n",
    "X_train_shifts = make_shifts(X_train[0].reshape((28,28)))\n",
    "y_train_shifts = [y_train[0] for i in range(0, 4)]\n",
    "\n",
    "for i in bar(range(1, len(X_train))):\n",
    "    image = X_train[i].reshape((28, 28))\n",
    "    shifts = make_shifts(image)\n",
    "    X_train_shifts = np.concatenate((X_train_shifts, shifts))\n",
    "    y_train_shifts = y_train_shifts + [y_train[i] for j in range(0, 4)]\n",
    "    \n",
    "X_train_shifts = np.concatenate((X_train, X_train_shifts))\n",
    "y_train_shifts = np.concatenate((y_train, y_train_shifts))"
   ]
  },
  {
   "cell_type": "code",
   "execution_count": 62,
   "metadata": {
    "collapsed": false
   },
   "outputs": [
    {
     "data": {
      "text/plain": [
       "0.97629999999999995"
      ]
     },
     "execution_count": 62,
     "metadata": {},
     "output_type": "execute_result"
    }
   ],
   "source": [
    "from sklearn.neighbors import KNeighborsClassifier\n",
    "\n",
    "knclf = KNeighborsClassifier(n_neighbors=4, weights='distance')\n",
    "knclf.fit(X_train_shifts, y_train_shifts)\n",
    "predicted = knclf.predict(X_test)\n",
    "score = accuracy_score(y_test, predicted)\n",
    "score"
   ]
  },
  {
   "cell_type": "markdown",
   "metadata": {
    "collapsed": true
   },
   "source": [
    "## Exercise 4 "
   ]
  },
  {
   "cell_type": "markdown",
   "metadata": {},
   "source": [
    "### Part  1 and 2"
   ]
  },
  {
   "cell_type": "code",
   "execution_count": 24,
   "metadata": {
    "collapsed": true
   },
   "outputs": [],
   "source": [
    "import os\n",
    "import pandas as pd\n",
    "import numpy as np\n",
    "\n",
    "SPAM_PATH = \"datasets/spam\"\n",
    "\n",
    "def load_spam_data():\n",
    "    csv_path = os.path.join(os.getcwd(), SPAM_PATH + '/spam.csv')\n",
    "    print(csv_path)\n",
    "    return pd.read_csv(csv_path, encoding='latin-1')"
   ]
  },
  {
   "cell_type": "code",
   "execution_count": 29,
   "metadata": {
    "collapsed": false
   },
   "outputs": [
    {
     "name": "stdout",
     "output_type": "stream",
     "text": [
      "/Users/Dayo/repos/Learning-Data-Science/hands_on_ml/datasets/spam/spam.csv\n"
     ]
    },
    {
     "data": {
      "text/html": [
       "<div>\n",
       "<table border=\"1\" class=\"dataframe\">\n",
       "  <thead>\n",
       "    <tr style=\"text-align: right;\">\n",
       "      <th></th>\n",
       "      <th>v1</th>\n",
       "      <th>v2</th>\n",
       "      <th>Unnamed: 2</th>\n",
       "      <th>Unnamed: 3</th>\n",
       "      <th>Unnamed: 4</th>\n",
       "    </tr>\n",
       "  </thead>\n",
       "  <tbody>\n",
       "    <tr>\n",
       "      <th>0</th>\n",
       "      <td>ham</td>\n",
       "      <td>Go until jurong point, crazy.. Available only ...</td>\n",
       "      <td>NaN</td>\n",
       "      <td>NaN</td>\n",
       "      <td>NaN</td>\n",
       "    </tr>\n",
       "    <tr>\n",
       "      <th>1</th>\n",
       "      <td>ham</td>\n",
       "      <td>Ok lar... Joking wif u oni...</td>\n",
       "      <td>NaN</td>\n",
       "      <td>NaN</td>\n",
       "      <td>NaN</td>\n",
       "    </tr>\n",
       "    <tr>\n",
       "      <th>2</th>\n",
       "      <td>spam</td>\n",
       "      <td>Free entry in 2 a wkly comp to win FA Cup fina...</td>\n",
       "      <td>NaN</td>\n",
       "      <td>NaN</td>\n",
       "      <td>NaN</td>\n",
       "    </tr>\n",
       "    <tr>\n",
       "      <th>3</th>\n",
       "      <td>ham</td>\n",
       "      <td>U dun say so early hor... U c already then say...</td>\n",
       "      <td>NaN</td>\n",
       "      <td>NaN</td>\n",
       "      <td>NaN</td>\n",
       "    </tr>\n",
       "    <tr>\n",
       "      <th>4</th>\n",
       "      <td>ham</td>\n",
       "      <td>Nah I don't think he goes to usf, he lives aro...</td>\n",
       "      <td>NaN</td>\n",
       "      <td>NaN</td>\n",
       "      <td>NaN</td>\n",
       "    </tr>\n",
       "  </tbody>\n",
       "</table>\n",
       "</div>"
      ],
      "text/plain": [
       "     v1                                                 v2 Unnamed: 2  \\\n",
       "0   ham  Go until jurong point, crazy.. Available only ...        NaN   \n",
       "1   ham                      Ok lar... Joking wif u oni...        NaN   \n",
       "2  spam  Free entry in 2 a wkly comp to win FA Cup fina...        NaN   \n",
       "3   ham  U dun say so early hor... U c already then say...        NaN   \n",
       "4   ham  Nah I don't think he goes to usf, he lives aro...        NaN   \n",
       "\n",
       "  Unnamed: 3 Unnamed: 4  \n",
       "0        NaN        NaN  \n",
       "1        NaN        NaN  \n",
       "2        NaN        NaN  \n",
       "3        NaN        NaN  \n",
       "4        NaN        NaN  "
      ]
     },
     "execution_count": 29,
     "metadata": {},
     "output_type": "execute_result"
    }
   ],
   "source": [
    "spam = load_spam_data()\n",
    "spam.head()"
   ]
  },
  {
   "cell_type": "code",
   "execution_count": 30,
   "metadata": {
    "collapsed": true
   },
   "outputs": [],
   "source": [
    "# Drop column and change names\n",
    "spam.drop(['Unnamed: 2', 'Unnamed: 3', 'Unnamed: 4'], axis=1, inplace=True)\n",
    "spam.rename(columns={\"v1\":\"label\", \"v2\":\"text\"}, inplace=True)"
   ]
  },
  {
   "cell_type": "code",
   "execution_count": 31,
   "metadata": {
    "collapsed": false
   },
   "outputs": [
    {
     "data": {
      "text/html": [
       "<div>\n",
       "<table border=\"1\" class=\"dataframe\">\n",
       "  <thead>\n",
       "    <tr style=\"text-align: right;\">\n",
       "      <th></th>\n",
       "      <th>label</th>\n",
       "      <th>text</th>\n",
       "    </tr>\n",
       "  </thead>\n",
       "  <tbody>\n",
       "    <tr>\n",
       "      <th>5567</th>\n",
       "      <td>spam</td>\n",
       "      <td>This is the 2nd time we have tried 2 contact u...</td>\n",
       "    </tr>\n",
       "    <tr>\n",
       "      <th>5568</th>\n",
       "      <td>ham</td>\n",
       "      <td>Will Ì_ b going to esplanade fr home?</td>\n",
       "    </tr>\n",
       "    <tr>\n",
       "      <th>5569</th>\n",
       "      <td>ham</td>\n",
       "      <td>Pity, * was in mood for that. So...any other s...</td>\n",
       "    </tr>\n",
       "    <tr>\n",
       "      <th>5570</th>\n",
       "      <td>ham</td>\n",
       "      <td>The guy did some bitching but I acted like i'd...</td>\n",
       "    </tr>\n",
       "    <tr>\n",
       "      <th>5571</th>\n",
       "      <td>ham</td>\n",
       "      <td>Rofl. Its true to its name</td>\n",
       "    </tr>\n",
       "  </tbody>\n",
       "</table>\n",
       "</div>"
      ],
      "text/plain": [
       "     label                                               text\n",
       "5567  spam  This is the 2nd time we have tried 2 contact u...\n",
       "5568   ham              Will Ì_ b going to esplanade fr home?\n",
       "5569   ham  Pity, * was in mood for that. So...any other s...\n",
       "5570   ham  The guy did some bitching but I acted like i'd...\n",
       "5571   ham                         Rofl. Its true to its name"
      ]
     },
     "execution_count": 31,
     "metadata": {},
     "output_type": "execute_result"
    }
   ],
   "source": [
    "spam.tail()"
   ]
  },
  {
   "cell_type": "markdown",
   "metadata": {},
   "source": [
    "### Part 3"
   ]
  },
  {
   "cell_type": "code",
   "execution_count": null,
   "metadata": {
    "collapsed": true
   },
   "outputs": [],
   "source": [
    "from sklearn.model_selection import train_test_split\n",
    "train_set, test_set = train_test_split(spam, test_size=0.2, random_state=42)"
   ]
  },
  {
   "cell_type": "markdown",
   "metadata": {},
   "source": [
    "### Part 4 "
   ]
  },
  {
   "cell_type": "code",
   "execution_count": null,
   "metadata": {
    "collapsed": true
   },
   "outputs": [],
   "source": [
    "from sklearn.feature_extraction.text import CountVectorizer\n",
    "from sklearn.feature_extraction.text import TfidfTransformer"
   ]
  }
 ],
 "metadata": {
  "anaconda-cloud": {},
  "kernelspec": {
   "display_name": "Python 3",
   "language": "python",
   "name": "python3"
  }
 },
 "nbformat": 4,
 "nbformat_minor": 1
}
